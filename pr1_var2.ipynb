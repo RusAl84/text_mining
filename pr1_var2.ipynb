{
  "nbformat": 4,
  "nbformat_minor": 0,
  "metadata": {
    "colab": {
      "provenance": [],
      "authorship_tag": "ABX9TyM58E2CH1MnQ0XY97Lrj4fl",
      "include_colab_link": true
    },
    "kernelspec": {
      "name": "python3",
      "display_name": "Python 3"
    },
    "language_info": {
      "name": "python"
    }
  },
  "cells": [
    {
      "cell_type": "markdown",
      "metadata": {
        "id": "view-in-github",
        "colab_type": "text"
      },
      "source": [
        "<a href=\"https://colab.research.google.com/github/RusAl84/text_mining/blob/master/pr1_var2.ipynb\" target=\"_parent\"><img src=\"https://colab.research.google.com/assets/colab-badge.svg\" alt=\"Open In Colab\"/></a>"
      ]
    },
    {
      "cell_type": "code",
      "execution_count": 1,
      "metadata": {
        "colab": {
          "base_uri": "https://localhost:8080/"
        },
        "id": "a5jaroHEMYtd",
        "outputId": "75ebb184-33e4-4bff-ce6c-0ea411ac196b"
      },
      "outputs": [
        {
          "output_type": "stream",
          "name": "stdout",
          "text": [
            "Институт перспективных технологий и индустриального программирования\n",
            "Институт технологий управления\n",
            "Институт информационных технологий\n",
            "Институт искусственного интеллекта\n",
            "Институт кибербезопасности и цифровых технологий\n",
            "Институт радиоэлектроники и информатики\n",
            "Институт тонких химических технологий им. М.В. Ломоносова\n",
            "Филиал в городе Ставрополе\n",
            "Институт перспективных технологий и индустриального программирования\n",
            "Институт технологий управления\n",
            "Институт информационных технологий\n",
            "Институт искусственного интеллекта\n",
            "Институт кибербезопасности и цифровых технологий\n",
            "Институт радиоэлектроники и информатики\n",
            "Институт тонких химических технологий им. М.В. Ломоносова\n",
            "Институт перспективных технологий и индустриального программирования\n",
            "Институт технологий управления\n",
            "Институт информационных технологий\n",
            "Институт искусственного интеллекта\n",
            "Институт кибербезопасности и цифровых технологий\n",
            "Институт радиоэлектроники и информатики\n",
            "Институт тонких химических технологий им. М.В. Ломоносова\n",
            "https://webservices.mirea.ru/upload/iblock/d18/jxh2r21eno0pzp71qt57kry8gk8lbdsm/IPTIP_1-kurs_26.09.xlsx\n",
            "https://webservices.mirea.ru/upload/iblock/9bd/hq43521tkhylt4w1dl451a3ln78ya997/IPTIP_2-kurs_26.09.xlsx\n",
            "https://webservices.mirea.ru/upload/iblock/c60/59jr56jyv9ft7gj3vrx6l2m03lxiyy8m/IPTIP_3-kurs_26.09.xlsx\n",
            "https://webservices.mirea.ru/upload/iblock/26c/53kbgk861ifqc7v5vuw9acurxujniqn1/IPTIP_4-kurs_26.09.xlsx\n",
            "https://webservices.mirea.ru/upload/iblock/11e/ht057cdj3i05e4qrwss472luok8mmcjk/IPTIP_5-kurs_22.09.xlsx\n",
            "https://webservices.mirea.ru/upload/iblock/c68/770x9af4yp2ir2x3kbvjj530evbnjgvp/IPTIP_Stromynka_1_k_osen_23.xlsx\n",
            "https://webservices.mirea.ru/upload/iblock/a77/gvitu1yhzw2w4n9bc46yndzmr4ex8xvr/IPTIP_Stromynka_2_k_osen_23.xlsx\n",
            "https://webservices.mirea.ru/upload/iblock/598/nkr2qwoefv12iym2qpwypqrh0ofa3pqy/IPTIP_Stromynka_3_k_osen_23.xlsx\n",
            "https://webservices.mirea.ru/upload/iblock/e61/54hwgsqqz3y5h860qq71w2k3anokra44/IPTIP_Stromynka_4_k_osen_23.xlsx\n",
            "https://webservices.mirea.ru/upload/iblock/c73/pdc3pfx70nra62mrp1hsi7ukx3zz54py/IPTIP_1kurs_osen_2023_2024.xlsx\n",
            "https://webservices.mirea.ru/upload/iblock/91e/79j8jlhxziyo0ggnikbscxjqell1tg9r/IPTIP_2kurs_osen_2023_2024.xlsx\n",
            "https://webservices.mirea.ru/upload/iblock/565/a9x0i1hyqzhn1eyjk0gm9xzefon076iv/IPTIP_3kurs_osen_2023_2024.xlsx\n",
            "https://webservices.mirea.ru/upload/iblock/37b/bgslf2suq3q5ur3qca13t4g2pkmc4oyq/IPTIP_4kurs_osen_2023_2024.xlsx\n",
            "https://webservices.mirea.ru/upload/iblock/f65/ucu6hr22vur3th6i8ao6v76nmlea2eje/IPTIP_3kurs_osen_2023_2024.xlsx\n",
            "https://webservices.mirea.ru/upload/iblock/cfe/896fi7nkpsk2p6xizrmnz67tstrym22t/IPTIP_4kurs_osen_2023_2024.xlsx\n"
          ]
        }
      ],
      "source": [
        "from bs4 import BeautifulSoup\n",
        "import requests\n",
        "# import urllib.parse\n",
        "\n",
        "\n",
        "def get_urls(url):\n",
        "    page = requests.get(url)\n",
        "    # if page.status_code == 200:\n",
        "    #     print(url + \" 200\")\n",
        "\n",
        "    soup = BeautifulSoup(page.text, \"html.parser\")\n",
        "    insts = []\n",
        "\n",
        "    # /html/body/div[2]/div[2]/div/div/div[2]/div[4]/div[1]/div/ul[2]/li[1]/div/div[4]/div\n",
        "    #tab-content > li.uk-active > div > div:nth-child(4) > div\n",
        "    #\n",
        "    # <div class=\"uk-card slider_ads uk-card-body uk-card-small\">\n",
        "    blocks = soup.findAll(True, {\"class\": [\"uk-card\", \"slider_ads\", \"uk-card-body\", \"uk-card-small\"]})\n",
        "\n",
        "    urls = []\n",
        "    num_inst = 0\n",
        "    for block in blocks:\n",
        "        soup_inst = BeautifulSoup(str(block), \"html.parser\")\n",
        "        inst = soup_inst.find_all(\"a\", {\"class\": \"uk-text-bold\"})\n",
        "        if len(inst) > 0:\n",
        "            pass\n",
        "            print(inst[0].text)  # список институтов\n",
        "\n",
        "            # if inst[0].text == 'Институт кибербезопасности и цифровых технологий' \\\n",
        "            #         or inst[0].text == 'Институт перспективных технологий и индустриального программирования' \\\n",
        "            #         or inst[0].text == 'Институт технологий управления':\n",
        "\n",
        "            if inst[0].text == 'Институт перспективных технологий и индустриального программирования':\n",
        "                num_inst += 1\n",
        "                num = 1\n",
        "                for link in soup_inst.find_all('a', href=True):\n",
        "                    # print(link['href'])\n",
        "                    if \"javascript:void(0)\" not in link['href']:\n",
        "                        # print(link['href'])\n",
        "                        url = []\n",
        "                        url.append(link['href'])\n",
        "                        url.append(str(num_inst) + \"_\" + str(num) + \"_k_osen_22_23.xls\")\n",
        "                        url.append(inst[0].text)\n",
        "                        num += 1\n",
        "                        if \"pdf\" not in link['href']:\n",
        "                            # urls.append(url)\n",
        "                            if not \"mag\" in link['href']:\n",
        "                                urls.append(url)\n",
        "                            # print(url)\n",
        "    return urls\n",
        "\n",
        "\n",
        "if __name__ == '__main__':\n",
        "    url=\"https://www.mirea.ru/schedule/\"\n",
        "    urls = get_urls(url)\n",
        "    for url in urls:\n",
        "        print(url[0])\n"
      ]
    }
  ]
}