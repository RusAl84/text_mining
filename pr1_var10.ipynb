{
  "nbformat": 4,
  "nbformat_minor": 0,
  "metadata": {
    "colab": {
      "provenance": [],
      "authorship_tag": "ABX9TyNwRiArY8JI3H6nRa3QWSYw",
      "include_colab_link": true
    },
    "kernelspec": {
      "name": "python3",
      "display_name": "Python 3"
    },
    "language_info": {
      "name": "python"
    }
  },
  "cells": [
    {
      "cell_type": "markdown",
      "metadata": {
        "id": "view-in-github",
        "colab_type": "text"
      },
      "source": [
        "<a href=\"https://colab.research.google.com/github/RusAl84/text_mining/blob/master/pr1_var10.ipynb\" target=\"_parent\"><img src=\"https://colab.research.google.com/assets/colab-badge.svg\" alt=\"Open In Colab\"/></a>"
      ]
    },
    {
      "cell_type": "code",
      "execution_count": 2,
      "metadata": {
        "colab": {
          "base_uri": "https://localhost:8080/"
        },
        "id": "7bxeYXIRltv4",
        "outputId": "b00c6367-4228-4954-d746-e80fcffa5f7a"
      },
      "outputs": [
        {
          "output_type": "stream",
          "name": "stdout",
          "text": [
            "https://webservices.mirea.ru/upload/iblock/761/0nxn7y08yw6f7st5ymmyybhc10y8plrm/mag_IKTST_1_k_osen_23_29.09.2023.xlsx\n",
            "https://webservices.mirea.ru/upload/iblock/2c0/uj1yo2ev2qr0tkh24ylczxn5onbn7yqp/mag_IKTST_2_k_osen_23_25.09.2023.xlsx\n"
          ]
        }
      ],
      "source": [
        "from bs4 import BeautifulSoup\n",
        "import requests\n",
        "# import urllib.parse\n",
        "\n",
        "\n",
        "def get_urls(url):\n",
        "    page = requests.get(url)\n",
        "    # if page.status_code == 200:\n",
        "    #     print(url + \" 200\")\n",
        "\n",
        "    soup = BeautifulSoup(page.text, \"html.parser\")\n",
        "    insts = []\n",
        "\n",
        "    # /html/body/div[2]/div[2]/div/div/div[2]/div[4]/div[1]/div/ul[2]/li[1]/div/div[4]/div\n",
        "    #tab-content > li.uk-active > div > div:nth-child(4) > div\n",
        "    #\n",
        "    # <div class=\"uk-card slider_ads uk-card-body uk-card-small\">\n",
        "    blocks = soup.findAll(True, {\"class\": [\"uk-card\", \"slider_ads\", \"uk-card-body\", \"uk-card-small\"]})\n",
        "\n",
        "    urls = []\n",
        "    num_inst = 0\n",
        "    for block in blocks:\n",
        "        soup_inst = BeautifulSoup(str(block), \"html.parser\")\n",
        "        inst = soup_inst.find_all(\"a\", {\"class\": \"uk-text-bold\"})\n",
        "        if len(inst) > 0:\n",
        "            pass\n",
        "            # print(inst[0].text)  # список институтов\n",
        "\n",
        "            # if inst[0].text == 'Институт кибербезопасности и цифровых технологий' \\\n",
        "            #         or inst[0].text == 'Институт перспективных технологий и индустриального программирования' \\\n",
        "            #         or inst[0].text == 'Институт технологий управления':\n",
        "\n",
        "            if inst[0].text == 'Институт кибербезопасности и цифровых технологий':\n",
        "                num_inst += 1\n",
        "                num = 1\n",
        "                for link in soup_inst.find_all('a', href=True):\n",
        "                    # print(link['href'])\n",
        "                    if \"javascript:void(0)\" not in link['href']:\n",
        "                        # print(link['href'])\n",
        "                        url = []\n",
        "                        url.append(link['href'])\n",
        "                        url.append(str(num_inst) + \"_\" + str(num) + \"_k_osen_22_23.xls\")\n",
        "                        url.append(inst[0].text)\n",
        "                        num += 1\n",
        "                        if \"pdf\" not in link['href']:\n",
        "                            # urls.append(url)\n",
        "                            if \"mag\" in link['href']:\n",
        "                                urls.append(url)\n",
        "                            # print(url)\n",
        "    return urls\n",
        "\n",
        "\n",
        "if __name__ == '__main__':\n",
        "    url=\"https://www.mirea.ru/schedule/\"\n",
        "    urls = get_urls(url)\n",
        "    for url in urls:\n",
        "        print(url[0])\n"
      ]
    }
  ]
}