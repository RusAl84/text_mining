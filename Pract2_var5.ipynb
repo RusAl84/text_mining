{
  "nbformat": 4,
  "nbformat_minor": 0,
  "metadata": {
    "colab": {
      "provenance": [],
      "authorship_tag": "ABX9TyMWT9hlGvZtXseTK6y9ogHu",
      "include_colab_link": true
    },
    "kernelspec": {
      "name": "python3",
      "display_name": "Python 3"
    },
    "language_info": {
      "name": "python"
    }
  },
  "cells": [
    {
      "cell_type": "markdown",
      "metadata": {
        "id": "view-in-github",
        "colab_type": "text"
      },
      "source": [
        "<a href=\"https://colab.research.google.com/github/RusAl84/text_mining/blob/master/Pract2_var5.ipynb\" target=\"_parent\"><img src=\"https://colab.research.google.com/assets/colab-badge.svg\" alt=\"Open In Colab\"/></a>"
      ]
    },
    {
      "cell_type": "code",
      "execution_count": 1,
      "metadata": {
        "colab": {
          "base_uri": "https://localhost:8080/"
        },
        "id": "hBqLIz7fWsMO",
        "outputId": "ae386973-8603-440c-857e-3a542026b4a5"
      },
      "outputs": [
        {
          "output_type": "stream",
          "name": "stdout",
          "text": [
            "['БАСО-01-19', 'БАСО-02-19', 'БАСО-03-19', 'БАСО-04-19', 'БАСО-05-19', 'ББСО-01-19', 'ББСО-02-19', 'ББСО-03-19', 'ББСО-04-19', 'БИСО-01-19', 'БИСО-02-19', 'БИСО-03-19', 'БОСО-01-19', 'БОСО-02-19', 'БОСО-03-19', 'БПСО-01-19', 'БЭСО-01-19', 'БЭСО-02-19', 'БЭСО-03-19', 'БЭСО-04-19', 'БЭСО-05-19', 'БЭСО-06-19']\n"
          ]
        }
      ],
      "source": [
        "import numpy as np\n",
        "import pandas as pd\n",
        "\n",
        "df = pd.read_excel('test.xlsx', index_col=0)\n",
        "\n",
        "\n",
        "# Вариант 5: Найти список всех групп для которых проводят занятия\n",
        "all_groups=[]\n",
        "count_rows = len(df.axes[1])\n",
        "for i in range(4, count_rows, 15):\n",
        "    all_groups.append(df.iloc[0,i])\n",
        "    all_groups.append(df.iloc[0,i+5])\n",
        "print(all_groups)"
      ]
    }
  ]
}