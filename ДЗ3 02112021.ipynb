{
  "nbformat": 4,
  "nbformat_minor": 0,
  "metadata": {
    "colab": {
      "name": "Лекция 1. Введение в обр. текстов на Python",
      "provenance": [],
      "collapsed_sections": [],
      "authorship_tag": "ABX9TyMWEg1Gq2GLkTBNZb40HJRD",
      "include_colab_link": true
    },
    "kernelspec": {
      "name": "python3",
      "display_name": "Python 3"
    }
  },
  "cells": [
    {
      "cell_type": "markdown",
      "metadata": {
        "id": "view-in-github",
        "colab_type": "text"
      },
      "source": [
        "<a href=\"https://colab.research.google.com/github/RusAl84/text_mining/blob/master/%D0%94%D0%973%2002112021.ipynb\" target=\"_parent\"><img src=\"https://colab.research.google.com/assets/colab-badge.svg\" alt=\"Open In Colab\"/></a>"
      ]
    },
    {
      "cell_type": "markdown",
      "metadata": {
        "id": "klN_zix5Vqir"
      },
      "source": [
        "#TF-IDF\n",
        "\n",
        "У подхода bag-of-words есть существенный недостаток. Если слово встречается 5 раз в конкретном документе, но и в других документах тоже встречается часто, то его наличие в документе не особо-то о чём-то говорит. Если же слово 5 раз встречается в конкретном документе, но в других документах встречается редко, то его наличие (да ещё и многократное) позволяет хорошо отличать этот документ от других. Однако с точки зрения bag-of-words различий не будет: в обеих ячейках будет просто число 5.\n",
        "\n",
        "Отчасти это решается исключением стоп-слов (и слишком часто встречающихся слов), но лишь отчасти. Другой идеей является отмасштабировать получившуюся таблицу с учётом \"редкости\" слова в наборе документов (т.е. с учётом информативности слова).\n",
        "\n",
        "tfidf=tf∗idf\n",
        "\n",
        "idf=log((N+1)/(Nw+1))+1\n",
        "\n",
        "Здесь tf это частота слова в тексте (то же самое, что в bag of words), N - общее число документов, Nw - число документов, содержащих данное слово.\n",
        "\n",
        "То есть для каждого слова считается отношение общего количества документов к количеству документов, содержащих данное слово (для частых слов оно будет ближе к 1, для редких слов оно будет стремиться к числу, равному количеству документов), и на логарифм от этого числа умножается исходное значение bag-of-words (к числителю и знаменателю прибавляется единичка, чтобы не делить на 0, и к логарифму тоже прибавляется единичка, но это уже технические детали). После этого в sklearn ещё проводится L2-нормализация каждой строки.\n",
        "\n",
        "В sklearn есть класс для поддержки TF-IDF: TfidfVectorizer, рассмотрим его."
      ]
    },
    {
      "cell_type": "code",
      "metadata": {
        "colab": {
          "base_uri": "https://localhost:8080/"
        },
        "id": "6rl9lfwIGyuZ",
        "outputId": "40e8fbe9-fefa-4d18-fc60-dee9a784ede5"
      },
      "source": [
        "texts = \": \\u041A\\u0430\\u043A \\u043F\\u0435\\u0440\\u0435\\u0434\\u0430\\u043B\\u043E \\u0430\\u0433\\u0435\\u043D\\u0442\\u0441\\u0442\\u0432\\u043E \\\"\\u0418\\u043D\\u0442\\u0435\\u0440\\u0444\\u0430\\u043A\\u0441\\\", \\u0441\\u0435\\u0433\\u043E\\u0434\\u043D\\u044F \\u0432 \\u0447\\u0430\\u0441 \\u0434\\u043D\\u044F \\u043F\\u043E \\u043C\\u043E\\u0441\\u043A\\u043E\\u0432\\u0441\\u043A\\u043E\\u043C\\u0443 \\u0432\\u0440\\u0435\\u043C\\u0435\\u043D\\u0438 \\u0432\\u043E\\u0437\\u043B\\u0435 \\u0437\\u0430\\u0431\\u043E\\u0440\\u0430 \\u0435\\u0432\\u0440\\u0435\\u0439\\u0441\\u043A\\u043E\\u0439 \\u0448\\u043A\\u043E\\u043B\\u044B, \\u043D\\u0430\\u0445\\u043E\\u0434\\u044F\\u0449\\u0435\\u0439\\u0441\\u044F \\u043D\\u0430 \\u041B\\u0435\\u043D\\u0438\\u043D\\u0441\\u043A\\u043E\\u043C \\u043F\\u0440\\u043E\\u0441\\u043F\\u0435\\u043A\\u0442\\u0435 (\\u042E\\u0433\\u043E-\\u0417\\u0430\\u043F\\u0430\\u0434\\u043D\\u044B\\u0439 \\u0430\\u0434\\u043C\\u0438\\u043D\\u0438\\u0441\\u0442\\u0438\\u0432\\u043D\\u044B\\u0439 \\u043E\\u043A\\u0440\\u0443\\u0433) \\u0432 \\u041C\\u043E\\u0441\\u043A\\u0432\\u0435 \\u043E\\u0431\\u043D\\u0430\\u0440\\u0443\\u0436\\u0435\\u043D\\u0430 \\u043C\\u0438\\u043D\\u0430. \\u0418\\u0437 \\u041C\\u0438\\u043D\\u0438\\u0441\\u0442\\u0435\\u0440\\u0441\\u0442\\u0432\\u0430 \\u043F\\u043E \\u0447\\u0440\\u0435\\u0437\\u0432\\u044B\\u0447\\u0430\\u0439\\u043D\\u044B\\u043C \\u0441\\u0438\\u0442\\u0443\\u0430\\u0446\\u0438\\u044F\\u043C \\u0420\\u0424 \\u0441\\u043E\\u043E\\u0431\\u0449\\u0430\\u044E\\u0442, \\u0447\\u0442\\u043E \\u043C\\u0435\\u0441\\u0442\\u043E\\u043D\\u0430\\u0445\\u043E\\u0436\\u0434\\u0435\\u043D\\u0438\\u0435 \\u0432\\u0437\\u0440\\u044B\\u0432\\u043E\\u043E\\u043F\\u0430\\u0441\\u043D\\u043E\\u0433\\u043E \\u043F\\u0440\\u0435\\u0434\\u043C\\u0435\\u0442\\u0430 \\u043E\\u0446\\u0435\\u043F\\u043B\\u0435\\u043D\\u043E \\u0441\\u043E\\u0442\\u0440\\u0443\\u0434\\u043D\\u0438\\u043A\\u0430\\u043C\\u0438 \\u043C\\u0438\\u043B\\u0438\\u0446\\u0438\\u0438. \\u041A \\u043C\\u0435\\u0441\\u0442\\u0443 \\u043F\\u0440\\u043E\\u0438\\u0441\\u0448\\u0435\\u0441\\u0442\\u0432\\u0438\\u044F \\u0441\\u043F\\u0435\\u0448\\u043D\\u043E \\u043F\\u0440\\u0438\\u0431\\u044B\\u043B\\u0438 \\u0441\\u043F\\u0435\\u0446\\u0438\\u0430\\u043B\\u0438\\u0441\\u0442\\u044B \\u043C\\u043E\\u0441\\u043A\\u043E\\u0432\\u0441\\u043A\\u043E\\u0433\\u043E \\u043F\\u043E\\u0438\\u0441\\u043A\\u043E\\u0432\\u043E-\\u0441\\u043F\\u0430\\u0441\\u0430\\u0442\\u0435\\u043B\\u044C\\u043D\\u043E\\u0433\\u043E \\u043E\\u0442\\u0440\\u044F\\u0434\\u0430 \\u041F\\u0421\\u041E-6 \\u0438 \\u043F\\u0438\\u0440\\u043E\\u0442\\u0435\\u0445\\u043D\\u0438\\u043A\\u0438 \\u041C\\u0438\\u043D\\u0438\\u0441\\u0442\\u0435\\u0440\\u0441\\u0442\\u0432\\u0430 \\u043E\\u0431\\u043E\\u0440\\u043E\\u043D\\u044B. \\u0422\\u0438\\u043F \\u0438 \\u043F\\u0440\\u043E\\u0438\\u0441\\u0445\\u043E\\u0436\\u0434\\u0435\\u043D\\u0438\\u0435 \\u043C\\u0438\\u043D\\u044B \\u0443\\u0441\\u0442\\u0430\\u043D\\u043E\\u0432\\u043B\\u0435\\u043D\\u044B: \\u044D\\u0442\\u043E \\u043C\\u0438\\u043D\\u043E\\u043C\\u0435\\u0442\\u043D\\u0430\\u044F \\u043C\\u0438\\u043D\\u0430 \\u0441 \\u043E\\u043F\\u0435\\u0440\\u0435\\u043D\\u0438\\u0435\\u043C \\u0432\\u0440\\u0435\\u043C\\u0435\\u043D \\u0412\\u0435\\u043B\\u0438\\u043A\\u043E\\u0439 \\u041E\\u0442\\u0435\\u0447\\u0435\\u0441\\u0442\\u0432\\u0435\\u043D\\u043D\\u043E\\u0439 \\u0432\\u043E\\u0439\\u043D\\u044B. \\u0415\\u0435 \\u043D\\u0430\\u0448\\u043B\\u0438 \\u043F\\u0440\\u0438 \\u0437\\u0435\\u043C\\u043B\\u044F\\u043D\\u044B\\u0445 \\u0440\\u0430\\u0431\\u043E\\u0442\\u0430\\u0445, \\u0432\\u044B\\u043F\\u043E\\u043B\\u043D\\u044F\\u0432\\u0448\\u0438\\u0445\\u0441\\u044F \\u0440\\u044F\\u0434\\u043E\\u043C \\u0441\\u043E \\u0448\\u043A\\u043E\\u043B\\u043E\\u0439. \\u0417\\u0430 \\u043F\\u043E\\u0441\\u043B\\u0435\\u0434\\u043D\\u0435\\u0435 \\u0434\\u0432\\u043E\\u0435 \\u0441\\u0443\\u0442\\u043E\\u043A \\u044D\\u0442\\u043E \\u0443\\u0436\\u0435 \\u0442\\u0440\\u0435\\u0442\\u044C\\u0435 \\u0427\\u041F \\u0441\\u043E \\u0432\\u0437\\u0440\\u044B\\u0432\\u0447\\u0430\\u0442\\u044B\\u043C\\u0438 \\u0432\\u0435\\u0449\\u0435\\u0441\\u0442\\u0432\\u0430\\u043C\\u0438 \\u0432 \\u041C\\u043E\\u0441\\u043A\\u0432\\u0435: \\u043F\\u043E\\u0437\\u0430\\u0432\\u0447\\u0435\\u0440\\u0430 \\u043F\\u0440\\u043E\\u0433\\u0440\\u0435\\u043C\\u0435\\u043B \\u0432\\u0437\\u0440\\u044B\\u0432 \\u0432 \\u0442\\u043E\\u0440\\u0433\\u043E\\u0432\\u043E\\u043C \\u043A\\u043E\\u043C\\u043F\\u043B\\u0435\\u043A\\u0441\\u0435 \\\"\\u041E\\u0445\\u043E\\u0442\\u043D\\u044B\\u0439 \\u0440\\u044F\\u0434\\\" \\u043D\\u0430 \\u041C\\u0430\\u043D\\u0435\\u0436\\u043D\\u043E\\u0439 \\u043F\\u043B\\u043E\\u0449\\u0430\\u0434\\u0438, \\u0441\\u0435\\u0433\\u043E\\u0434\\u043D\\u044F \\u0431\\u044B\\u043B \\u043D\\u0430\\u0439\\u0434\\u0435\\u0442 \\u043F\\u043E\\u0434\\u043E\\u0437\\u0440\\u0438\\u0442\\u0435\\u043B\\u044C\\u043D\\u044B\\u0439 \\u043F\\u0430\\u043A\\u0435\\u0442 \\u043D\\u0430 \\u041F\\u0430\\u0432\\u0435\\u043B\\u0435\\u0446\\u043A\\u043E\\u043C \\u0432\\u043E\\u043A\\u0437\\u0430\\u043B\\u0435.\" #@param {type:\"string\"}\n",
        "stexts = texts\n",
        "print(texts)"
      ],
      "execution_count": 1,
      "outputs": [
        {
          "output_type": "stream",
          "name": "stdout",
          "text": [
            ": Как передало агентство \"Интерфакс\", сегодня в час дня по московскому времени возле забора еврейской школы, находящейся на Ленинском проспекте (Юго-Западный администивный округ) в Москве обнаружена мина. Из Министерства по чрезвычайным ситуациям РФ сообщают, что местонахождение взрывоопасного предмета оцеплено сотрудниками милиции. К месту происшествия спешно прибыли специалисты московского поисково-спасательного отряда ПСО-6 и пиротехники Министерства обороны. Тип и происхождение мины установлены: это минометная мина с оперением времен Великой Отечественной войны. Ее нашли при земляных работах, выполнявшихся рядом со школой. За последнее двое суток это уже третье ЧП со взрывчатыми веществами в Москве: позавчера прогремел взрыв в торговом комплексе \"Охотный ряд\" на Манежной площади, сегодня был найдет подозрительный пакет на Павелецком вокзале.\n"
          ]
        }
      ]
    },
    {
      "cell_type": "code",
      "metadata": {
        "id": "PFgHUfhAVu60"
      },
      "source": [
        "from sklearn.feature_extraction.text import TfidfVectorizer\n",
        "from sklearn.feature_extraction.text import CountVectorizer\n",
        "import pandas as pd"
      ],
      "execution_count": 2,
      "outputs": []
    },
    {
      "cell_type": "code",
      "metadata": {
        "id": "fuJXdzPXPXfF"
      },
      "source": [
        "def printTF_IDF(texts):\n",
        "  records_count = 30\n",
        "  tfIdfTransformer = TfidfVectorizer(ngram_range=(1, 4), use_idf=True, max_features=records_count)\n",
        "  countVectorizer = CountVectorizer(ngram_range=(1, 4), max_features=records_count)\n",
        "  wordCount = countVectorizer.fit_transform([texts])\n",
        "  TfIdf = tfIdfTransformer.fit_transform([texts])\n",
        "  names = countVectorizer.get_feature_names()\n",
        "  df=[]\n",
        "  df = pd.DataFrame(list(names), columns=['names'])\n",
        "  df = df.assign(Word_Count=wordCount.T.todense())\n",
        "  df = df.assign(TF_IDF=TfIdf.T.todense())\n",
        "  df = df.sort_values('TF_IDF', ascending=False)\n",
        "  print(df)"
      ],
      "execution_count": 3,
      "outputs": []
    },
    {
      "cell_type": "code",
      "metadata": {
        "colab": {
          "base_uri": "https://localhost:8080/"
        },
        "id": "OuopkLIjPjkG",
        "outputId": "ed2b0aa6-7aeb-4f9d-f19f-41cc5eaefb39"
      },
      "source": [
        "printTF_IDF(texts)"
      ],
      "execution_count": 4,
      "outputs": [
        {
          "output_type": "stream",
          "name": "stdout",
          "text": [
            "                                       names  Word_Count    TF_IDF\n",
            "4                                         на           3  0.390567\n",
            "29                                       это           2  0.260378\n",
            "2                               министерства           2  0.260378\n",
            "3                                     москве           2  0.260378\n",
            "5                                         по           2  0.260378\n",
            "28                                        со           2  0.260378\n",
            "27                                   сегодня           2  0.260378\n",
            "1                                       мина           2  0.260378\n",
            "22                             происхождение           1  0.130189\n",
            "20                  прогремел взрыв торговом           1  0.130189\n",
            "21        прогремел взрыв торговом комплексе           1  0.130189\n",
            "26                                       ряд           1  0.130189\n",
            "23                        происхождение мины           1  0.130189\n",
            "24            происхождение мины установлены           1  0.130189\n",
            "25                              происшествия           1  0.130189\n",
            "18                                 прогремел           1  0.130189\n",
            "19                           прогремел взрыв           1  0.130189\n",
            "0                                  агентство           1  0.130189\n",
            "17  прибыли специалисты московского поисково           1  0.130189\n",
            "16           прибыли специалисты московского           1  0.130189\n",
            "14                                   прибыли           1  0.130189\n",
            "13        при земляных работах выполнявшихся           1  0.130189\n",
            "12                      при земляных работах           1  0.130189\n",
            "11                              при земляных           1  0.130189\n",
            "10                                       при           1  0.130189\n",
            "9     предмета оцеплено сотрудниками милиции           1  0.130189\n",
            "8             предмета оцеплено сотрудниками           1  0.130189\n",
            "7                          предмета оцеплено           1  0.130189\n",
            "6                                   предмета           1  0.130189\n",
            "15                       прибыли специалисты           1  0.130189\n"
          ]
        }
      ]
    },
    {
      "cell_type": "markdown",
      "metadata": {
        "id": "2_rQ7bdtxilr"
      },
      "source": [
        "удалим знаки переноса строк и сделаем текст в нижнем регистре"
      ]
    },
    {
      "cell_type": "code",
      "metadata": {
        "id": "hIEOKhJGxeKr"
      },
      "source": [
        "  str2 = ''\n",
        "  for item in texts.split():\n",
        "    str2 = str2 + ' ' + item\n",
        "  texts = str(texts)\n",
        "  texts = texts.lower()\n",
        "  # print(texts)\n",
        "  texts = texts.replace('\\n', ' ')"
      ],
      "execution_count": 5,
      "outputs": []
    },
    {
      "cell_type": "markdown",
      "metadata": {
        "id": "0noHUfJNxy5x"
      },
      "source": [
        "удалим цифры"
      ]
    },
    {
      "cell_type": "code",
      "metadata": {
        "id": "JnKupWBnxx80"
      },
      "source": [
        "  str2 = ''\n",
        "  for c in texts:\n",
        "      if c not in ('0', \"1\", '2', '3', '4', '5', '6', '7', '8', '9', '«', '»', '–', \"\\\"\"):\n",
        "          str2 = str2 + c\n",
        "  texts = str2\n",
        "  str2 = ''"
      ],
      "execution_count": 6,
      "outputs": []
    },
    {
      "cell_type": "markdown",
      "metadata": {
        "id": "99rmNX2Mx6OU"
      },
      "source": [
        "удалим знаки пунктуации"
      ]
    },
    {
      "cell_type": "code",
      "metadata": {
        "id": "dWd0WHq7x5mI"
      },
      "source": [
        "import string\n",
        "pattern = string.punctuation\n",
        "for c in texts:\n",
        "    if c not in pattern:\n",
        "        str2 = str2 + c\n",
        "    else:\n",
        "        str2 = str2 + \" \"\n",
        "texts = str2\n",
        "str2 = ''"
      ],
      "execution_count": 7,
      "outputs": []
    },
    {
      "cell_type": "markdown",
      "metadata": {
        "id": "YKuMC8gLyI9s"
      },
      "source": [
        "удалим стоп слова"
      ]
    },
    {
      "cell_type": "code",
      "metadata": {
        "colab": {
          "base_uri": "https://localhost:8080/"
        },
        "id": "Prm51-xVQv0W",
        "outputId": "a79b3ee6-6d28-461f-8794-1752a6f5c583"
      },
      "source": [
        "import nltk\n",
        "nltk.download('stopwords')"
      ],
      "execution_count": 8,
      "outputs": [
        {
          "output_type": "stream",
          "name": "stdout",
          "text": [
            "[nltk_data] Downloading package stopwords to /root/nltk_data...\n",
            "[nltk_data]   Unzipping corpora/stopwords.zip.\n"
          ]
        },
        {
          "output_type": "execute_result",
          "data": {
            "text/plain": [
              "True"
            ]
          },
          "metadata": {},
          "execution_count": 8
        }
      ]
    },
    {
      "cell_type": "code",
      "metadata": {
        "colab": {
          "base_uri": "https://localhost:8080/"
        },
        "id": "s2UZ3uiOXReP",
        "outputId": "4084b26f-54d5-45ee-d637-c2f90851018b"
      },
      "source": [
        "  from nltk.corpus import stopwords\n",
        "  russian_stopwords = stopwords.words(\"russian\")\n",
        "  for word in texts.split():\n",
        "      if word not in (russian_stopwords):\n",
        "          str2 = str2 + \" \" + word\n",
        "  texts = str2\n",
        "\n",
        "  str2 = ''\n",
        "  for word in texts.split():\n",
        "      if len(word) > 1:\n",
        "          str2 = str2 + \" \" + word\n",
        "  texts = str2\n",
        "  print(texts)"
      ],
      "execution_count": 9,
      "outputs": [
        {
          "output_type": "stream",
          "name": "stdout",
          "text": [
            " передало агентство интерфакс сегодня час дня московскому времени возле забора еврейской школы находящейся ленинском проспекте юго западный администивный округ москве обнаружена мина министерства чрезвычайным ситуациям рф сообщают местонахождение взрывоопасного предмета оцеплено сотрудниками милиции месту происшествия спешно прибыли специалисты московского поисково спасательного отряда псо пиротехники министерства обороны тип происхождение мины установлены это минометная мина оперением времен великой отечественной войны нашли земляных работах выполнявшихся рядом школой последнее двое суток это третье чп взрывчатыми веществами москве позавчера прогремел взрыв торговом комплексе охотный ряд манежной площади сегодня найдет подозрительный пакет павелецком вокзале\n"
          ]
        }
      ]
    },
    {
      "cell_type": "markdown",
      "metadata": {
        "id": "CxdYblpjyLkO"
      },
      "source": [
        "рассчитаем TF-IDF"
      ]
    },
    {
      "cell_type": "code",
      "metadata": {
        "id": "XoQJ1ALGq3yf",
        "colab": {
          "base_uri": "https://localhost:8080/"
        },
        "outputId": "639928ca-7673-4373-b8a1-15c4775d29a7"
      },
      "source": [
        "printTF_IDF(texts)"
      ],
      "execution_count": 10,
      "outputs": [
        {
          "output_type": "stream",
          "name": "stdout",
          "text": [
            "                                         names  Word_Count    TF_IDF\n",
            "29                                         это           2  0.298142\n",
            "2                                 министерства           2  0.298142\n",
            "3                                       москве           2  0.298142\n",
            "28                                     сегодня           2  0.298142\n",
            "1                                         мина           2  0.298142\n",
            "17              происхождение мины установлены           1  0.149071\n",
            "27                                         ряд           1  0.149071\n",
            "26  рф сообщают местонахождение взрывоопасного           1  0.149071\n",
            "25                 рф сообщают местонахождение           1  0.149071\n",
            "24                                 рф сообщают           1  0.149071\n",
            "23                                          рф           1  0.149071\n",
            "22          работах выполнявшихся рядом школой           1  0.149071\n",
            "21     происшествия спешно прибыли специалисты           1  0.149071\n",
            "20                         происшествия спешно           1  0.149071\n",
            "19                                происшествия           1  0.149071\n",
            "18          происхождение мины установлены это           1  0.149071\n",
            "0                                    агентство           1  0.149071\n",
            "16                          происхождение мины           1  0.149071\n",
            "14          прогремел взрыв торговом комплексе           1  0.149071\n",
            "13                    прогремел взрыв торговом           1  0.149071\n",
            "12                             прогремел взрыв           1  0.149071\n",
            "11                                   прогремел           1  0.149071\n",
            "10    прибыли специалисты московского поисково           1  0.149071\n",
            "9              прибыли специалисты московского           1  0.149071\n",
            "8                          прибыли специалисты           1  0.149071\n",
            "7                                      прибыли           1  0.149071\n",
            "6       предмета оцеплено сотрудниками милиции           1  0.149071\n",
            "5               предмета оцеплено сотрудниками           1  0.149071\n",
            "4                            предмета оцеплено           1  0.149071\n",
            "15                               происхождение           1  0.149071\n"
          ]
        }
      ]
    },
    {
      "cell_type": "markdown",
      "metadata": {
        "id": "8wy3zm9eTvla"
      },
      "source": [
        "#Суммаризации текстов \n",
        "\n",
        "Задача суммаризации текстов (автореферирование) - одна из ключевых, широко обсуждаемых задач NLP. Она состоит в сжатии больших объемов текста до связного краткого содержания, отражающего только основные идеи.\n"
      ]
    },
    {
      "cell_type": "markdown",
      "metadata": {
        "id": "TrZmQkMpRBPJ"
      },
      "source": [
        "#Алгоритм TextRank\n",
        "TextRank - это алгоритм, основанный на PageRank, который часто используется для извлечения ключевых слов и суммирования текста. \n",
        "PageRank (PR) - это алгоритм, используемый для расчета веса веб-страниц. \n"
      ]
    },
    {
      "cell_type": "code",
      "metadata": {
        "colab": {
          "base_uri": "https://localhost:8080/"
        },
        "id": "eiBF_PrZUbzG",
        "outputId": "e0ca0216-595c-491d-b7aa-e9cdc2ace2a4"
      },
      "source": [
        "from gensim.summarization import summarize, keywords\n",
        "print(\"Исходный текст:\")\n",
        "print(stexts)\n",
        "print(\"Результат работы TextRank:\")\n",
        "print(summarize(str(stexts)))"
      ],
      "execution_count": 11,
      "outputs": [
        {
          "output_type": "stream",
          "name": "stdout",
          "text": [
            "Исходный текст:\n",
            ": Как передало агентство \"Интерфакс\", сегодня в час дня по московскому времени возле забора еврейской школы, находящейся на Ленинском проспекте (Юго-Западный администивный округ) в Москве обнаружена мина. Из Министерства по чрезвычайным ситуациям РФ сообщают, что местонахождение взрывоопасного предмета оцеплено сотрудниками милиции. К месту происшествия спешно прибыли специалисты московского поисково-спасательного отряда ПСО-6 и пиротехники Министерства обороны. Тип и происхождение мины установлены: это минометная мина с оперением времен Великой Отечественной войны. Ее нашли при земляных работах, выполнявшихся рядом со школой. За последнее двое суток это уже третье ЧП со взрывчатыми веществами в Москве: позавчера прогремел взрыв в торговом комплексе \"Охотный ряд\" на Манежной площади, сегодня был найдет подозрительный пакет на Павелецком вокзале.\n",
            "Результат работы TextRank:\n",
            ": Как передало агентство \"Интерфакс\", сегодня в час дня по московскому времени возле забора еврейской школы, находящейся на Ленинском проспекте (Юго-Западный администивный округ) в Москве обнаружена мина.\n"
          ]
        }
      ]
    },
    {
      "cell_type": "markdown",
      "metadata": {
        "id": "r2hy7d1VGVm0"
      },
      "source": [
        "#Алгоритм Rake\n",
        "RAKE: Rapid Automatic Keyword Extraction Algorithm\n",
        "Алгоритм RAKE извлекает ключевые слова с помощью основанного на разделителе подхода, чтобы идентифицировать ключевые слова кандидата и баллы их использующий совместные встречаемости слова, которые появляются в ключевых словах кандидата. Ключевые слова могут содержать несколько лексем. Кроме того, алгоритм RAKE также объединяет ключевые слова, когда они кажутся многократно, разделенными тем же разделителем слияния.\n"
      ]
    },
    {
      "cell_type": "code",
      "metadata": {
        "id": "cdPdJagoH0Kb",
        "colab": {
          "base_uri": "https://localhost:8080/",
          "height": 575
        },
        "outputId": "10ca0124-9e06-4eab-9bda-b619c32faff2"
      },
      "source": [
        "!pip install rake_nltk\n",
        "from rake_nltk import Metric, Rake\n",
        "r = Rake(language=\"russian\")\n",
        "import nltk\n",
        "nltk.download('punkt')\n",
        "r.extract_keywords_from_text(stexts)\n",
        "mas = r.get_ranked_phrases()\n",
        "set2 = set()\n",
        "for item in mas:\n",
        "    if not \"nan\" in str(item).replace(\" nan \", \" \"):\n",
        "        set2.add(str(item).replace(\" nan \", \" \"))\n",
        "mas = list(set2)\n",
        "print(\"Исходный текст:\")\n",
        "print(stexts)\n",
        "print(\"Результат работы TextRammk:\")\n",
        "print(str(mas))"
      ],
      "execution_count": 12,
      "outputs": [
        {
          "output_type": "stream",
          "name": "stdout",
          "text": [
            "Collecting rake_nltk\n",
            "  Downloading rake_nltk-1.0.6-py3-none-any.whl (9.1 kB)\n",
            "Collecting nltk<4.0.0,>=3.6.2\n",
            "  Downloading nltk-3.6.5-py3-none-any.whl (1.5 MB)\n",
            "\u001b[K     |████████████████████████████████| 1.5 MB 3.6 MB/s \n",
            "\u001b[?25hRequirement already satisfied: click in /usr/local/lib/python3.7/dist-packages (from nltk<4.0.0,>=3.6.2->rake_nltk) (7.1.2)\n",
            "Collecting regex>=2021.8.3\n",
            "  Downloading regex-2021.11.1-cp37-cp37m-manylinux_2_17_x86_64.manylinux2014_x86_64.whl (748 kB)\n",
            "\u001b[K     |████████████████████████████████| 748 kB 37.2 MB/s \n",
            "\u001b[?25hRequirement already satisfied: joblib in /usr/local/lib/python3.7/dist-packages (from nltk<4.0.0,>=3.6.2->rake_nltk) (1.0.1)\n",
            "Requirement already satisfied: tqdm in /usr/local/lib/python3.7/dist-packages (from nltk<4.0.0,>=3.6.2->rake_nltk) (4.62.3)\n",
            "Installing collected packages: regex, nltk, rake-nltk\n",
            "  Attempting uninstall: regex\n",
            "    Found existing installation: regex 2019.12.20\n",
            "    Uninstalling regex-2019.12.20:\n",
            "      Successfully uninstalled regex-2019.12.20\n",
            "  Attempting uninstall: nltk\n",
            "    Found existing installation: nltk 3.2.5\n",
            "    Uninstalling nltk-3.2.5:\n",
            "      Successfully uninstalled nltk-3.2.5\n",
            "Successfully installed nltk-3.6.5 rake-nltk-1.0.6 regex-2021.11.1\n"
          ]
        },
        {
          "output_type": "display_data",
          "data": {
            "application/vnd.colab-display-data+json": {
              "pip_warning": {
                "packages": [
                  "nltk",
                  "regex"
                ]
              }
            }
          },
          "metadata": {}
        },
        {
          "output_type": "stream",
          "name": "stdout",
          "text": [
            "[nltk_data] Downloading package punkt to /root/nltk_data...\n",
            "[nltk_data]   Unzipping tokenizers/punkt.zip.\n",
            "Исходный текст:\n",
            ": Как передало агентство \"Интерфакс\", сегодня в час дня по московскому времени возле забора еврейской школы, находящейся на Ленинском проспекте (Юго-Западный администивный округ) в Москве обнаружена мина. Из Министерства по чрезвычайным ситуациям РФ сообщают, что местонахождение взрывоопасного предмета оцеплено сотрудниками милиции. К месту происшествия спешно прибыли специалисты московского поисково-спасательного отряда ПСО-6 и пиротехники Министерства обороны. Тип и происхождение мины установлены: это минометная мина с оперением времен Великой Отечественной войны. Ее нашли при земляных работах, выполнявшихся рядом со школой. За последнее двое суток это уже третье ЧП со взрывчатыми веществами в Москве: позавчера прогремел взрыв в торговом комплексе \"Охотный ряд\" на Манежной площади, сегодня был найдет подозрительный пакет на Павелецком вокзале.\n",
            "Результат работы TextRammk:\n",
            "['третье чп', 'павелецком вокзале', 'земляных работах', 'нашли', 'московскому времени возле забора еврейской школы', 'москве обнаружена мина', 'охотный ряд', 'министерства', 'последнее двое суток это', '6', 'чрезвычайным ситуациям рф сообщают', 'интерфакс \", сегодня', 'западный администивный округ', 'час дня', 'москве', 'передало агентство', 'торговом комплексе', 'манежной площади', 'позавчера прогремел взрыв', 'найдет подозрительный пакет', 'местонахождение взрывоопасного предмета оцеплено сотрудниками милиции', 'это минометная мина', 'происхождение мины установлены', 'взрывчатыми веществами', 'месту происшествия спешно прибыли специалисты московского поисково', 'школой', 'тип', 'сегодня', 'ленинском проспекте', 'пиротехники министерства обороны', 'выполнявшихся рядом', 'находящейся', 'спасательного отряда псо', 'оперением времен великой отечественной войны', 'юго']\n"
          ]
        }
      ]
    },
    {
      "cell_type": "markdown",
      "metadata": {
        "id": "49ShKaewJbds"
      },
      "source": [
        "#Тематическое моделирование\n",
        "Тематическое моделирование — это метод извлечения тем из текста. Latent Dirichlet Allocation (LDA) — популярный алгоритм моделирования тем реализованные в том числе в пакете Gensim. Основная задача алгоритмов ТМ, заключается в том что бы полученные темы были хорошего качество, понятными, самозначимыми и разделенными. Достижение этих целей во многом зависит от качества предварительной обработки текста и стратегии поиска оптимального количества тем. "
      ]
    },
    {
      "cell_type": "markdown",
      "metadata": {
        "id": "pP8tUkU-Jzua"
      },
      "source": [
        "##Импорт пакетов\n"
      ]
    },
    {
      "cell_type": "code",
      "metadata": {
        "id": "rax0LrYWJqbw",
        "colab": {
          "base_uri": "https://localhost:8080/"
        },
        "outputId": "7cf86809-24a2-40fd-c79c-9f5727a8617c"
      },
      "source": [
        "import nltk; nltk.download('stopwords')\n",
        "import re\n",
        "import numpy as np\n",
        "import pandas as pd\n",
        "from pprint import pprint\n",
        "# Gensim\n",
        "import gensim\n",
        "import gensim.corpora as corpora\n",
        "from gensim.utils import simple_preprocess\n",
        "from gensim.models import CoherenceModel\n",
        "# Plotting tools\n",
        "import matplotlib.pyplot as plt\n",
        "%matplotlib inline\n",
        "# Enable logging for gensim - optional\n",
        "import logging\n",
        "logging.basicConfig(format='%(asctime)s : %(levelname)s : %(message)s', level=logging.ERROR)\n",
        "import warnings\n",
        "warnings.filterwarnings(\"ignore\",category=DeprecationWarning)"
      ],
      "execution_count": 13,
      "outputs": [
        {
          "output_type": "stream",
          "name": "stdout",
          "text": [
            "[nltk_data] Downloading package stopwords to /root/nltk_data...\n",
            "[nltk_data]   Package stopwords is already up-to-date!\n"
          ]
        }
      ]
    },
    {
      "cell_type": "markdown",
      "metadata": {
        "id": "Gpz436soKMkB"
      },
      "source": [
        "Подход LDA к тематическому моделированию заключается в том, что каждый документ рассматривается как набор тем в определенной пропорции. И каждая тема как набор ключевых слов, опять же, в определенной пропорции.\n",
        "\n",
        "После того, как вы укажете алгоритму количество тем, все, что он сделает, — это отобразит распределение тем в документах и распределение ключевых слов по темам.\n",
        "\n",
        "Тема — это не что иное, как набор доминирующих ключевых слов. Просто взглянув на ключевые слова, вы сможете определить, о чем эта тема.\n",
        "\n",
        "Ниже приведены ключевые факторы для получения хороших разделительных тем:\n",
        "\n",
        "Качество обработки текста.\n",
        "Разнообразие тем, о которых говорится в тексте.\n",
        "Выбор алгоритма моделирование тем.\n",
        "Количество тем, указанных в алгоритме.\n",
        "Алгоритмы настройки параметров."
      ]
    },
    {
      "cell_type": "markdown",
      "metadata": {
        "id": "HzcGR_TJKQ2A"
      },
      "source": [
        "# Подготовим стоп-слова\n"
      ]
    },
    {
      "cell_type": "code",
      "metadata": {
        "id": "HqWlQzsmKXGD"
      },
      "source": [
        "from nltk.corpus import stopwords\n",
        "stop_words = stopwords.words('russian')\n",
        "stop_words.extend(['from', 'subject', 're', 'edu', 'use'])"
      ],
      "execution_count": 14,
      "outputs": []
    },
    {
      "cell_type": "markdown",
      "metadata": {
        "id": "F5_VjjTTPGnq"
      },
      "source": [
        "##Лемматизация\n",
        "Лемматизация — это не что иное, как преобразование слова в его корневое слово. Например: лемма слова «machines» — это «machine». Аналогично, «walking» -> «walk», «mice» -> «mouse» и так далее."
      ]
    },
    {
      "cell_type": "code",
      "metadata": {
        "colab": {
          "base_uri": "https://localhost:8080/"
        },
        "id": "MNV6UsXyLTxd",
        "outputId": "a73f8379-679c-4668-8e3b-2b77b86198b0"
      },
      "source": [
        "!pip install pymorphy2\n",
        "import pymorphy2\n",
        "morph = pymorphy2.MorphAnalyzer()\n",
        "ltexts = \"\"\n",
        "print(texts)\n",
        "for word in texts.split():\n",
        "    if len(str(word)) > 2:\n",
        "        ltexts+=\" \" + morph.parse(word)[0].normal_form\n",
        "print(ltexts)"
      ],
      "execution_count": 15,
      "outputs": [
        {
          "output_type": "stream",
          "name": "stdout",
          "text": [
            "Collecting pymorphy2\n",
            "  Downloading pymorphy2-0.9.1-py3-none-any.whl (55 kB)\n",
            "\u001b[K     |████████████████████████████████| 55 kB 1.8 MB/s \n",
            "\u001b[?25hRequirement already satisfied: docopt>=0.6 in /usr/local/lib/python3.7/dist-packages (from pymorphy2) (0.6.2)\n",
            "Collecting dawg-python>=0.7.1\n",
            "  Downloading DAWG_Python-0.7.2-py2.py3-none-any.whl (11 kB)\n",
            "Collecting pymorphy2-dicts-ru<3.0,>=2.4\n",
            "  Downloading pymorphy2_dicts_ru-2.4.417127.4579844-py2.py3-none-any.whl (8.2 MB)\n",
            "\u001b[K     |████████████████████████████████| 8.2 MB 7.0 MB/s \n",
            "\u001b[?25hInstalling collected packages: pymorphy2-dicts-ru, dawg-python, pymorphy2\n",
            "Successfully installed dawg-python-0.7.2 pymorphy2-0.9.1 pymorphy2-dicts-ru-2.4.417127.4579844\n",
            " передало агентство интерфакс сегодня час дня московскому времени возле забора еврейской школы находящейся ленинском проспекте юго западный администивный округ москве обнаружена мина министерства чрезвычайным ситуациям рф сообщают местонахождение взрывоопасного предмета оцеплено сотрудниками милиции месту происшествия спешно прибыли специалисты московского поисково спасательного отряда псо пиротехники министерства обороны тип происхождение мины установлены это минометная мина оперением времен великой отечественной войны нашли земляных работах выполнявшихся рядом школой последнее двое суток это третье чп взрывчатыми веществами москве позавчера прогремел взрыв торговом комплексе охотный ряд манежной площади сегодня найдет подозрительный пакет павелецком вокзале\n",
            " передать агентство интерфакс сегодня час день московский время возле забор еврейский школа находиться ленинский проспект юго западный администивный округ москва обнаружить мина министерство чрезвычайный ситуация сообщать местонахождение взрывоопасный предмет оцепить сотрудник милиция место происшествие спешно прибыль специалист московский поисковый спасательный отряд псо пиротехник министерство оборона тип происхождение мина установить это миномётный мина оперение время великий отечественный война наслать земляной работа выполняться рядом школа последний двое сутки это третий взрывчатый вещество москва позавчера прогреметь взрыв торговый комплекс охотный ряд манежный площадь сегодня найти подозрительный пакет павелецкий вокзал\n"
          ]
        }
      ]
    },
    {
      "cell_type": "markdown",
      "metadata": {
        "id": "JBXQ2V6WPqaR"
      },
      "source": [
        "##Создадим словарь и корпус.\n",
        "Двумя основными входными данными для тематической модели LDA являются словарь (id2word) и корпус. Давайте создадим их."
      ]
    },
    {
      "cell_type": "code",
      "metadata": {
        "colab": {
          "base_uri": "https://localhost:8080/"
        },
        "id": "6Ckt4JD1YrLj",
        "outputId": "8aeff707-6cf4-45fd-f9e1-073096591862"
      },
      "source": [
        "from nltk.util import ngrams\n",
        "def make_bigrams(ttexts):\n",
        "    texts = ' '.join(ttexts)\n",
        "    token = nltk.word_tokenize(ttexts)\n",
        "    bigrams = list(ngrams(token, 2))\n",
        "    # print(bigrams)\n",
        "    return bigrams\n",
        "def make_trigrams(ttexts):\n",
        "    texts = ' '.join(ttexts)\n",
        "    token = nltk.word_tokenize(ttexts)\n",
        "    trigrams = list(ngrams(token, 2))\n",
        "    return trigrams\n",
        "\n",
        "btexts = make_bigrams(texts) + make_trigrams(texts)\n",
        "id2word = corpora.Dictionary(btexts)\n",
        "corpus = [id2word.doc2bow(text) for text in btexts]\n",
        "[[(id2word[id], freq) for id, freq in cp] for cp in corpus[:1]]"
      ],
      "execution_count": 16,
      "outputs": [
        {
          "output_type": "execute_result",
          "data": {
            "text/plain": [
              "[[('агентство', 1), ('передало', 1)]]"
            ]
          },
          "metadata": {},
          "execution_count": 16
        }
      ]
    },
    {
      "cell_type": "markdown",
      "metadata": {
        "id": "dMFn6b2iRCuk"
      },
      "source": [
        "Или вы можете увидеть удобочитаемую форму самого корпуса."
      ]
    },
    {
      "cell_type": "code",
      "metadata": {
        "colab": {
          "base_uri": "https://localhost:8080/"
        },
        "id": "TuyeZ3OTRFJ0",
        "outputId": "bbcb2a13-6662-4fc9-e950-8e0196415771"
      },
      "source": [
        "# Human readable format of corpus (term-frequency)\n",
        "[[(id2word[id], freq) for id, freq in cp] for cp in corpus[:1]]"
      ],
      "execution_count": 17,
      "outputs": [
        {
          "output_type": "execute_result",
          "data": {
            "text/plain": [
              "[[('агентство', 1), ('передало', 1)]]"
            ]
          },
          "metadata": {},
          "execution_count": 17
        }
      ]
    },
    {
      "cell_type": "markdown",
      "metadata": {
        "id": "1juBYJaaRLfH"
      },
      "source": [
        "##Построим тематическую модель\n",
        "У нас есть все необходимое для обучения модели LDA. В дополнение к корпусу и словарю необходимо также указать количество тем."
      ]
    },
    {
      "cell_type": "code",
      "metadata": {
        "id": "QfhLNkHJRN2b"
      },
      "source": [
        "# Build LDA model\n",
        "lda_model = gensim.models.ldamodel.LdaModel(corpus=corpus,\n",
        "                                           id2word=id2word,\n",
        "                                           num_topics=5, \n",
        "                                           random_state=100,\n",
        "                                           update_every=1,\n",
        "                                           chunksize=100,\n",
        "                                           passes=10,\n",
        "                                           alpha='auto',\n",
        "                                           per_word_topics=True)"
      ],
      "execution_count": 18,
      "outputs": []
    },
    {
      "cell_type": "markdown",
      "metadata": {
        "id": "SWjtOlCbRW43"
      },
      "source": [
        "##Просмотр тем в модели LDA\n",
        "Вышеупомянутая модель LDA построена на 20 различных темах, где каждая тема представляет собой комбинацию ключевых слов, и каждое ключевое слово вносит определенный вес в тему.\n",
        "\n",
        "Вы можете увидеть ключевые слова для каждой темы и вес (важность) каждого ключевого слова, используя lda_model.print_topics()."
      ]
    },
    {
      "cell_type": "code",
      "metadata": {
        "colab": {
          "base_uri": "https://localhost:8080/"
        },
        "id": "99Xxhtw7RSxU",
        "outputId": "fef4b9e7-5043-4768-a2ad-122bed52fd8c"
      },
      "source": [
        "lda_model.print_topics()"
      ],
      "execution_count": 19,
      "outputs": [
        {
          "output_type": "execute_result",
          "data": {
            "text/plain": [
              "[(0,\n",
              "  '0.049*\"спасательного\" + 0.049*\"обнаружена\" + 0.049*\"взрывчатыми\" + 0.049*\"пакет\" + 0.049*\"проспекте\" + 0.049*\"веществами\" + 0.049*\"москве\" + 0.042*\"ленинском\" + 0.026*\"комплексе\" + 0.026*\"чп\"'),\n",
              " (1,\n",
              "  '0.051*\"псо\" + 0.051*\"западный\" + 0.051*\"манежной\" + 0.051*\"ряд\" + 0.051*\"сообщают\" + 0.051*\"работах\" + 0.051*\"выполнявшихся\" + 0.051*\"рядом\" + 0.027*\"охотный\" + 0.027*\"рф\"'),\n",
              " (2,\n",
              "  '0.099*\"сегодня\" + 0.060*\"третье\" + 0.060*\"министерства\" + 0.042*\"час\" + 0.042*\"интерфакс\" + 0.042*\"дня\" + 0.042*\"забора\" + 0.042*\"еврейской\" + 0.032*\"пиротехники\" + 0.032*\"рф\"'),\n",
              " (3,\n",
              "  '0.051*\"министерства\" + 0.051*\"чрезвычайным\" + 0.051*\"мины\" + 0.051*\"сотрудниками\" + 0.051*\"двое\" + 0.051*\"предмета\" + 0.051*\"суток\" + 0.051*\"спешно\" + 0.051*\"последнее\" + 0.051*\"оцеплено\"'),\n",
              " (4,\n",
              "  '0.046*\"мина\" + 0.046*\"это\" + 0.046*\"москве\" + 0.046*\"московского\" + 0.046*\"времен\" + 0.046*\"прогремел\" + 0.046*\"позавчера\" + 0.046*\"оперением\" + 0.046*\"округ\" + 0.046*\"отечественной\"')]"
            ]
          },
          "metadata": {},
          "execution_count": 19
        }
      ]
    },
    {
      "cell_type": "markdown",
      "metadata": {
        "id": "h6IickF1RhIN"
      },
      "source": [
        "##Визуализация темы и ключевых слов\n",
        "Теперь, когда модель LDA создана, следующим шагом является изучение созданных тем и связанных с ними ключевых слов. Нет лучшего инструмента, чем интерактивная диаграмма пакета pyLDAvis."
      ]
    },
    {
      "cell_type": "code",
      "metadata": {
        "colab": {
          "base_uri": "https://localhost:8080/"
        },
        "id": "J3gAdj_AR78T",
        "outputId": "10421952-3f19-4add-f5dd-b7a7f68bb252"
      },
      "source": [
        "!pip install pyLDAvis==2.1.2\n",
        "import pyLDAvis\n",
        "import pyLDAvis.gensim  # don't skip this"
      ],
      "execution_count": 20,
      "outputs": [
        {
          "output_type": "stream",
          "name": "stdout",
          "text": [
            "Collecting pyLDAvis==2.1.2\n",
            "  Downloading pyLDAvis-2.1.2.tar.gz (1.6 MB)\n",
            "\u001b[K     |████████████████████████████████| 1.6 MB 3.3 MB/s \n",
            "\u001b[?25hRequirement already satisfied: wheel>=0.23.0 in /usr/local/lib/python3.7/dist-packages (from pyLDAvis==2.1.2) (0.37.0)\n",
            "Requirement already satisfied: numpy>=1.9.2 in /usr/local/lib/python3.7/dist-packages (from pyLDAvis==2.1.2) (1.19.5)\n",
            "Requirement already satisfied: scipy>=0.18.0 in /usr/local/lib/python3.7/dist-packages (from pyLDAvis==2.1.2) (1.4.1)\n",
            "Requirement already satisfied: pandas>=0.17.0 in /usr/local/lib/python3.7/dist-packages (from pyLDAvis==2.1.2) (1.1.5)\n",
            "Requirement already satisfied: joblib>=0.8.4 in /usr/local/lib/python3.7/dist-packages (from pyLDAvis==2.1.2) (1.0.1)\n",
            "Requirement already satisfied: jinja2>=2.7.2 in /usr/local/lib/python3.7/dist-packages (from pyLDAvis==2.1.2) (2.11.3)\n",
            "Requirement already satisfied: numexpr in /usr/local/lib/python3.7/dist-packages (from pyLDAvis==2.1.2) (2.7.3)\n",
            "Requirement already satisfied: pytest in /usr/local/lib/python3.7/dist-packages (from pyLDAvis==2.1.2) (3.6.4)\n",
            "Requirement already satisfied: future in /usr/local/lib/python3.7/dist-packages (from pyLDAvis==2.1.2) (0.16.0)\n",
            "Collecting funcy\n",
            "  Downloading funcy-1.16-py2.py3-none-any.whl (32 kB)\n",
            "Requirement already satisfied: MarkupSafe>=0.23 in /usr/local/lib/python3.7/dist-packages (from jinja2>=2.7.2->pyLDAvis==2.1.2) (2.0.1)\n",
            "Requirement already satisfied: pytz>=2017.2 in /usr/local/lib/python3.7/dist-packages (from pandas>=0.17.0->pyLDAvis==2.1.2) (2018.9)\n",
            "Requirement already satisfied: python-dateutil>=2.7.3 in /usr/local/lib/python3.7/dist-packages (from pandas>=0.17.0->pyLDAvis==2.1.2) (2.8.2)\n",
            "Requirement already satisfied: six>=1.5 in /usr/local/lib/python3.7/dist-packages (from python-dateutil>=2.7.3->pandas>=0.17.0->pyLDAvis==2.1.2) (1.15.0)\n",
            "Requirement already satisfied: atomicwrites>=1.0 in /usr/local/lib/python3.7/dist-packages (from pytest->pyLDAvis==2.1.2) (1.4.0)\n",
            "Requirement already satisfied: pluggy<0.8,>=0.5 in /usr/local/lib/python3.7/dist-packages (from pytest->pyLDAvis==2.1.2) (0.7.1)\n",
            "Requirement already satisfied: py>=1.5.0 in /usr/local/lib/python3.7/dist-packages (from pytest->pyLDAvis==2.1.2) (1.10.0)\n",
            "Requirement already satisfied: setuptools in /usr/local/lib/python3.7/dist-packages (from pytest->pyLDAvis==2.1.2) (57.4.0)\n",
            "Requirement already satisfied: attrs>=17.4.0 in /usr/local/lib/python3.7/dist-packages (from pytest->pyLDAvis==2.1.2) (21.2.0)\n",
            "Requirement already satisfied: more-itertools>=4.0.0 in /usr/local/lib/python3.7/dist-packages (from pytest->pyLDAvis==2.1.2) (8.10.0)\n",
            "Building wheels for collected packages: pyLDAvis\n",
            "  Building wheel for pyLDAvis (setup.py) ... \u001b[?25l\u001b[?25hdone\n",
            "  Created wheel for pyLDAvis: filename=pyLDAvis-2.1.2-py2.py3-none-any.whl size=97738 sha256=7cd5fd7e9dd3660023fa173bfa2485fb0bc569642d96a01ae3661954d5c21cb1\n",
            "  Stored in directory: /root/.cache/pip/wheels/3b/fb/41/e32e5312da9f440d34c4eff0d2207b46dc9332a7b931ef1e89\n",
            "Successfully built pyLDAvis\n",
            "Installing collected packages: funcy, pyLDAvis\n",
            "Successfully installed funcy-1.16 pyLDAvis-2.1.2\n"
          ]
        },
        {
          "output_type": "stream",
          "name": "stderr",
          "text": [
            "/usr/local/lib/python3.7/dist-packages/past/types/oldstr.py:5: DeprecationWarning: Using or importing the ABCs from 'collections' instead of from 'collections.abc' is deprecated since Python 3.3,and in 3.9 it will stop working\n",
            "  from collections import Iterable\n"
          ]
        }
      ]
    },
    {
      "cell_type": "code",
      "metadata": {
        "colab": {
          "base_uri": "https://localhost:8080/",
          "height": 861
        },
        "id": "_mdNzUz9RkAn",
        "outputId": "c2961ca6-66cf-42ea-cf48-f64cba37e3b0"
      },
      "source": [
        "# Visualize the topics\n",
        "pyLDAvis.enable_notebook()\n",
        "vis = pyLDAvis.gensim.prepare(lda_model, corpus, id2word)\n",
        "vis"
      ],
      "execution_count": 21,
      "outputs": [
        {
          "output_type": "execute_result",
          "data": {
            "text/html": [
              "\n",
              "<link rel=\"stylesheet\" type=\"text/css\" href=\"https://cdn.rawgit.com/bmabey/pyLDAvis/files/ldavis.v1.0.0.css\">\n",
              "\n",
              "\n",
              "<div id=\"ldavis_el671405781587248167233624768\"></div>\n",
              "<script type=\"text/javascript\">\n",
              "\n",
              "var ldavis_el671405781587248167233624768_data = {\"mdsDat\": {\"x\": [-0.1873139629282217, -0.0708378275866334, -0.04113890041458275, 0.17196351177919195, 0.12732717915024602], \"y\": [-0.11773368989138143, -0.02681756907977194, 0.21912291711514925, -0.12194970545514569, 0.047378047311149904], \"topics\": [1, 2, 3, 4, 5], \"cluster\": [1, 1, 1, 1, 1], \"Freq\": [21.804955278711546, 20.680294680289787, 19.6316846587064, 19.62768534333126, 18.255380038961004]}, \"tinfo\": {\"Term\": [\"\\u0441\\u0435\\u0433\\u043e\\u0434\\u043d\\u044f\", \"\\u043c\\u0438\\u043d\\u0438\\u0441\\u0442\\u0435\\u0440\\u0441\\u0442\\u0432\\u0430\", \"\\u0442\\u0440\\u0435\\u0442\\u044c\\u0435\", \"\\u043c\\u043e\\u0441\\u043a\\u0432\\u0435\", \"\\u0447\\u0440\\u0435\\u0437\\u0432\\u044b\\u0447\\u0430\\u0439\\u043d\\u044b\\u043c\", \"\\u043c\\u0438\\u043d\\u044b\", \"\\u0441\\u043e\\u0442\\u0440\\u0443\\u0434\\u043d\\u0438\\u043a\\u0430\\u043c\\u0438\", \"\\u043f\\u0440\\u0435\\u0434\\u043c\\u0435\\u0442\\u0430\", \"\\u043f\\u043e\\u0441\\u043b\\u0435\\u0434\\u043d\\u0435\\u0435\", \"\\u0434\\u0432\\u043e\\u0435\", \"\\u0441\\u0443\\u0442\\u043e\\u043a\", \"\\u0441\\u043f\\u0435\\u0448\\u043d\\u043e\", \"\\u043e\\u0446\\u0435\\u043f\\u043b\\u0435\\u043d\\u043e\", \"\\u043f\\u0441\\u043e\", \"\\u0437\\u0430\\u043f\\u0430\\u0434\\u043d\\u044b\\u0439\", \"\\u0440\\u044f\\u0434\", \"\\u043c\\u0430\\u043d\\u0435\\u0436\\u043d\\u043e\\u0439\", \"\\u0441\\u043e\\u043e\\u0431\\u0449\\u0430\\u044e\\u0442\", \"\\u0440\\u0430\\u0431\\u043e\\u0442\\u0430\\u0445\", \"\\u0432\\u044b\\u043f\\u043e\\u043b\\u043d\\u044f\\u0432\\u0448\\u0438\\u0445\\u0441\\u044f\", \"\\u0440\\u044f\\u0434\\u043e\\u043c\", \"\\u0441\\u043f\\u0430\\u0441\\u0430\\u0442\\u0435\\u043b\\u044c\\u043d\\u043e\\u0433\\u043e\", \"\\u043e\\u0431\\u043d\\u0430\\u0440\\u0443\\u0436\\u0435\\u043d\\u0430\", \"\\u043f\\u0430\\u043a\\u0435\\u0442\", \"\\u0432\\u0437\\u0440\\u044b\\u0432\\u0447\\u0430\\u0442\\u044b\\u043c\\u0438\", \"\\u043f\\u0440\\u043e\\u0441\\u043f\\u0435\\u043a\\u0442\\u0435\", \"\\u0432\\u0435\\u0449\\u0435\\u0441\\u0442\\u0432\\u0430\\u043c\\u0438\", \"\\u043c\\u043e\\u0441\\u043a\\u043e\\u0432\\u0441\\u043a\\u043e\\u0433\\u043e\", \"\\u043f\\u0440\\u043e\\u0433\\u0440\\u0435\\u043c\\u0435\\u043b\", \"\\u043e\\u043a\\u0440\\u0443\\u0433\", \"\\u043c\\u043e\\u0441\\u043a\\u043e\\u0432\\u0441\\u043a\\u043e\\u0433\\u043e\", \"\\u043f\\u0440\\u043e\\u0433\\u0440\\u0435\\u043c\\u0435\\u043b\", \"\\u043e\\u043f\\u0435\\u0440\\u0435\\u043d\\u0438\\u0435\\u043c\", \"\\u043e\\u043a\\u0440\\u0443\\u0433\", \"\\u0432\\u0440\\u0435\\u043c\\u0435\\u043d\", \"\\u043f\\u043e\\u0437\\u0430\\u0432\\u0447\\u0435\\u0440\\u0430\", \"\\u043c\\u0438\\u043d\\u043e\\u043c\\u0435\\u0442\\u043d\\u0430\\u044f\", \"\\u043e\\u0442\\u0435\\u0447\\u0435\\u0441\\u0442\\u0432\\u0435\\u043d\\u043d\\u043e\\u0439\", \"\\u0432\\u0435\\u043b\\u0438\\u043a\\u043e\\u0439\", \"\\u0432\\u043e\\u0439\\u043d\\u044b\", \"\\u043d\\u0430\\u0448\\u043b\\u0438\", \"\\u043c\\u0438\\u043d\\u0430\", \"\\u043c\\u043e\\u0441\\u043a\\u0432\\u0435\", \"\\u044d\\u0442\\u043e\", \"\\u0430\\u0434\\u043c\\u0438\\u043d\\u0438\\u0441\\u0442\\u0438\\u0432\\u043d\\u044b\\u0439\", \"\\u0432\\u0437\\u0440\\u044b\\u0432\", \"\\u0437\\u0435\\u043c\\u043b\\u044f\\u043d\\u044b\\u0445\", \"\\u0443\\u0441\\u0442\\u0430\\u043d\\u043e\\u0432\\u043b\\u0435\\u043d\\u044b\", \"\\u0442\\u0438\\u043f\", \"\\u043f\\u043e\\u0438\\u0441\\u043a\\u043e\\u0432\\u043e\", \"\\u0441\\u043f\\u0435\\u0446\\u0438\\u0430\\u043b\\u0438\\u0441\\u0442\\u044b\", \"\\u043e\\u0431\\u043e\\u0440\\u043e\\u043d\\u044b\", \"\\u043d\\u0430\\u0445\\u043e\\u0434\\u044f\\u0449\\u0435\\u0439\\u0441\\u044f\", \"\\u0448\\u043a\\u043e\\u043b\\u044b\", \"\\u043f\\u0435\\u0440\\u0435\\u0434\\u0430\\u043b\\u043e\", \"\\u0432\\u043e\\u043a\\u0437\\u0430\\u043b\\u0435\", \"\\u0432\\u0440\\u0435\\u043c\\u0435\\u043d\\u0438\", \"\\u043c\\u043e\\u0441\\u043a\\u043e\\u0432\\u0441\\u043a\\u043e\\u043c\\u0443\", \"\\u0430\\u0433\\u0435\\u043d\\u0442\\u0441\\u0442\\u0432\\u043e\", \"\\u0432\\u043e\\u0437\\u043b\\u0435\", \"\\u0435\\u0432\\u0440\\u0435\\u0439\\u0441\\u043a\\u043e\\u0439\", \"\\u043c\\u0438\\u043d\\u0438\\u0441\\u0442\\u0435\\u0440\\u0441\\u0442\\u0432\\u0430\", \"\\u0441\\u043f\\u0430\\u0441\\u0430\\u0442\\u0435\\u043b\\u044c\\u043d\\u043e\\u0433\\u043e\", \"\\u0432\\u0437\\u0440\\u044b\\u0432\\u0447\\u0430\\u0442\\u044b\\u043c\\u0438\", \"\\u043f\\u0430\\u043a\\u0435\\u0442\", \"\\u043e\\u0431\\u043d\\u0430\\u0440\\u0443\\u0436\\u0435\\u043d\\u0430\", \"\\u043f\\u0440\\u043e\\u0441\\u043f\\u0435\\u043a\\u0442\\u0435\", \"\\u0432\\u0435\\u0449\\u0435\\u0441\\u0442\\u0432\\u0430\\u043c\\u0438\", \"\\u043b\\u0435\\u043d\\u0438\\u043d\\u0441\\u043a\\u043e\\u043c\", \"\\u043c\\u043e\\u0441\\u043a\\u0432\\u0435\", \"\\u044e\\u0433\\u043e\", \"\\u043c\\u0435\\u0441\\u0442\\u043e\\u043d\\u0430\\u0445\\u043e\\u0436\\u0434\\u0435\\u043d\\u0438\\u0435\", \"\\u0442\\u043e\\u0440\\u0433\\u043e\\u0432\\u043e\\u043c\", \"\\u043f\\u043e\\u0434\\u043e\\u0437\\u0440\\u0438\\u0442\\u0435\\u043b\\u044c\\u043d\\u044b\\u0439\", \"\\u043e\\u0442\\u0440\\u044f\\u0434\\u0430\", \"\\u043c\\u0435\\u0441\\u0442\\u0443\", \"\\u043f\\u0440\\u043e\\u0438\\u0441\\u0445\\u043e\\u0436\\u0434\\u0435\\u043d\\u0438\\u0435\", \"\\u043f\\u0440\\u043e\\u0438\\u0441\\u0448\\u0435\\u0441\\u0442\\u0432\\u0438\\u044f\", \"\\u043f\\u0440\\u0438\\u0431\\u044b\\u043b\\u0438\", \"\\u043f\\u0430\\u0432\\u0435\\u043b\\u0435\\u0446\\u043a\\u043e\\u043c\", \"\\u0432\\u0437\\u0440\\u044b\\u0432\\u043e\\u043e\\u043f\\u0430\\u0441\\u043d\\u043e\\u0433\\u043e\", \"\\u0441\\u043f\\u0435\\u0446\\u0438\\u0430\\u043b\\u0438\\u0441\\u0442\\u044b\", \"\\u0442\\u0438\\u043f\", \"\\u043f\\u043e\\u0438\\u0441\\u043a\\u043e\\u0432\\u043e\", \"\\u043a\\u043e\\u043c\\u043f\\u043b\\u0435\\u043a\\u0441\\u0435\", \"\\u0447\\u043f\", \"\\u0432\\u0440\\u0435\\u043c\\u0435\\u043d\\u0438\", \"\\u043d\\u0430\\u0445\\u043e\\u0434\\u044f\\u0449\\u0435\\u0439\\u0441\\u044f\", \"\\u0432\\u043e\\u0437\\u043b\\u0435\", \"\\u043c\\u0438\\u043d\\u0430\", \"\\u043f\\u0435\\u0440\\u0435\\u0434\\u0430\\u043b\\u043e\", \"\\u0432\\u043e\\u043a\\u0437\\u0430\\u043b\\u0435\", \"\\u044d\\u0442\\u043e\", \"\\u043c\\u0438\\u043d\\u043e\\u043c\\u0435\\u0442\\u043d\\u0430\\u044f\", \"\\u0441\\u043e\\u0442\\u0440\\u0443\\u0434\\u043d\\u0438\\u043a\\u0430\\u043c\\u0438\", \"\\u043c\\u0438\\u043d\\u044b\", \"\\u0447\\u0440\\u0435\\u0437\\u0432\\u044b\\u0447\\u0430\\u0439\\u043d\\u044b\\u043c\", \"\\u0434\\u0432\\u043e\\u0435\", \"\\u0441\\u0443\\u0442\\u043e\\u043a\", \"\\u043f\\u0440\\u0435\\u0434\\u043c\\u0435\\u0442\\u0430\", \"\\u043f\\u043e\\u0441\\u043b\\u0435\\u0434\\u043d\\u0435\\u0435\", \"\\u0441\\u043f\\u0435\\u0448\\u043d\\u043e\", \"\\u043e\\u0446\\u0435\\u043f\\u043b\\u0435\\u043d\\u043e\", \"\\u0432\\u043e\\u043a\\u0437\\u0430\\u043b\\u0435\", \"\\u043c\\u0438\\u043d\\u0438\\u0441\\u0442\\u0435\\u0440\\u0441\\u0442\\u0432\\u0430\", \"\\u043c\\u0438\\u043b\\u0438\\u0446\\u0438\\u0438\", \"\\u0448\\u043a\\u043e\\u043b\\u043e\\u0439\", \"\\u0443\\u0441\\u0442\\u0430\\u043d\\u043e\\u0432\\u043b\\u0435\\u043d\\u044b\", \"\\u0432\\u0437\\u0440\\u044b\\u0432\\u043e\\u043e\\u043f\\u0430\\u0441\\u043d\\u043e\\u0433\\u043e\", \"\\u043f\\u0430\\u0432\\u0435\\u043b\\u0435\\u0446\\u043a\\u043e\\u043c\", \"\\u043f\\u0440\\u043e\\u0438\\u0441\\u0445\\u043e\\u0436\\u0434\\u0435\\u043d\\u0438\\u0435\", \"\\u043f\\u0440\\u043e\\u0438\\u0441\\u0448\\u0435\\u0441\\u0442\\u0432\\u0438\\u044f\", \"\\u043f\\u0440\\u0438\\u0431\\u044b\\u043b\\u0438\", \"\\u0441\\u0438\\u0442\\u0443\\u0430\\u0446\\u0438\\u044f\\u043c\", \"\\u0432\\u0440\\u0435\\u043c\\u0435\\u043d\\u0438\", \"\\u043c\\u043e\\u0441\\u043a\\u043e\\u0432\\u0441\\u043a\\u043e\\u043c\\u0443\", \"\\u043c\\u0438\\u043d\\u0430\", \"\\u044d\\u0442\\u043e\", \"\\u043f\\u0435\\u0440\\u0435\\u0434\\u0430\\u043b\\u043e\", \"\\u043d\\u0430\\u0445\\u043e\\u0434\\u044f\\u0449\\u0435\\u0439\\u0441\\u044f\", \"\\u0430\\u0433\\u0435\\u043d\\u0442\\u0441\\u0442\\u0432\\u043e\", \"\\u0448\\u043a\\u043e\\u043b\\u044b\", \"\\u0432\\u043e\\u0437\\u043b\\u0435\", \"\\u0437\\u0430\\u0431\\u043e\\u0440\\u0430\", \"\\u0435\\u0432\\u0440\\u0435\\u0439\\u0441\\u043a\\u043e\\u0439\", \"\\u0434\\u043d\\u044f\", \"\\u043c\\u043e\\u0441\\u043a\\u0432\\u0435\", \"\\u0432\\u0435\\u0449\\u0435\\u0441\\u0442\\u0432\\u0430\\u043c\\u0438\", \"\\u043f\\u0441\\u043e\", \"\\u0437\\u0430\\u043f\\u0430\\u0434\\u043d\\u044b\\u0439\", \"\\u0440\\u044f\\u0434\", \"\\u043c\\u0430\\u043d\\u0435\\u0436\\u043d\\u043e\\u0439\", \"\\u0440\\u0430\\u0431\\u043e\\u0442\\u0430\\u0445\", \"\\u0441\\u043e\\u043e\\u0431\\u0449\\u0430\\u044e\\u0442\", \"\\u0432\\u044b\\u043f\\u043e\\u043b\\u043d\\u044f\\u0432\\u0448\\u0438\\u0445\\u0441\\u044f\", \"\\u0440\\u044f\\u0434\\u043e\\u043c\", \"\\u043f\\u0435\\u0440\\u0435\\u0434\\u0430\\u043b\\u043e\", \"\\u0448\\u043a\\u043e\\u043b\\u043e\\u0439\", \"\\u043c\\u0438\\u043b\\u0438\\u0446\\u0438\\u0438\", \"\\u0437\\u0435\\u043c\\u043b\\u044f\\u043d\\u044b\\u0445\", \"\\u0432\\u0437\\u0440\\u044b\\u0432\", \"\\u0430\\u0434\\u043c\\u0438\\u043d\\u0438\\u0441\\u0442\\u0438\\u0432\\u043d\\u044b\\u0439\", \"\\u043c\\u0435\\u0441\\u0442\\u0443\", \"\\u043f\\u043e\\u0434\\u043e\\u0437\\u0440\\u0438\\u0442\\u0435\\u043b\\u044c\\u043d\\u044b\\u0439\", \"\\u043e\\u0442\\u0440\\u044f\\u0434\\u0430\", \"\\u0442\\u043e\\u0440\\u0433\\u043e\\u0432\\u043e\\u043c\", \"\\u044e\\u0433\\u043e\", \"\\u043c\\u0435\\u0441\\u0442\\u043e\\u043d\\u0430\\u0445\\u043e\\u0436\\u0434\\u0435\\u043d\\u0438\\u0435\", \"\\u0440\\u0444\", \"\\u043d\\u0430\\u0439\\u0434\\u0435\\u0442\", \"\\u043e\\u0445\\u043e\\u0442\\u043d\\u044b\\u0439\", \"\\u043f\\u0438\\u0440\\u043e\\u0442\\u0435\\u0445\\u043d\\u0438\\u043a\\u0438\", \"\\u043f\\u043b\\u043e\\u0449\\u0430\\u0434\\u0438\", \"\\u0430\\u0433\\u0435\\u043d\\u0442\\u0441\\u0442\\u0432\\u043e\", \"\\u0432\\u043e\\u043a\\u0437\\u0430\\u043b\\u0435\", \"\\u0432\\u0440\\u0435\\u043c\\u0435\\u043d\\u0438\", \"\\u043d\\u0430\\u0445\\u043e\\u0434\\u044f\\u0449\\u0435\\u0439\\u0441\\u044f\", \"\\u043c\\u043e\\u0441\\u043a\\u043e\\u0432\\u0441\\u043a\\u043e\\u043c\\u0443\", \"\\u0438\\u043d\\u0442\\u0435\\u0440\\u0444\\u0430\\u043a\\u0441\", \"\\u043d\\u0430\\u0448\\u043b\\u0438\", \"\\u0432\\u043e\\u0439\\u043d\\u044b\", \"\\u043c\\u0438\\u043d\\u0430\", \"\\u0441\\u0435\\u0433\\u043e\\u0434\\u043d\\u044f\", \"\\u0442\\u0440\\u0435\\u0442\\u044c\\u0435\", \"\\u0447\\u0430\\u0441\", \"\\u0438\\u043d\\u0442\\u0435\\u0440\\u0444\\u0430\\u043a\\u0441\", \"\\u0434\\u043d\\u044f\", \"\\u0437\\u0430\\u0431\\u043e\\u0440\\u0430\", \"\\u0435\\u0432\\u0440\\u0435\\u0439\\u0441\\u043a\\u043e\\u0439\", \"\\u043c\\u0438\\u043d\\u0438\\u0441\\u0442\\u0435\\u0440\\u0441\\u0442\\u0432\\u0430\", \"\\u043f\\u0438\\u0440\\u043e\\u0442\\u0435\\u0445\\u043d\\u0438\\u043a\\u0438\", \"\\u0440\\u0444\", \"\\u043e\\u0445\\u043e\\u0442\\u043d\\u044b\\u0439\", \"\\u043f\\u043b\\u043e\\u0449\\u0430\\u0434\\u0438\", \"\\u043d\\u0430\\u0439\\u0434\\u0435\\u0442\", \"\\u0441\\u0438\\u0442\\u0443\\u0430\\u0446\\u0438\\u044f\\u043c\", \"\\u043e\\u0431\\u043e\\u0440\\u043e\\u043d\\u044b\", \"\\u0447\\u043f\", \"\\u043a\\u043e\\u043c\\u043f\\u043b\\u0435\\u043a\\u0441\\u0435\", \"\\u0430\\u0433\\u0435\\u043d\\u0442\\u0441\\u0442\\u0432\\u043e\", \"\\u043c\\u043e\\u0441\\u043a\\u043e\\u0432\\u0441\\u043a\\u043e\\u043c\\u0443\", \"\\u0448\\u043a\\u043e\\u043b\\u044b\", \"\\u0432\\u043e\\u0437\\u043b\\u0435\", \"\\u044d\\u0442\\u043e\", \"\\u043f\\u0435\\u0440\\u0435\\u0434\\u0430\\u043b\\u043e\", \"\\u0432\\u043e\\u043a\\u0437\\u0430\\u043b\\u0435\", \"\\u0432\\u0440\\u0435\\u043c\\u0435\\u043d\\u0438\", \"\\u043d\\u0430\\u0445\\u043e\\u0434\\u044f\\u0449\\u0435\\u0439\\u0441\\u044f\", \"\\u043b\\u0435\\u043d\\u0438\\u043d\\u0441\\u043a\\u043e\\u043c\", \"\\u0440\\u044f\\u0434\\u043e\\u043c\", \"\\u0432\\u044b\\u043f\\u043e\\u043b\\u043d\\u044f\\u0432\\u0448\\u0438\\u0445\\u0441\\u044f\", \"\\u0441\\u043e\\u043e\\u0431\\u0449\\u0430\\u044e\\u0442\", \"\\u0432\\u0435\\u043b\\u0438\\u043a\\u043e\\u0439\", \"\\u043e\\u0442\\u0435\\u0447\\u0435\\u0441\\u0442\\u0432\\u0435\\u043d\\u043d\\u043e\\u0439\", \"\\u043c\\u0438\\u043d\\u0430\", \"\\u043c\\u043e\\u0441\\u043a\\u0432\\u0435\"], \"Freq\": [6.0, 7.0, 4.0, 7.0, 4.0, 4.0, 4.0, 4.0, 4.0, 4.0, 4.0, 4.0, 4.0, 4.0, 4.0, 4.0, 4.0, 4.0, 4.0, 4.0, 4.0, 4.0, 4.0, 4.0, 4.0, 4.0, 4.0, 4.0, 4.0, 4.0, 3.5128463254138365, 3.51284576005451, 3.51284576005451, 3.51284576005451, 3.51284576005451, 3.51284576005451, 3.5127739594200134, 3.5127742420996766, 3.5127739594200134, 3.5125401833384053, 3.5125401833384053, 3.513411967420243, 3.512931977351838, 3.513370978869054, 1.8362899200577467, 1.836289778717915, 1.83628935469842, 1.8362873759407765, 1.8362658922863602, 1.8362657509465286, 1.8362653269270335, 1.836336562202203, 1.2968879360835426, 1.2970099123582872, 0.1596037647361695, 0.1596035880613799, 0.15967676675923517, 0.15967604239259778, 0.15960517813448635, 0.1596047541149913, 0.15967542403083418, 0.15960445376784896, 3.5383856603942085, 3.5383853922946567, 3.5383853922946567, 3.5383853922946567, 3.538384856095553, 3.5383127373161014, 2.9950963959166716, 3.5382280178577123, 1.8495991029958796, 1.8495991029958796, 1.8495988348963277, 1.8495988348963277, 1.8495984327469999, 1.8495984327469999, 1.8495969581994647, 1.8495970922492406, 1.8495969581994647, 1.8495968241496887, 1.8495965560501368, 1.8495327483567932, 1.849532882406569, 1.849532882406569, 1.8496472268654394, 1.8496469587658875, 1.306305012726409, 1.306254073811555, 1.3063370506228569, 1.8493185368148535, 0.16076401957866318, 0.1607638017477773, 0.16083824964208565, 0.1608365405074425, 3.46942140520539, 3.469421659710751, 3.469421659710751, 3.4694208961946686, 3.4694208961946686, 3.4694208961946686, 3.4694208961946686, 3.4694208961946686, 3.469420641689308, 1.8135246502127207, 3.469519898780025, 1.8135270680136486, 1.8135268135082878, 1.8134631871680842, 1.813503144509732, 1.813503144509732, 1.8135030172570517, 1.8135030172570517, 1.8135027627516909, 1.81357440601076, 1.2807340929447208, 1.2808613456251279, 1.8132193710324245, 1.8132930503343803, 0.15763058343292494, 0.15763121969632696, 0.15763156964119807, 0.15763128332266715, 0.15770208353272858, 0.1577717066554962, 0.15770101779153015, 0.15770098597836005, 0.15770252891710998, 0.15770136773640128, 3.4686812903542887, 3.468681035900775, 3.468681035900775, 3.468681035900775, 3.468680272540234, 3.4686805269937477, 3.4686102978239806, 3.468610043370467, 1.2805511751520136, 1.8131370102951274, 1.8131365013881, 1.81307441473077, 1.8130742875040131, 1.8130740330504995, 1.81311487283944, 1.8131146183859264, 1.8131142367056559, 1.8131142367056559, 1.8131142367056559, 1.8131142367056559, 1.8131859925965048, 1.8131859925965048, 1.8131859925965048, 1.813185865369748, 1.8131856109162343, 1.2806590634418005, 0.15759673787880618, 0.1575979942430298, 0.1575978352095838, 0.15759778749954997, 0.1576667125950595, 0.157898726489473, 0.15789866287609458, 0.15759831230992186, 6.3099289096787805, 3.830040266460726, 2.653900035097898, 2.653823356307399, 2.6538221729927307, 2.6537443108875634, 2.6537443108875634, 3.8299332948147207, 2.0019750649710186, 2.0019745916451512, 2.0019745916451512, 2.0019743549822175, 2.0019738816563506, 2.001972935004616, 2.0019050127426614, 2.0019480853965836, 2.00194784873365, 1.4138375003535177, 1.4138388019996528, 1.41379016776679, 1.4138221172628311, 2.0016340336836445, 0.1740148087009474, 0.17401473474378065, 0.17401554827261503, 0.17401553348118168, 0.17401501578101433, 0.1740931737148487, 0.17409284830331495, 0.1740148974495475, 0.17409295184334841, 0.174092892677615, 0.17401559264691507, 0.17401542994114821], \"Total\": [6.0, 7.0, 4.0, 7.0, 4.0, 4.0, 4.0, 4.0, 4.0, 4.0, 4.0, 4.0, 4.0, 4.0, 4.0, 4.0, 4.0, 4.0, 4.0, 4.0, 4.0, 4.0, 4.0, 4.0, 4.0, 4.0, 4.0, 4.0, 4.0, 4.0, 4.162852457045067, 4.162851841732442, 4.162851855750014, 4.1628520622539025, 4.162852089883165, 4.162852234080343, 4.16285273790189, 4.162858694056605, 4.162858410334325, 4.162848189202874, 4.162848258445103, 7.507563780224358, 7.540475566630568, 7.646734433998951, 4.141774338520966, 4.14177430706577, 4.141774136651929, 4.142127339229, 4.175041897779356, 4.175041969095349, 4.175041530469456, 4.3142341399384545, 3.0923865982821894, 3.18679381152678, 1.9325643516007187, 2.4655035126444647, 3.07832941494601, 3.1727389186878012, 3.1724981019358776, 3.195063761226269, 3.289482373513718, 7.777419511833818, 4.187231163383122, 4.187231134414585, 4.187231266474056, 4.187231390902414, 4.187231207711665, 4.1872297955577205, 3.64394317983802, 7.540475566630568, 4.1539635383663045, 4.153963581097504, 4.153963260523129, 4.153963523637396, 4.153963259619804, 4.153963620821447, 4.154316307335651, 4.154316685805604, 4.154316500850748, 4.154316508367811, 4.154316403893402, 4.175041530469456, 4.175041897779356, 4.175041969095349, 4.326427303126493, 4.326427400674285, 3.07832941494601, 3.0923865982821894, 3.195063761226269, 7.507563780224358, 1.9325643516007187, 2.4655035126444647, 7.646734433998951, 4.16285273790189, 4.12140029080579, 4.121400634001372, 4.121400722087852, 4.121400080498003, 4.121400097654914, 4.121400116936754, 4.121400223906312, 4.121400375136586, 4.1214005085424485, 2.4655035126444647, 7.777419511833818, 4.12104751696829, 4.121047327522492, 4.142127339229, 4.154316403893402, 4.154316508367811, 4.154316307335651, 4.154316685805604, 4.154316500850748, 4.293513064854448, 3.07832941494601, 3.1727389186878012, 7.507563780224358, 7.646734433998951, 1.9325643516007187, 3.0923865982821894, 3.1724981019358776, 3.18679381152678, 3.195063761226269, 3.289481688580969, 3.289482373513718, 3.2894890631238716, 7.540475566630568, 4.1872297955577205, 4.12069379216623, 4.120693827374671, 4.120693846422816, 4.120693922875801, 4.1206933722980015, 4.120693740346353, 4.120701185239609, 4.120701335730554, 1.9325643516007187, 4.121047327522492, 4.12104751696829, 4.141774136651929, 4.14177430706577, 4.141774338520966, 4.153963620821447, 4.153963523637396, 4.153963259619804, 4.153963260523129, 4.1539635383663045, 4.153963581097504, 4.293159631967063, 4.293159809283054, 4.293159920714345, 4.2931600203214675, 4.293159708473597, 3.1724981019358776, 2.4655035126444647, 3.07832941494601, 3.0923865982821894, 3.1727389186878012, 3.2894891525629006, 4.162848258445103, 4.162848189202874, 7.507563780224358, 6.945525503249866, 4.465635106303342, 3.28949629855477, 3.2894891525629006, 3.2894890631238716, 3.289481688580969, 3.289482373513718, 7.777419511833818, 4.2931600203214675, 4.293159631967063, 4.293159920714345, 4.293159708473597, 4.293159809283054, 4.293513064854448, 4.3142341399384545, 4.326427400674285, 4.326427303126493, 3.1724981019358776, 3.1727389186878012, 3.18679381152678, 3.195063761226269, 7.646734433998951, 1.9325643516007187, 2.4655035126444647, 3.07832941494601, 3.0923865982821894, 3.64394317983802, 4.120701335730554, 4.120701185239609, 4.120693740346353, 4.162858410334325, 4.162858694056605, 7.507563780224358, 7.540475566630568], \"Category\": [\"Default\", \"Default\", \"Default\", \"Default\", \"Default\", \"Default\", \"Default\", \"Default\", \"Default\", \"Default\", \"Default\", \"Default\", \"Default\", \"Default\", \"Default\", \"Default\", \"Default\", \"Default\", \"Default\", \"Default\", \"Default\", \"Default\", \"Default\", \"Default\", \"Default\", \"Default\", \"Default\", \"Default\", \"Default\", \"Default\", \"Topic1\", \"Topic1\", \"Topic1\", \"Topic1\", \"Topic1\", \"Topic1\", \"Topic1\", \"Topic1\", \"Topic1\", \"Topic1\", \"Topic1\", \"Topic1\", \"Topic1\", \"Topic1\", \"Topic1\", \"Topic1\", \"Topic1\", \"Topic1\", \"Topic1\", \"Topic1\", \"Topic1\", \"Topic1\", \"Topic1\", \"Topic1\", \"Topic1\", \"Topic1\", \"Topic1\", \"Topic1\", \"Topic1\", \"Topic1\", \"Topic1\", \"Topic1\", \"Topic2\", \"Topic2\", \"Topic2\", \"Topic2\", \"Topic2\", \"Topic2\", \"Topic2\", \"Topic2\", \"Topic2\", \"Topic2\", \"Topic2\", \"Topic2\", \"Topic2\", \"Topic2\", \"Topic2\", \"Topic2\", \"Topic2\", \"Topic2\", \"Topic2\", \"Topic2\", \"Topic2\", \"Topic2\", \"Topic2\", \"Topic2\", \"Topic2\", \"Topic2\", \"Topic2\", \"Topic2\", \"Topic2\", \"Topic2\", \"Topic2\", \"Topic2\", \"Topic3\", \"Topic3\", \"Topic3\", \"Topic3\", \"Topic3\", \"Topic3\", \"Topic3\", \"Topic3\", \"Topic3\", \"Topic3\", \"Topic3\", \"Topic3\", \"Topic3\", \"Topic3\", \"Topic3\", \"Topic3\", \"Topic3\", \"Topic3\", \"Topic3\", \"Topic3\", \"Topic3\", \"Topic3\", \"Topic3\", \"Topic3\", \"Topic3\", \"Topic3\", \"Topic3\", \"Topic3\", \"Topic3\", \"Topic3\", \"Topic3\", \"Topic3\", \"Topic3\", \"Topic3\", \"Topic4\", \"Topic4\", \"Topic4\", \"Topic4\", \"Topic4\", \"Topic4\", \"Topic4\", \"Topic4\", \"Topic4\", \"Topic4\", \"Topic4\", \"Topic4\", \"Topic4\", \"Topic4\", \"Topic4\", \"Topic4\", \"Topic4\", \"Topic4\", \"Topic4\", \"Topic4\", \"Topic4\", \"Topic4\", \"Topic4\", \"Topic4\", \"Topic4\", \"Topic4\", \"Topic4\", \"Topic4\", \"Topic4\", \"Topic4\", \"Topic4\", \"Topic4\", \"Topic4\", \"Topic4\", \"Topic5\", \"Topic5\", \"Topic5\", \"Topic5\", \"Topic5\", \"Topic5\", \"Topic5\", \"Topic5\", \"Topic5\", \"Topic5\", \"Topic5\", \"Topic5\", \"Topic5\", \"Topic5\", \"Topic5\", \"Topic5\", \"Topic5\", \"Topic5\", \"Topic5\", \"Topic5\", \"Topic5\", \"Topic5\", \"Topic5\", \"Topic5\", \"Topic5\", \"Topic5\", \"Topic5\", \"Topic5\", \"Topic5\", \"Topic5\", \"Topic5\", \"Topic5\", \"Topic5\", \"Topic5\"], \"logprob\": [30.0, 29.0, 28.0, 27.0, 26.0, 25.0, 24.0, 23.0, 22.0, 21.0, 20.0, 19.0, 18.0, 17.0, 16.0, 15.0, 14.0, 13.0, 12.0, 11.0, 10.0, 9.0, 8.0, 7.0, 6.0, 5.0, 4.0, 3.0, 2.0, 1.0, -3.072700023651123, -3.072700023651123, -3.072700023651123, -3.072700023651123, -3.072700023651123, -3.072700023651123, -3.0727999210357666, -3.0727999210357666, -3.0727999210357666, -3.0727999210357666, -3.0727999210357666, -3.0725998878479004, -3.072700023651123, -3.0725998878479004, -3.721400022506714, -3.721400022506714, -3.721400022506714, -3.721400022506714, -3.721400022506714, -3.721400022506714, -3.721400022506714, -3.721400022506714, -4.069200038909912, -4.0690999031066895, -6.1641998291015625, -6.1641998291015625, -6.16379976272583, -6.16379976272583, -6.1641998291015625, -6.1641998291015625, -6.16379976272583, -6.1641998291015625, -3.012500047683716, -3.012500047683716, -3.012500047683716, -3.012500047683716, -3.012500047683716, -3.0125999450683594, -3.1791999340057373, -3.0125999450683594, -3.6612000465393066, -3.6612000465393066, -3.6612000465393066, -3.6612000465393066, -3.6612000465393066, -3.6612000465393066, -3.6612000465393066, -3.6612000465393066, -3.6612000465393066, -3.6612000465393066, -3.6612000465393066, -3.66129994392395, -3.66129994392395, -3.66129994392395, -3.6612000465393066, -3.6612000465393066, -4.008999824523926, -4.008999824523926, -4.008999824523926, -3.661400079727173, -6.104000091552734, -6.104000091552734, -6.103600025177002, -6.103600025177002, -2.9802000522613525, -2.9802000522613525, -2.9802000522613525, -2.9802000522613525, -2.9802000522613525, -2.9802000522613525, -2.9802000522613525, -2.9802000522613525, -2.9802000522613525, -3.6289000511169434, -2.9802000522613525, -3.6289000511169434, -3.6289000511169434, -3.6289000511169434, -3.6289000511169434, -3.6289000511169434, -3.6289000511169434, -3.6289000511169434, -3.6289000511169434, -3.6289000511169434, -3.9767000675201416, -3.976599931716919, -3.6291000843048096, -3.628999948501587, -6.071700096130371, -6.071700096130371, -6.071700096130371, -6.071700096130371, -6.071199893951416, -6.070799827575684, -6.071199893951416, -6.071199893951416, -6.071199893951416, -6.071199893951416, -2.9802000522613525, -2.9802000522613525, -2.9802000522613525, -2.9802000522613525, -2.9802000522613525, -2.9802000522613525, -2.9802000522613525, -2.9802000522613525, -3.9767000675201416, -3.6289000511169434, -3.6289000511169434, -3.6289000511169434, -3.6289000511169434, -3.6289000511169434, -3.6289000511169434, -3.6289000511169434, -3.6289000511169434, -3.6289000511169434, -3.6289000511169434, -3.6289000511169434, -3.6289000511169434, -3.6289000511169434, -3.6289000511169434, -3.6289000511169434, -3.6289000511169434, -3.976599931716919, -6.071700096130371, -6.071700096130371, -6.071700096130371, -6.071700096130371, -6.071199893951416, -6.069799900054932, -6.069799900054932, -6.071700096130371, -2.3094000816345215, -2.8085999488830566, -3.17549991607666, -3.17549991607666, -3.17549991607666, -3.17549991607666, -3.17549991607666, -2.8085999488830566, -3.45740008354187, -3.45740008354187, -3.45740008354187, -3.45740008354187, -3.45740008354187, -3.45740008354187, -3.45740008354187, -3.45740008354187, -3.45740008354187, -3.8052000999450684, -3.8052000999450684, -3.8052000999450684, -3.8052000999450684, -3.4574999809265137, -5.900100231170654, -5.900100231170654, -5.900100231170654, -5.900100231170654, -5.900100231170654, -5.899700164794922, -5.899700164794922, -5.900100231170654, -5.899700164794922, -5.899700164794922, -5.900100231170654, -5.900100231170654], \"loglift\": [30.0, 29.0, 28.0, 27.0, 26.0, 25.0, 24.0, 23.0, 22.0, 21.0, 20.0, 19.0, 18.0, 17.0, 16.0, 15.0, 14.0, 13.0, 12.0, 11.0, 10.0, 9.0, 8.0, 7.0, 6.0, 5.0, 4.0, 3.0, 2.0, 1.0, 1.3533, 1.3533, 1.3533, 1.3533, 1.3533, 1.3533, 1.3532, 1.3532, 1.3532, 1.3532, 1.3532, 0.7637, 0.7592, 0.7453, 0.7097, 0.7097, 0.7097, 0.7096, 0.7016, 0.7016, 0.7016, 0.6689, 0.6541, 0.6241, -0.9709, -1.2144, -1.436, -1.4662, -1.4665, -1.4736, -1.5023, -2.3632, 1.4076, 1.4076, 1.4076, 1.4076, 1.4076, 1.4076, 1.3799, 0.8193, 0.7669, 0.7669, 0.7669, 0.7669, 0.7669, 0.7669, 0.7668, 0.7668, 0.7668, 0.7668, 0.7668, 0.7618, 0.7618, 0.7618, 0.7262, 0.7262, 0.7188, 0.7142, 0.6816, 0.1749, -0.9107, -1.1542, -2.2856, -1.6776, 1.4558, 1.4558, 1.4558, 1.4558, 1.4558, 1.4558, 1.4558, 1.4558, 1.4558, 1.3209, 0.8208, 0.8072, 0.8072, 0.8021, 0.7991, 0.7991, 0.7991, 0.7991, 0.7991, 0.7662, 0.7511, 0.721, 0.2072, 0.1889, -0.8783, -1.3484, -1.374, -1.3785, -1.3806, -1.4093, -1.4098, -1.4098, -2.2393, -1.6511, 1.456, 1.456, 1.456, 1.456, 1.456, 1.456, 1.456, 1.456, 1.2167, 0.8072, 0.8072, 0.8021, 0.8021, 0.8021, 0.7992, 0.7992, 0.7992, 0.7992, 0.7992, 0.7992, 0.7663, 0.7663, 0.7663, 0.7663, 0.7663, 0.7211, -1.1219, -1.3439, -1.3484, -1.3741, -1.4098, -1.6438, -1.6438, -2.2354, 1.6047, 1.5472, 1.486, 1.486, 1.486, 1.486, 1.486, 0.9923, 0.9378, 0.9378, 0.9378, 0.9378, 0.9378, 0.9377, 0.9329, 0.9301, 0.9301, 0.8925, 0.8924, 0.888, 0.8854, 0.3604, -0.7068, -0.9503, -1.1723, -1.1768, -1.341, -1.4635, -1.4635, -1.4639, -1.4737, -1.4737, -2.0638, -2.0682]}, \"token.table\": {\"Topic\": [4, 5, 1, 4, 1, 2, 1, 4, 2, 3, 2, 2, 5, 1, 3, 1, 2, 3, 4, 3, 5, 5, 5, 4, 1, 4, 5, 2, 5, 2, 4, 2, 4, 2, 4, 3, 4, 1, 2, 3, 3, 5, 1, 3, 1, 2, 1, 3, 5, 4, 5, 1, 2, 1, 2, 1, 5, 1, 1, 1, 2, 4, 4, 5, 3, 2, 3, 2, 4, 4, 5, 4, 5, 2, 4, 1, 1, 2, 3, 3, 2, 3, 1, 2, 3, 2, 3, 2, 4, 4, 4, 5, 4, 4, 5, 3, 5, 4, 3, 2, 1, 2, 3, 3, 1, 2, 2, 4, 5, 1, 3, 5, 2, 5, 3, 3, 4, 1, 5, 1, 3, 5, 2, 4], \"Freq\": [0.3152090144324417, 0.3152090144324417, 0.48288483063860094, 0.48288483063860094, 0.9608782249403373, 0.9552855217651645, 0.482884834305927, 0.482884834305927, 0.4814269799299859, 0.4814269799299859, 0.9552852163149667, 0.3129827993217259, 0.3129827993217259, 0.9608805842054843, 0.811193328155038, 0.9608796838400916, 0.3248515234090172, 0.3248515234090172, 0.7280314357046875, 0.7279079782124669, 0.9119957362469667, 0.9119975909144323, 0.9119977808097035, 0.728032735669499, 0.482884854174287, 0.482884854174287, 0.9119957114504073, 0.46227518917391724, 0.46227518917391724, 0.8232839679276654, 0.7280327187966251, 0.48146787061421153, 0.48146787061421153, 0.481467866009982, 0.481467866009982, 0.48531350142531954, 0.48531350142531954, 0.5327960064137428, 0.2663980032068714, 0.2663980032068714, 0.38573205359892404, 0.5143094047985654, 0.9608795342628506, 0.7279078804545556, 0.5304705206792925, 0.5304705206792925, 0.9608795990908924, 0.3151850894852658, 0.3151850894852658, 0.4658573379158682, 0.4658573379158682, 0.3233748330676044, 0.3233748330676044, 0.9608805682227942, 0.9552851577992056, 0.46358170074388483, 0.46358170074388483, 0.9608796902175455, 0.9608797378832803, 0.960878159451071, 0.4814679078752979, 0.4814679078752979, 0.4658573258242887, 0.4658573258242887, 0.7279079026126881, 0.48142696782286815, 0.48142696782286815, 0.9552851861865949, 0.5174471935031362, 0.46585731501576827, 0.46585731501576827, 0.4658573488548568, 0.4658573488548568, 0.4814678772741632, 0.4814678772741632, 0.9608796505561481, 0.47903710065778365, 0.47903710065778365, 0.7279079528841692, 0.727907971776776, 0.4814269686939902, 0.4814269686939902, 0.9608797411188508, 0.4814269911196747, 0.4814269911196747, 0.48142694726031954, 0.48142694726031954, 0.9552851995927907, 0.7280327418900286, 0.7280328160711894, 0.46585735715669846, 0.46585735715669846, 0.7280327323041256, 0.7280314091164615, 0.8638655199225103, 0.46581900876731136, 0.46581900876731136, 0.7280327510454206, 0.7279079410686069, 0.9552852097060134, 0.4790371509849659, 0.4790371509849659, 0.7279079261743838, 0.7279079751822705, 0.4790371088404576, 0.4790371088404576, 0.4814679077705974, 0.4814679077705974, 0.8957292534613749, 0.48284367818886814, 0.48284367818886814, 0.9119937302613901, 0.46227517875101637, 0.46227517875101637, 0.7279078648970188, 0.48531352373532877, 0.48531352373532877, 0.313795011268992, 0.313795011268992, 0.523099113029894, 0.261549556514947, 0.261549556514947, 0.48146787556699927, 0.48146787556699927], \"Term\": [\"\\u0430\\u0433\\u0435\\u043d\\u0442\\u0441\\u0442\\u0432\\u043e\", \"\\u0430\\u0433\\u0435\\u043d\\u0442\\u0441\\u0442\\u0432\\u043e\", \"\\u0430\\u0434\\u043c\\u0438\\u043d\\u0438\\u0441\\u0442\\u0438\\u0432\\u043d\\u044b\\u0439\", \"\\u0430\\u0434\\u043c\\u0438\\u043d\\u0438\\u0441\\u0442\\u0438\\u0432\\u043d\\u044b\\u0439\", \"\\u0432\\u0435\\u043b\\u0438\\u043a\\u043e\\u0439\", \"\\u0432\\u0435\\u0449\\u0435\\u0441\\u0442\\u0432\\u0430\\u043c\\u0438\", \"\\u0432\\u0437\\u0440\\u044b\\u0432\", \"\\u0432\\u0437\\u0440\\u044b\\u0432\", \"\\u0432\\u0437\\u0440\\u044b\\u0432\\u043e\\u043e\\u043f\\u0430\\u0441\\u043d\\u043e\\u0433\\u043e\", \"\\u0432\\u0437\\u0440\\u044b\\u0432\\u043e\\u043e\\u043f\\u0430\\u0441\\u043d\\u043e\\u0433\\u043e\", \"\\u0432\\u0437\\u0440\\u044b\\u0432\\u0447\\u0430\\u0442\\u044b\\u043c\\u0438\", \"\\u0432\\u043e\\u0437\\u043b\\u0435\", \"\\u0432\\u043e\\u0437\\u043b\\u0435\", \"\\u0432\\u043e\\u0439\\u043d\\u044b\", \"\\u0432\\u043e\\u043a\\u0437\\u0430\\u043b\\u0435\", \"\\u0432\\u0440\\u0435\\u043c\\u0435\\u043d\", \"\\u0432\\u0440\\u0435\\u043c\\u0435\\u043d\\u0438\", \"\\u0432\\u0440\\u0435\\u043c\\u0435\\u043d\\u0438\", \"\\u0432\\u044b\\u043f\\u043e\\u043b\\u043d\\u044f\\u0432\\u0448\\u0438\\u0445\\u0441\\u044f\", \"\\u0434\\u0432\\u043e\\u0435\", \"\\u0434\\u043d\\u044f\", \"\\u0435\\u0432\\u0440\\u0435\\u0439\\u0441\\u043a\\u043e\\u0439\", \"\\u0437\\u0430\\u0431\\u043e\\u0440\\u0430\", \"\\u0437\\u0430\\u043f\\u0430\\u0434\\u043d\\u044b\\u0439\", \"\\u0437\\u0435\\u043c\\u043b\\u044f\\u043d\\u044b\\u0445\", \"\\u0437\\u0435\\u043c\\u043b\\u044f\\u043d\\u044b\\u0445\", \"\\u0438\\u043d\\u0442\\u0435\\u0440\\u0444\\u0430\\u043a\\u0441\", \"\\u043a\\u043e\\u043c\\u043f\\u043b\\u0435\\u043a\\u0441\\u0435\", \"\\u043a\\u043e\\u043c\\u043f\\u043b\\u0435\\u043a\\u0441\\u0435\", \"\\u043b\\u0435\\u043d\\u0438\\u043d\\u0441\\u043a\\u043e\\u043c\", \"\\u043c\\u0430\\u043d\\u0435\\u0436\\u043d\\u043e\\u0439\", \"\\u043c\\u0435\\u0441\\u0442\\u043e\\u043d\\u0430\\u0445\\u043e\\u0436\\u0434\\u0435\\u043d\\u0438\\u0435\", \"\\u043c\\u0435\\u0441\\u0442\\u043e\\u043d\\u0430\\u0445\\u043e\\u0436\\u0434\\u0435\\u043d\\u0438\\u0435\", \"\\u043c\\u0435\\u0441\\u0442\\u0443\", \"\\u043c\\u0435\\u0441\\u0442\\u0443\", \"\\u043c\\u0438\\u043b\\u0438\\u0446\\u0438\\u0438\", \"\\u043c\\u0438\\u043b\\u0438\\u0446\\u0438\\u0438\", \"\\u043c\\u0438\\u043d\\u0430\", \"\\u043c\\u0438\\u043d\\u0430\", \"\\u043c\\u0438\\u043d\\u0430\", \"\\u043c\\u0438\\u043d\\u0438\\u0441\\u0442\\u0435\\u0440\\u0441\\u0442\\u0432\\u0430\", \"\\u043c\\u0438\\u043d\\u0438\\u0441\\u0442\\u0435\\u0440\\u0441\\u0442\\u0432\\u0430\", \"\\u043c\\u0438\\u043d\\u043e\\u043c\\u0435\\u0442\\u043d\\u0430\\u044f\", \"\\u043c\\u0438\\u043d\\u044b\", \"\\u043c\\u043e\\u0441\\u043a\\u0432\\u0435\", \"\\u043c\\u043e\\u0441\\u043a\\u0432\\u0435\", \"\\u043c\\u043e\\u0441\\u043a\\u043e\\u0432\\u0441\\u043a\\u043e\\u0433\\u043e\", \"\\u043c\\u043e\\u0441\\u043a\\u043e\\u0432\\u0441\\u043a\\u043e\\u043c\\u0443\", \"\\u043c\\u043e\\u0441\\u043a\\u043e\\u0432\\u0441\\u043a\\u043e\\u043c\\u0443\", \"\\u043d\\u0430\\u0439\\u0434\\u0435\\u0442\", \"\\u043d\\u0430\\u0439\\u0434\\u0435\\u0442\", \"\\u043d\\u0430\\u0445\\u043e\\u0434\\u044f\\u0449\\u0435\\u0439\\u0441\\u044f\", \"\\u043d\\u0430\\u0445\\u043e\\u0434\\u044f\\u0449\\u0435\\u0439\\u0441\\u044f\", \"\\u043d\\u0430\\u0448\\u043b\\u0438\", \"\\u043e\\u0431\\u043d\\u0430\\u0440\\u0443\\u0436\\u0435\\u043d\\u0430\", \"\\u043e\\u0431\\u043e\\u0440\\u043e\\u043d\\u044b\", \"\\u043e\\u0431\\u043e\\u0440\\u043e\\u043d\\u044b\", \"\\u043e\\u043a\\u0440\\u0443\\u0433\", \"\\u043e\\u043f\\u0435\\u0440\\u0435\\u043d\\u0438\\u0435\\u043c\", \"\\u043e\\u0442\\u0435\\u0447\\u0435\\u0441\\u0442\\u0432\\u0435\\u043d\\u043d\\u043e\\u0439\", \"\\u043e\\u0442\\u0440\\u044f\\u0434\\u0430\", \"\\u043e\\u0442\\u0440\\u044f\\u0434\\u0430\", \"\\u043e\\u0445\\u043e\\u0442\\u043d\\u044b\\u0439\", \"\\u043e\\u0445\\u043e\\u0442\\u043d\\u044b\\u0439\", \"\\u043e\\u0446\\u0435\\u043f\\u043b\\u0435\\u043d\\u043e\", \"\\u043f\\u0430\\u0432\\u0435\\u043b\\u0435\\u0446\\u043a\\u043e\\u043c\", \"\\u043f\\u0430\\u0432\\u0435\\u043b\\u0435\\u0446\\u043a\\u043e\\u043c\", \"\\u043f\\u0430\\u043a\\u0435\\u0442\", \"\\u043f\\u0435\\u0440\\u0435\\u0434\\u0430\\u043b\\u043e\", \"\\u043f\\u0438\\u0440\\u043e\\u0442\\u0435\\u0445\\u043d\\u0438\\u043a\\u0438\", \"\\u043f\\u0438\\u0440\\u043e\\u0442\\u0435\\u0445\\u043d\\u0438\\u043a\\u0438\", \"\\u043f\\u043b\\u043e\\u0449\\u0430\\u0434\\u0438\", \"\\u043f\\u043b\\u043e\\u0449\\u0430\\u0434\\u0438\", \"\\u043f\\u043e\\u0434\\u043e\\u0437\\u0440\\u0438\\u0442\\u0435\\u043b\\u044c\\u043d\\u044b\\u0439\", \"\\u043f\\u043e\\u0434\\u043e\\u0437\\u0440\\u0438\\u0442\\u0435\\u043b\\u044c\\u043d\\u044b\\u0439\", \"\\u043f\\u043e\\u0437\\u0430\\u0432\\u0447\\u0435\\u0440\\u0430\", \"\\u043f\\u043e\\u0438\\u0441\\u043a\\u043e\\u0432\\u043e\", \"\\u043f\\u043e\\u0438\\u0441\\u043a\\u043e\\u0432\\u043e\", \"\\u043f\\u043e\\u0441\\u043b\\u0435\\u0434\\u043d\\u0435\\u0435\", \"\\u043f\\u0440\\u0435\\u0434\\u043c\\u0435\\u0442\\u0430\", \"\\u043f\\u0440\\u0438\\u0431\\u044b\\u043b\\u0438\", \"\\u043f\\u0440\\u0438\\u0431\\u044b\\u043b\\u0438\", \"\\u043f\\u0440\\u043e\\u0433\\u0440\\u0435\\u043c\\u0435\\u043b\", \"\\u043f\\u0440\\u043e\\u0438\\u0441\\u0445\\u043e\\u0436\\u0434\\u0435\\u043d\\u0438\\u0435\", \"\\u043f\\u0440\\u043e\\u0438\\u0441\\u0445\\u043e\\u0436\\u0434\\u0435\\u043d\\u0438\\u0435\", \"\\u043f\\u0440\\u043e\\u0438\\u0441\\u0448\\u0435\\u0441\\u0442\\u0432\\u0438\\u044f\", \"\\u043f\\u0440\\u043e\\u0438\\u0441\\u0448\\u0435\\u0441\\u0442\\u0432\\u0438\\u044f\", \"\\u043f\\u0440\\u043e\\u0441\\u043f\\u0435\\u043a\\u0442\\u0435\", \"\\u043f\\u0441\\u043e\", \"\\u0440\\u0430\\u0431\\u043e\\u0442\\u0430\\u0445\", \"\\u0440\\u0444\", \"\\u0440\\u0444\", \"\\u0440\\u044f\\u0434\", \"\\u0440\\u044f\\u0434\\u043e\\u043c\", \"\\u0441\\u0435\\u0433\\u043e\\u0434\\u043d\\u044f\", \"\\u0441\\u0438\\u0442\\u0443\\u0430\\u0446\\u0438\\u044f\\u043c\", \"\\u0441\\u0438\\u0442\\u0443\\u0430\\u0446\\u0438\\u044f\\u043c\", \"\\u0441\\u043e\\u043e\\u0431\\u0449\\u0430\\u044e\\u0442\", \"\\u0441\\u043e\\u0442\\u0440\\u0443\\u0434\\u043d\\u0438\\u043a\\u0430\\u043c\\u0438\", \"\\u0441\\u043f\\u0430\\u0441\\u0430\\u0442\\u0435\\u043b\\u044c\\u043d\\u043e\\u0433\\u043e\", \"\\u0441\\u043f\\u0435\\u0446\\u0438\\u0430\\u043b\\u0438\\u0441\\u0442\\u044b\", \"\\u0441\\u043f\\u0435\\u0446\\u0438\\u0430\\u043b\\u0438\\u0441\\u0442\\u044b\", \"\\u0441\\u043f\\u0435\\u0448\\u043d\\u043e\", \"\\u0441\\u0443\\u0442\\u043e\\u043a\", \"\\u0442\\u0438\\u043f\", \"\\u0442\\u0438\\u043f\", \"\\u0442\\u043e\\u0440\\u0433\\u043e\\u0432\\u043e\\u043c\", \"\\u0442\\u043e\\u0440\\u0433\\u043e\\u0432\\u043e\\u043c\", \"\\u0442\\u0440\\u0435\\u0442\\u044c\\u0435\", \"\\u0443\\u0441\\u0442\\u0430\\u043d\\u043e\\u0432\\u043b\\u0435\\u043d\\u044b\", \"\\u0443\\u0441\\u0442\\u0430\\u043d\\u043e\\u0432\\u043b\\u0435\\u043d\\u044b\", \"\\u0447\\u0430\\u0441\", \"\\u0447\\u043f\", \"\\u0447\\u043f\", \"\\u0447\\u0440\\u0435\\u0437\\u0432\\u044b\\u0447\\u0430\\u0439\\u043d\\u044b\\u043c\", \"\\u0448\\u043a\\u043e\\u043b\\u043e\\u0439\", \"\\u0448\\u043a\\u043e\\u043b\\u043e\\u0439\", \"\\u0448\\u043a\\u043e\\u043b\\u044b\", \"\\u0448\\u043a\\u043e\\u043b\\u044b\", \"\\u044d\\u0442\\u043e\", \"\\u044d\\u0442\\u043e\", \"\\u044d\\u0442\\u043e\", \"\\u044e\\u0433\\u043e\", \"\\u044e\\u0433\\u043e\"]}, \"R\": 30, \"lambda.step\": 0.01, \"plot.opts\": {\"xlab\": \"PC1\", \"ylab\": \"PC2\"}, \"topic.order\": [5, 1, 4, 2, 3]};\n",
              "\n",
              "function LDAvis_load_lib(url, callback){\n",
              "  var s = document.createElement('script');\n",
              "  s.src = url;\n",
              "  s.async = true;\n",
              "  s.onreadystatechange = s.onload = callback;\n",
              "  s.onerror = function(){console.warn(\"failed to load library \" + url);};\n",
              "  document.getElementsByTagName(\"head\")[0].appendChild(s);\n",
              "}\n",
              "\n",
              "if(typeof(LDAvis) !== \"undefined\"){\n",
              "   // already loaded: just create the visualization\n",
              "   !function(LDAvis){\n",
              "       new LDAvis(\"#\" + \"ldavis_el671405781587248167233624768\", ldavis_el671405781587248167233624768_data);\n",
              "   }(LDAvis);\n",
              "}else if(typeof define === \"function\" && define.amd){\n",
              "   // require.js is available: use it to load d3/LDAvis\n",
              "   require.config({paths: {d3: \"https://cdnjs.cloudflare.com/ajax/libs/d3/3.5.5/d3.min\"}});\n",
              "   require([\"d3\"], function(d3){\n",
              "      window.d3 = d3;\n",
              "      LDAvis_load_lib(\"https://cdn.rawgit.com/bmabey/pyLDAvis/files/ldavis.v1.0.0.js\", function(){\n",
              "        new LDAvis(\"#\" + \"ldavis_el671405781587248167233624768\", ldavis_el671405781587248167233624768_data);\n",
              "      });\n",
              "    });\n",
              "}else{\n",
              "    // require.js not available: dynamically load d3 & LDAvis\n",
              "    LDAvis_load_lib(\"https://cdnjs.cloudflare.com/ajax/libs/d3/3.5.5/d3.min.js\", function(){\n",
              "         LDAvis_load_lib(\"https://cdn.rawgit.com/bmabey/pyLDAvis/files/ldavis.v1.0.0.js\", function(){\n",
              "                 new LDAvis(\"#\" + \"ldavis_el671405781587248167233624768\", ldavis_el671405781587248167233624768_data);\n",
              "            })\n",
              "         });\n",
              "}\n",
              "</script>"
            ],
            "text/plain": [
              "PreparedData(topic_coordinates=              x         y  topics  cluster       Freq\n",
              "topic                                                \n",
              "4     -0.187314 -0.117734       1        1  21.804955\n",
              "0     -0.070838 -0.026818       2        1  20.680295\n",
              "3     -0.041139  0.219123       3        1  19.631685\n",
              "1      0.171964 -0.121950       4        1  19.627685\n",
              "2      0.127327  0.047378       5        1  18.255380, topic_info=             Term      Freq     Total Category  logprob  loglift\n",
              "3         сегодня  6.000000  6.000000  Default  30.0000  30.0000\n",
              "22   министерства  7.000000  7.000000  Default  29.0000  29.0000\n",
              "65         третье  4.000000  4.000000  Default  28.0000  28.0000\n",
              "19         москве  7.000000  7.000000  Default  27.0000  27.0000\n",
              "23   чрезвычайным  4.000000  4.000000  Default  26.0000  26.0000\n",
              "..            ...       ...       ...      ...      ...      ...\n",
              "26       сообщают  0.174015  4.120694   Topic5  -5.9001  -1.4639\n",
              "53        великой  0.174093  4.162858   Topic5  -5.8997  -1.4737\n",
              "54  отечественной  0.174093  4.162859   Topic5  -5.8997  -1.4737\n",
              "21           мина  0.174016  7.507564   Topic5  -5.9001  -2.0638\n",
              "19         москве  0.174015  7.540476   Topic5  -5.9001  -2.0682\n",
              "\n",
              "[196 rows x 6 columns], token_table=      Topic      Freq           Term\n",
              "term                                \n",
              "0         4  0.315209      агентство\n",
              "0         5  0.315209      агентство\n",
              "17        1  0.482885  администивный\n",
              "17        4  0.482885  администивный\n",
              "53        1  0.960878        великой\n",
              "...     ...       ...            ...\n",
              "49        1  0.523099            это\n",
              "49        3  0.261550            это\n",
              "49        5  0.261550            это\n",
              "15        2  0.481468            юго\n",
              "15        4  0.481468            юго\n",
              "\n",
              "[124 rows x 3 columns], R=30, lambda_step=0.01, plot_opts={'xlab': 'PC1', 'ylab': 'PC2'}, topic_order=[5, 1, 4, 2, 3])"
            ]
          },
          "metadata": {},
          "execution_count": 21
        }
      ]
    }
  ]
}