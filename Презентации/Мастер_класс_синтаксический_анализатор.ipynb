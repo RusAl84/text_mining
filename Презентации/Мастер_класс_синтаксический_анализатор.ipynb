{
  "nbformat": 4,
  "nbformat_minor": 0,
  "metadata": {
    "colab": {
      "name": "Мастер класс - синтаксический анализатор",
      "provenance": [],
      "collapsed_sections": [],
      "authorship_tag": "ABX9TyPLYzCoaDzaDgcabHeqtn1o",
      "include_colab_link": true
    },
    "kernelspec": {
      "name": "python3",
      "display_name": "Python 3"
    }
  },
  "cells": [
    {
      "cell_type": "markdown",
      "metadata": {
        "id": "view-in-github",
        "colab_type": "text"
      },
      "source": [
        "<a href=\"https://colab.research.google.com/github/RusAl84/text_analitic/blob/master/%D0%9C%D0%B0%D1%81%D1%82%D0%B5%D1%80_%D0%BA%D0%BB%D0%B0%D1%81%D1%81_%D1%81%D0%B8%D0%BD%D1%82%D0%B0%D0%BA%D1%81%D0%B8%D1%87%D0%B5%D1%81%D0%BA%D0%B8%D0%B9_%D0%B0%D0%BD%D0%B0%D0%BB%D0%B8%D0%B7%D0%B0%D1%82%D0%BE%D1%80.ipynb\" target=\"_parent\"><img src=\"https://colab.research.google.com/assets/colab-badge.svg\" alt=\"Open In Colab\"/></a>"
      ]
    },
    {
      "cell_type": "markdown",
      "metadata": {
        "id": "fkCMrN_HByH1"
      },
      "source": [
        "#Разработка синтаксических анализаторов для регулярных языков\r\n",
        "Для заданного варианта регулярного выражения написать регулярную грамматику.  \r\n",
        "Представить детерминированный конечный автомат, соответствующий регулярной грамматике.  \r\n",
        "Написать и проверить работоспособность соответствующего синтаксического анализатора.  \r\n",
        "##Краткие сведения из теории  \r\n",
        "**Конечный автомат** — это устройство для распознавания строк какого-либо языка. Конечный автомат — это пятерка М = (К, Σ, δ, S, F),  \r\n",
        "где \tK — конечное множество состояний;  \r\n",
        "Σ — конечный входной алфавит;  \r\n",
        "δ — множество переходов;  \r\n",
        "S — начальное состояние (S ∈ К);  \r\n",
        "F — множество последних состояний (F ⊆ К).  \r\n",
        "По мере считывания каждой литеры строки автоматом контроль передается от состояния к состоянию в соответствии с заданным множеством переходов.\r\n"
      ]
    },
    {
      "cell_type": "code",
      "metadata": {
        "colab": {
          "base_uri": "https://localhost:8080/"
        },
        "id": "DnxQ2H1aBoaQ",
        "outputId": "44a3cd7f-2aac-4cb4-fa5b-d6336f62fad2"
      },
      "source": [
        "    table_perehod = [['A', 'a', 'B'],\r\n",
        "                     ['B', '1', 'G'],\r\n",
        "                     ['B', '0', 'C'],\r\n",
        "                     ['C', '1', 'D'],\r\n",
        "                     ['D', '0', 'A'],\r\n",
        "                     ['E', 'a', 'F'],\r\n",
        "                     ['F', '1', 'G'],\r\n",
        "                     ['G', 'a', 'H'],\r\n",
        "                     ['G', '0', 'N'],\r\n",
        "                     ['H', '0', 'E'],\r\n",
        "                     ['K', 'a', 'L'],\r\n",
        "                     ['L', '1', 'M'],\r\n",
        "                     ['M', '0', 'N'],\r\n",
        "                     ['N', '0', 'K']]\r\n",
        "    nachaln_simv='A' #начальный символ он у Вас скорее всего 'A'\r\n",
        "    kol_perehodov=len(table_perehod)\r\n",
        "    print(\"Дано регулярное выражение\t(a010)* (a1a0)* (a100)*\")\r\n",
        "    ex=\"none\"\r\n",
        "    while ex!=\"exit\":\r\n",
        "        stroka = input(\"Введите строку символов: \")\r\n",
        "        length = len(stroka)\r\n",
        "        n = 0\r\n",
        "        ok = True\r\n",
        "        neterm = nachaln_simv\r\n",
        "        while ok and (n < length):\r\n",
        "            i = 0\r\n",
        "            sym = stroka[n]\r\n",
        "            n += 1\r\n",
        "            ok = False\r\n",
        "            while True:\r\n",
        "                if (table_perehod[i][0] == neterm) and (table_perehod[i][1] == sym):\r\n",
        "                    ok = True\r\n",
        "                    neterm = table_perehod[i][2]\r\n",
        "                i += 1\r\n",
        "                if not((not ok) and (i < kol_perehodov)):\r\n",
        "                    break\r\n",
        "         #терминальные символы они у Вас скорее всего 'A'  'E' 'K'\r\n",
        "        if ((neterm == 'A') or (neterm == \"E\") or (neterm == 'K')) and ok:\r\n",
        "            print(\"Данная строка принадлежит языку\")\r\n",
        "        else:\r\n",
        "            print(\"Данная строка не принадлежит языку\")\r\n",
        "        ex=input(\"Нажмите ENTER для продолжения или exit для выхода: \")\r\n"
      ],
      "execution_count": null,
      "outputs": [
        {
          "output_type": "stream",
          "text": [
            "Дано регулярное выражение 78.\t(a010)* (a1a0)* (a100)*\n",
            "Введите строку символов: a010\n",
            "Данная строка принадлежит языку\n",
            "Нажмите ENTER для продолжения или exit для выхода: a010a\n",
            "Введите строку символов: a010a\n",
            "Данная строка не принадлежит языку\n"
          ],
          "name": "stdout"
        }
      ]
    }
  ]
}