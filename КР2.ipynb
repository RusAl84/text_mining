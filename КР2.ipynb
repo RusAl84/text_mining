{
  "nbformat": 4,
  "nbformat_minor": 0,
  "metadata": {
    "colab": {
      "name": "КР2.ipynb",
      "provenance": [],
      "collapsed_sections": [],
      "authorship_tag": "ABX9TyM+hPvsF967kh9xF4Wh41Qp",
      "include_colab_link": true
    },
    "kernelspec": {
      "name": "python3",
      "display_name": "Python 3"
    },
    "language_info": {
      "name": "python"
    }
  },
  "cells": [
    {
      "cell_type": "markdown",
      "metadata": {
        "id": "view-in-github",
        "colab_type": "text"
      },
      "source": [
        "<a href=\"https://colab.research.google.com/github/RusAl84/text_mining/blob/master/%D0%9A%D0%A02.ipynb\" target=\"_parent\"><img src=\"https://colab.research.google.com/assets/colab-badge.svg\" alt=\"Open In Colab\"/></a>"
      ]
    },
    {
      "cell_type": "markdown",
      "metadata": {
        "id": "ltSY_bxWvdSx"
      },
      "source": [
        "#Суммаризации текстов\n",
        "Задача суммаризации текстов (автореферирование) - одна из ключевых, широко обсуждаемых задач NLP. Она состоит в сжатии больших объемов текста до связного краткого содержания, отражающего только основные идеи.\n"
      ]
    },
    {
      "cell_type": "code",
      "metadata": {
        "id": "xIg3_TRTvcb_"
      },
      "source": [
        "text = \"\\u041A\\u0430\\u043A \\u043F\\u0435\\u0440\\u0435\\u0434\\u0430\\u043B\\u043E \\u0430\\u0433\\u0435\\u043D\\u0442\\u0441\\u0442\\u0432\\u043E \\\"\\u0418\\u043D\\u0442\\u0435\\u0440\\u0444\\u0430\\u043A\\u0441\\\", \\u0441\\u0435\\u0433\\u043E\\u0434\\u043D\\u044F \\u0432 \\u0447\\u0430\\u0441 \\u0434\\u043D\\u044F \\u043F\\u043E \\u043C\\u043E\\u0441\\u043A\\u043E\\u0432\\u0441\\u043A\\u043E\\u043C\\u0443 \\u0432\\u0440\\u0435\\u043C\\u0435\\u043D\\u0438 \\u0432\\u043E\\u0437\\u043B\\u0435 \\u0437\\u0430\\u0431\\u043E\\u0440\\u0430 \\u0435\\u0432\\u0440\\u0435\\u0439\\u0441\\u043A\\u043E\\u0439 \\u0448\\u043A\\u043E\\u043B\\u044B, \\u043D\\u0430\\u0445\\u043E\\u0434\\u044F\\u0449\\u0435\\u0439\\u0441\\u044F \\u043D\\u0430 \\u041B\\u0435\\u043D\\u0438\\u043D\\u0441\\u043A\\u043E\\u043C \\u043F\\u0440\\u043E\\u0441\\u043F\\u0435\\u043A\\u0442\\u0435 (\\u042E\\u0433\\u043E-\\u0417\\u0430\\u043F\\u0430\\u0434\\u043D\\u044B\\u0439 \\u0430\\u0434\\u043C\\u0438\\u043D\\u0438\\u0441\\u0442\\u0438\\u0432\\u043D\\u044B\\u0439 \\u043E\\u043A\\u0440\\u0443\\u0433) \\u0432 \\u041C\\u043E\\u0441\\u043A\\u0432\\u0435 \\u043E\\u0431\\u043D\\u0430\\u0440\\u0443\\u0436\\u0435\\u043D\\u0430 \\u043C\\u0438\\u043D\\u0430. \\u0418\\u0437 \\u041C\\u0438\\u043D\\u0438\\u0441\\u0442\\u0435\\u0440\\u0441\\u0442\\u0432\\u0430 \\u043F\\u043E \\u0447\\u0440\\u0435\\u0437\\u0432\\u044B\\u0447\\u0430\\u0439\\u043D\\u044B\\u043C \\u0441\\u0438\\u0442\\u0443\\u0430\\u0446\\u0438\\u044F\\u043C \\u0420\\u0424 \\u0441\\u043E\\u043E\\u0431\\u0449\\u0430\\u044E\\u0442, \\u0447\\u0442\\u043E \\u043C\\u0435\\u0441\\u0442\\u043E\\u043D\\u0430\\u0445\\u043E\\u0436\\u0434\\u0435\\u043D\\u0438\\u0435 \\u0432\\u0437\\u0440\\u044B\\u0432\\u043E\\u043E\\u043F\\u0430\\u0441\\u043D\\u043E\\u0433\\u043E \\u043F\\u0440\\u0435\\u0434\\u043C\\u0435\\u0442\\u0430 \\u043E\\u0446\\u0435\\u043F\\u043B\\u0435\\u043D\\u043E \\u0441\\u043E\\u0442\\u0440\\u0443\\u0434\\u043D\\u0438\\u043A\\u0430\\u043C\\u0438 \\u043C\\u0438\\u043B\\u0438\\u0446\\u0438\\u0438. \\u041A \\u043C\\u0435\\u0441\\u0442\\u0443 \\u043F\\u0440\\u043E\\u0438\\u0441\\u0448\\u0435\\u0441\\u0442\\u0432\\u0438\\u044F \\u0441\\u043F\\u0435\\u0448\\u043D\\u043E \\u043F\\u0440\\u0438\\u0431\\u044B\\u043B\\u0438 \\u0441\\u043F\\u0435\\u0446\\u0438\\u0430\\u043B\\u0438\\u0441\\u0442\\u044B \\u043C\\u043E\\u0441\\u043A\\u043E\\u0432\\u0441\\u043A\\u043E\\u0433\\u043E \\u043F\\u043E\\u0438\\u0441\\u043A\\u043E\\u0432\\u043E-\\u0441\\u043F\\u0430\\u0441\\u0430\\u0442\\u0435\\u043B\\u044C\\u043D\\u043E\\u0433\\u043E \\u043E\\u0442\\u0440\\u044F\\u0434\\u0430 \\u041F\\u0421\\u041E-6 \\u0438 \\u043F\\u0438\\u0440\\u043E\\u0442\\u0435\\u0445\\u043D\\u0438\\u043A\\u0438 \\u041C\\u0438\\u043D\\u0438\\u0441\\u0442\\u0435\\u0440\\u0441\\u0442\\u0432\\u0430 \\u043E\\u0431\\u043E\\u0440\\u043E\\u043D\\u044B. \\u0422\\u0438\\u043F \\u0438 \\u043F\\u0440\\u043E\\u0438\\u0441\\u0445\\u043E\\u0436\\u0434\\u0435\\u043D\\u0438\\u0435 \\u043C\\u0438\\u043D\\u044B \\u0443\\u0441\\u0442\\u0430\\u043D\\u043E\\u0432\\u043B\\u0435\\u043D\\u044B: \\u044D\\u0442\\u043E \\u043C\\u0438\\u043D\\u043E\\u043C\\u0435\\u0442\\u043D\\u0430\\u044F \\u043C\\u0438\\u043D\\u0430 \\u0441 \\u043E\\u043F\\u0435\\u0440\\u0435\\u043D\\u0438\\u0435\\u043C \\u0432\\u0440\\u0435\\u043C\\u0435\\u043D \\u0412\\u0435\\u043B\\u0438\\u043A\\u043E\\u0439 \\u041E\\u0442\\u0435\\u0447\\u0435\\u0441\\u0442\\u0432\\u0435\\u043D\\u043D\\u043E\\u0439 \\u0432\\u043E\\u0439\\u043D\\u044B. \\u0415\\u0435 \\u043D\\u0430\\u0448\\u043B\\u0438 \\u043F\\u0440\\u0438 \\u0437\\u0435\\u043C\\u043B\\u044F\\u043D\\u044B\\u0445 \\u0440\\u0430\\u0431\\u043E\\u0442\\u0430\\u0445, \\u0432\\u044B\\u043F\\u043E\\u043B\\u043D\\u044F\\u0432\\u0448\\u0438\\u0445\\u0441\\u044F \\u0440\\u044F\\u0434\\u043E\\u043C \\u0441\\u043E \\u0448\\u043A\\u043E\\u043B\\u043E\\u0439. \\u0417\\u0430 \\u043F\\u043E\\u0441\\u043B\\u0435\\u0434\\u043D\\u0435\\u0435 \\u0434\\u0432\\u043E\\u0435 \\u0441\\u0443\\u0442\\u043E\\u043A \\u044D\\u0442\\u043E \\u0443\\u0436\\u0435 \\u0442\\u0440\\u0435\\u0442\\u044C\\u0435 \\u0427\\u041F \\u0441\\u043E \\u0432\\u0437\\u0440\\u044B\\u0432\\u0447\\u0430\\u0442\\u044B\\u043C\\u0438 \\u0432\\u0435\\u0449\\u0435\\u0441\\u0442\\u0432\\u0430\\u043C\\u0438 \\u0432 \\u041C\\u043E\\u0441\\u043A\\u0432\\u0435: \\u043F\\u043E\\u0437\\u0430\\u0432\\u0447\\u0435\\u0440\\u0430 \\u043F\\u0440\\u043E\\u0433\\u0440\\u0435\\u043C\\u0435\\u043B \\u0432\\u0437\\u0440\\u044B\\u0432 \\u0432 \\u0442\\u043E\\u0440\\u0433\\u043E\\u0432\\u043E\\u043C \\u043A\\u043E\\u043C\\u043F\\u043B\\u0435\\u043A\\u0441\\u0435 \\\"\\u041E\\u0445\\u043E\\u0442\\u043D\\u044B\\u0439 \\u0440\\u044F\\u0434\\\" \\u043D\\u0430 \\u041C\\u0430\\u043D\\u0435\\u0436\\u043D\\u043E\\u0439 \\u043F\\u043B\\u043E\\u0449\\u0430\\u0434\\u0438, \\u0441\\u0435\\u0433\\u043E\\u0434\\u043D\\u044F \\u0431\\u044B\\u043B \\u043D\\u0430\\u0439\\u0434\\u0435\\u0442 \\u043F\\u043E\\u0434\\u043E\\u0437\\u0440\\u0438\\u0442\\u0435\\u043B\\u044C\\u043D\\u044B\\u0439 \\u043F\\u0430\\u043A\\u0435\\u0442 \\u043D\\u0430 \\u041F\\u0430\\u0432\\u0435\\u043B\\u0435\\u0446\\u043A\\u043E\\u043C \\u0432\\u043E\\u043A\\u0437\\u0430\\u043B\\u0435.\"  #@param {type:\"string\"} \n"
      ],
      "execution_count": 22,
      "outputs": []
    },
    {
      "cell_type": "markdown",
      "metadata": {
        "id": "cjDS8hYVvdw6"
      },
      "source": [
        "##Алгоритм TextRank\n",
        "TextRank - это алгоритм, основанный на PageRank, который часто используется для извлечения ключевых слов и суммирования текста. PageRank (PR) - это алгоритм, используемый для расчета веса веб-страниц.\n"
      ]
    },
    {
      "cell_type": "code",
      "metadata": {
        "colab": {
          "base_uri": "https://localhost:8080/"
        },
        "id": "--DHUR_uwht6",
        "outputId": "cc9501d4-c564-42c4-d02f-f95541606da8"
      },
      "source": [
        "!pip install gensim\n",
        "from gensim.summarization import summarize, keywords\n",
        "print(\"Исходный текст:\")\n",
        "print(text)\n",
        "print(\"Результат работы TextRank:\")\n",
        "print(summarize(str(text)))\n"
      ],
      "execution_count": 23,
      "outputs": [
        {
          "output_type": "stream",
          "name": "stdout",
          "text": [
            "Requirement already satisfied: gensim in /usr/local/lib/python3.7/dist-packages (3.6.0)\n",
            "Requirement already satisfied: scipy>=0.18.1 in /usr/local/lib/python3.7/dist-packages (from gensim) (1.4.1)\n",
            "Requirement already satisfied: six>=1.5.0 in /usr/local/lib/python3.7/dist-packages (from gensim) (1.15.0)\n",
            "Requirement already satisfied: numpy>=1.11.3 in /usr/local/lib/python3.7/dist-packages (from gensim) (1.19.5)\n",
            "Requirement already satisfied: smart-open>=1.2.1 in /usr/local/lib/python3.7/dist-packages (from gensim) (5.2.1)\n",
            "Исходный текст:\n",
            "Как передало агентство \"Интерфакс\", сегодня в час дня по московскому времени возле забора еврейской школы, находящейся на Ленинском проспекте (Юго-Западный администивный округ) в Москве обнаружена мина. Из Министерства по чрезвычайным ситуациям РФ сообщают, что местонахождение взрывоопасного предмета оцеплено сотрудниками милиции. К месту происшествия спешно прибыли специалисты московского поисково-спасательного отряда ПСО-6 и пиротехники Министерства обороны. Тип и происхождение мины установлены: это минометная мина с оперением времен Великой Отечественной войны. Ее нашли при земляных работах, выполнявшихся рядом со школой. За последнее двое суток это уже третье ЧП со взрывчатыми веществами в Москве: позавчера прогремел взрыв в торговом комплексе \"Охотный ряд\" на Манежной площади, сегодня был найдет подозрительный пакет на Павелецком вокзале.\n",
            "Результат работы TextRank:\n",
            "Как передало агентство \"Интерфакс\", сегодня в час дня по московскому времени возле забора еврейской школы, находящейся на Ленинском проспекте (Юго-Западный администивный округ) в Москве обнаружена мина.\n"
          ]
        }
      ]
    },
    {
      "cell_type": "markdown",
      "metadata": {
        "id": "cJmF1pLcw3Qh"
      },
      "source": [
        "##Алгоритм Rake\n",
        "RAKE: Rapid Automatic Keyword Extraction Algorithm Алгоритм RAKE извлекает ключевые слова с помощью основанного на разделителе подхода, чтобы идентифицировать ключевые слова кандидата и баллы их использующий совместные встречаемости слова, которые появляются в ключевых словах кандидата. Ключевые слова могут содержать несколько лексем. Кроме того, алгоритм RAKE также объединяет ключевые слова, когда они кажутся многократно, разделенными тем же разделителем слияния.\n"
      ]
    },
    {
      "cell_type": "code",
      "metadata": {
        "colab": {
          "base_uri": "https://localhost:8080/"
        },
        "id": "x_OrAYKyw-IK",
        "outputId": "e003bbd2-c56d-43b7-d801-56fc815cf1b5"
      },
      "source": [
        "!pip install rake_nltk\n",
        "!pip install nltk\n",
        "import nltk\n",
        "nltk.download('stopwords')\n",
        "nltk.download('punkt')\n",
        "from rake_nltk import Metric, Rake\n",
        "r = Rake(language=\"russian\")\n",
        "r.extract_keywords_from_text(text)\n",
        "mas = r.get_ranked_phrases()\n",
        "set2 = set()\n",
        "for item in mas:\n",
        "    if not \"nan\" in str(item).replace(\" nan \", \" \"):\n",
        "        set2.add(str(item).replace(\" nan \", \" \"))\n",
        "mas = list(set2)\n",
        "print(\"Исходный текст:\")\n",
        "print(text)\n",
        "print(\"Результат работы Rake:\")\n",
        "print(str(mas))"
      ],
      "execution_count": 24,
      "outputs": [
        {
          "output_type": "stream",
          "name": "stdout",
          "text": [
            "Requirement already satisfied: rake_nltk in /usr/local/lib/python3.7/dist-packages (1.0.6)\n",
            "Requirement already satisfied: nltk<4.0.0,>=3.6.2 in /usr/local/lib/python3.7/dist-packages (from rake_nltk) (3.6.5)\n",
            "Requirement already satisfied: joblib in /usr/local/lib/python3.7/dist-packages (from nltk<4.0.0,>=3.6.2->rake_nltk) (1.0.1)\n",
            "Requirement already satisfied: click in /usr/local/lib/python3.7/dist-packages (from nltk<4.0.0,>=3.6.2->rake_nltk) (7.1.2)\n",
            "Requirement already satisfied: tqdm in /usr/local/lib/python3.7/dist-packages (from nltk<4.0.0,>=3.6.2->rake_nltk) (4.62.3)\n",
            "Requirement already satisfied: regex>=2021.8.3 in /usr/local/lib/python3.7/dist-packages (from nltk<4.0.0,>=3.6.2->rake_nltk) (2021.11.2)\n",
            "Requirement already satisfied: nltk in /usr/local/lib/python3.7/dist-packages (3.6.5)\n",
            "Requirement already satisfied: joblib in /usr/local/lib/python3.7/dist-packages (from nltk) (1.0.1)\n",
            "Requirement already satisfied: tqdm in /usr/local/lib/python3.7/dist-packages (from nltk) (4.62.3)\n",
            "Requirement already satisfied: click in /usr/local/lib/python3.7/dist-packages (from nltk) (7.1.2)\n",
            "Requirement already satisfied: regex>=2021.8.3 in /usr/local/lib/python3.7/dist-packages (from nltk) (2021.11.2)\n",
            "Исходный текст:\n",
            "Как передало агентство \"Интерфакс\", сегодня в час дня по московскому времени возле забора еврейской школы, находящейся на Ленинском проспекте (Юго-Западный администивный округ) в Москве обнаружена мина. Из Министерства по чрезвычайным ситуациям РФ сообщают, что местонахождение взрывоопасного предмета оцеплено сотрудниками милиции. К месту происшествия спешно прибыли специалисты московского поисково-спасательного отряда ПСО-6 и пиротехники Министерства обороны. Тип и происхождение мины установлены: это минометная мина с оперением времен Великой Отечественной войны. Ее нашли при земляных работах, выполнявшихся рядом со школой. За последнее двое суток это уже третье ЧП со взрывчатыми веществами в Москве: позавчера прогремел взрыв в торговом комплексе \"Охотный ряд\" на Манежной площади, сегодня был найдет подозрительный пакет на Павелецком вокзале.\n",
            "Результат работы Rake:\n",
            "['третье чп', 'юго', 'последнее двое суток это', 'позавчера прогремел взрыв', 'земляных работах', 'московскому времени возле забора еврейской школы', 'ленинском проспекте', 'выполнявшихся рядом', 'чрезвычайным ситуациям рф сообщают', 'манежной площади', 'нашли', 'месту происшествия спешно прибыли специалисты московского поисково', 'министерства', 'спасательного отряда псо', 'охотный ряд', 'передало агентство', 'интерфакс \", сегодня', 'местонахождение взрывоопасного предмета оцеплено сотрудниками милиции', 'западный администивный округ', 'это минометная мина', 'сегодня', 'торговом комплексе', 'находящейся', 'павелецком вокзале', 'найдет подозрительный пакет', 'москве', 'оперением времен великой отечественной войны', 'взрывчатыми веществами', 'тип', 'школой', '6', 'пиротехники министерства обороны', 'происхождение мины установлены', 'москве обнаружена мина', 'час дня']\n"
          ]
        },
        {
          "output_type": "stream",
          "name": "stderr",
          "text": [
            "[nltk_data] Downloading package stopwords to /root/nltk_data...\n",
            "[nltk_data]   Package stopwords is already up-to-date!\n",
            "[nltk_data] Downloading package punkt to /root/nltk_data...\n",
            "[nltk_data]   Package punkt is already up-to-date!\n"
          ]
        }
      ]
    }
  ]
}