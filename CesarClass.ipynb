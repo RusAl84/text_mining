{
  "nbformat": 4,
  "nbformat_minor": 0,
  "metadata": {
    "colab": {
      "name": "Untitled4.ipynb",
      "provenance": [],
      "authorship_tag": "ABX9TyP6zT/qWNAOLHTJ1FcVGl5O",
      "include_colab_link": true
    },
    "kernelspec": {
      "name": "python3",
      "display_name": "Python 3"
    },
    "language_info": {
      "name": "python"
    }
  },
  "cells": [
    {
      "cell_type": "markdown",
      "metadata": {
        "id": "view-in-github",
        "colab_type": "text"
      },
      "source": [
        "<a href=\"https://colab.research.google.com/github/RusAl84/text_mining/blob/master/CesarClass.ipynb\" target=\"_parent\"><img src=\"https://colab.research.google.com/assets/colab-badge.svg\" alt=\"Open In Colab\"/></a>"
      ]
    },
    {
      "cell_type": "code",
      "metadata": {
        "colab": {
          "base_uri": "https://localhost:8080/"
        },
        "id": "mbOZga9mmpEw",
        "outputId": "e75eed1c-2822-4ee3-9924-6eb134684f5b"
      },
      "source": [
        "\"\"\"\n",
        "Реализовать одно алфавитный шифр Цезаря для шифрования и дешифрование \n",
        "строки любой длины и заданным ключем(сдвигом алфавита), \n",
        "используется кириллический алфавит, знаки препинания, \n",
        "цифры, верхний и нижний регистр.\n",
        "\"\"\"\n",
        "\n",
        "GLOBAL_STR = \"АБВГДЕЁЖЗИЙКЛМНОПРСТУФХЦШЩЪЫЬЭЮЯабвгдеёжзийклмнопрстуфхцшщъыьэюя0123456789 .,;...?:!()-|\\\"«»\\'\"\n",
        "\n",
        "class CesarClass(object):\n",
        "    \n",
        "    def __init__(self, key, string):\n",
        "        out = \"\"\n",
        "        for char in string:\n",
        "            out += self.encrypter(char, key)\n",
        "        self.encrypted = out \n",
        "\n",
        "        s = \"\"\n",
        "        for char in out:\n",
        "            s += self.decrypter(char, key)\n",
        "        self.decrypted = s\n",
        "        \n",
        "    def encrypter(self, char, k):\n",
        "        \"\"\"\n",
        "        Метод для шифрования данных по шифру Цезаря\n",
        "        \"\"\"\n",
        "        s = GLOBAL_STR\n",
        "        index = s.find(char)\n",
        "\n",
        "        #Если длина ключа больше самой строки\n",
        "        if k > len(s):\n",
        "            k = k-len(s)\n",
        "\n",
        "        if index+k >= len(s):\n",
        "            return s[index+k-len(s)]\n",
        "        else:\n",
        "            return s[index+k]\n",
        "\n",
        "    def decrypter(self, char, k):\n",
        "        \"\"\"\n",
        "        Метод для расшифровки данных по шифру Цезаря\n",
        "        \"\"\"\n",
        "        s = GLOBAL_STR\n",
        "        index = s.find(char)\n",
        "\n",
        "        #Если длина ключа больше самой строки\n",
        "        if k > len(s):\n",
        "            k = k-len(s)\n",
        "\n",
        "        if index-k >= len(s):\n",
        "            return s[index-k+len(s)]\n",
        "        else:\n",
        "            return s[index-k]\n",
        "\n",
        "def main():\n",
        "    try:\n",
        "        k = int(input(\"Введите сдвиг K -> \"))\n",
        "        s = str(input(\"Введите строку -> \"))\n",
        "    except:\n",
        "        print(\"Что-то пошло не так при вводе данных\")\n",
        "        return \n",
        "\n",
        "    obj = CesarClass(k, s)\n",
        "    print(\"Зашифрованный ключ: \" + obj.encrypted)\n",
        "    print(\"Расшифрованный ключ: \" + obj.decrypted)\n",
        "\n",
        "if __name__ == \"__main__\":\n",
        "    main()\n"
      ],
      "execution_count": 1,
      "outputs": [
        {
          "output_type": "stream",
          "name": "stdout",
          "text": [
            "Введите сдвиг K -> 4\n",
            "Введите строку -> Введение в текстовую аналитику\n",
            "Зашифрованный ключ: Ёёизисми.ё.циохцтёш2.дсдпмцмош\n",
            "Расшифрованный ключ: Введение7в7текстовую7аналитику\n"
          ]
        }
      ]
    }
  ]
}