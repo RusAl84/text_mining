{
  "nbformat": 4,
  "nbformat_minor": 0,
  "metadata": {
    "colab": {
      "name": "Lec1_TFIDF_extract_keywords.ipynb",
      "provenance": [],
      "collapsed_sections": [],
      "authorship_tag": "ABX9TyPC7Fpxwuhb7z3d1808DGnp",
      "include_colab_link": true
    },
    "kernelspec": {
      "name": "python3",
      "display_name": "Python 3"
    }
  },
  "cells": [
    {
      "cell_type": "markdown",
      "metadata": {
        "id": "view-in-github",
        "colab_type": "text"
      },
      "source": [
        "<a href=\"https://colab.research.google.com/github/RusAl84/text_analitic/blob/master/dz2_TFIDF_extract_keywords.ipynb\" target=\"_parent\"><img src=\"https://colab.research.google.com/assets/colab-badge.svg\" alt=\"Open In Colab\"/></a>"
      ]
    },
    {
      "cell_type": "markdown",
      "metadata": {
        "id": "Bqo2eeJz_PAe"
      },
      "source": [
        "Лекция 1. Ввведение в текстаналитику, начнем спростого\r\n"
      ]
    },
    {
      "cell_type": "code",
      "metadata": {
        "colab": {
          "base_uri": "https://localhost:8080/"
        },
        "id": "ptc9zQ0g-bjC",
        "outputId": "907836b6-35e5-4f78-cdaa-c13d7367ec83"
      },
      "source": [
        "import nltk\r\n",
        "nltk.download('punkt')"
      ],
      "execution_count": 110,
      "outputs": [
        {
          "output_type": "stream",
          "text": [
            "[nltk_data] Downloading package punkt to /root/nltk_data...\n",
            "[nltk_data]   Package punkt is already up-to-date!\n"
          ],
          "name": "stdout"
        },
        {
          "output_type": "execute_result",
          "data": {
            "text/plain": [
              "True"
            ]
          },
          "metadata": {
            "tags": []
          },
          "execution_count": 110
        }
      ]
    },
    {
      "cell_type": "markdown",
      "metadata": {
        "id": "FiLm-qC5-i2O"
      },
      "source": [
        ""
      ]
    },
    {
      "cell_type": "markdown",
      "metadata": {
        "id": "_RO557-H_Kue"
      },
      "source": [
        "Bag-of-words (CountVectorizer)\r\n",
        "\r\n",
        "Рассмотрим самый простой способ приведения текста к набору чисел. Для каждого слова посчитаем, как часто оно встречается в тексте. Результаты запишем в таблицу. Строки будут представлять тексты, столбцы -- слова. Если на пересечении строки с столбца стоит число 5, значит данное слово встретилось в данном тексте 5 раз. В большинстве ячеек будут нули. Поэтому хранить это всё удобнее в виде разреженных матриц (т.е. хранить только ненулевые значения).\r\n",
        "\r\n",
        "Таким образом, при построении \"мешка слов\" можно выделить следующие действия:\r\n",
        "\r\n",
        "Токенизация.\r\n",
        "\r\n",
        "Построение словаря: собираем все слова, которые встречались в текстах и пронумеровываем их (по алфавиту, например).\r\n",
        "\r\n",
        "Построение разреженной матрицы. В sklearn алгоритм приведения текста в bag-of-words реализован в виде класса CountVectorizer. Рассмотрим пример."
      ]
    },
    {
      "cell_type": "markdown",
      "metadata": {
        "id": "wqFmLFogP2nU"
      },
      "source": [
        "Результат содержит 5 строк (для 5 текстов) и 34 столбцов (для 34 разных слов). Посмотрим словарь:"
      ]
    },
    {
      "cell_type": "code",
      "metadata": {
        "id": "Of4W8Jh7_fNY",
        "colab": {
          "base_uri": "https://localhost:8080/"
        },
        "outputId": "975899fb-1486-4211-a4aa-104b228461ed"
      },
      "source": [
        "from sklearn.feature_extraction.text import CountVectorizer\r\n",
        "count_vectorizer = CountVectorizer()\r\n",
        "texts = [\"Институт комплексной безопасности и специального приборостроения образован в 2014 году и входит\", \r\n",
        "         \"в состав МИРЭА — Российского технологического университета. Это профильный институт по подготовке\",  \r\n",
        "         \"в области обеспечения информационной безопасности, защиты национального киберпространства,\",  \r\n",
        "         \"экономической безопасности, правового обеспечения национальной безопасности и правоохранительной деятельности, \", \r\n",
        "         \"информационных технологий и программных систем, специального и аналитического приборостроения.\",]\r\n",
        "\r\n",
        "bow = count_vectorizer.fit_transform(texts)\r\n",
        "bow.shape"
      ],
      "execution_count": 111,
      "outputs": [
        {
          "output_type": "execute_result",
          "data": {
            "text/plain": [
              "(5, 34)"
            ]
          },
          "metadata": {
            "tags": []
          },
          "execution_count": 111
        }
      ]
    },
    {
      "cell_type": "markdown",
      "metadata": {
        "id": "Dhxe1yGHTcMJ"
      },
      "source": [
        "Результат содержит 5 строк (для 5 текстов) и 34 столбцов (для 34 разных слов). Посмотрим словарь:"
      ]
    },
    {
      "cell_type": "code",
      "metadata": {
        "colab": {
          "base_uri": "https://localhost:8080/"
        },
        "id": "Cw5tJ3VCTaTS",
        "outputId": "583d2978-42b5-4d34-8bc2-33e5aa3fc828"
      },
      "source": [
        "count_vectorizer.vocabulary_"
      ],
      "execution_count": 112,
      "outputs": [
        {
          "output_type": "execute_result",
          "data": {
            "text/plain": [
              "{'2014': 0,\n",
              " 'аналитического': 1,\n",
              " 'безопасности': 2,\n",
              " 'входит': 3,\n",
              " 'году': 4,\n",
              " 'деятельности': 5,\n",
              " 'защиты': 6,\n",
              " 'институт': 7,\n",
              " 'информационной': 8,\n",
              " 'информационных': 9,\n",
              " 'киберпространства': 10,\n",
              " 'комплексной': 11,\n",
              " 'мирэа': 12,\n",
              " 'национального': 13,\n",
              " 'национальной': 14,\n",
              " 'обеспечения': 15,\n",
              " 'области': 16,\n",
              " 'образован': 17,\n",
              " 'по': 18,\n",
              " 'подготовке': 19,\n",
              " 'правового': 20,\n",
              " 'правоохранительной': 21,\n",
              " 'приборостроения': 22,\n",
              " 'программных': 23,\n",
              " 'профильный': 24,\n",
              " 'российского': 25,\n",
              " 'систем': 26,\n",
              " 'состав': 27,\n",
              " 'специального': 28,\n",
              " 'технологий': 29,\n",
              " 'технологического': 30,\n",
              " 'университета': 31,\n",
              " 'экономической': 32,\n",
              " 'это': 33}"
            ]
          },
          "metadata": {
            "tags": []
          },
          "execution_count": 112
        }
      ]
    },
    {
      "cell_type": "markdown",
      "metadata": {
        "id": "qeDQoqukTwqE"
      },
      "source": [
        "Как видим, ни стемминга, ни лемматизации по умолчанию не производится.\r\n",
        "\r\n",
        "Результат преобразования:"
      ]
    },
    {
      "cell_type": "code",
      "metadata": {
        "colab": {
          "base_uri": "https://localhost:8080/"
        },
        "id": "Z6wkVtEbTxmD",
        "outputId": "a72aa87e-83aa-4af0-d067-b7ba35980c35"
      },
      "source": [
        "bow.todense()"
      ],
      "execution_count": 113,
      "outputs": [
        {
          "output_type": "execute_result",
          "data": {
            "text/plain": [
              "matrix([[1, 0, 1, 1, 1, 0, 0, 1, 0, 0, 0, 1, 0, 0, 0, 0, 0, 1, 0, 0, 0,\n",
              "         0, 1, 0, 0, 0, 0, 0, 1, 0, 0, 0, 0, 0],\n",
              "        [0, 0, 0, 0, 0, 0, 0, 1, 0, 0, 0, 0, 1, 0, 0, 0, 0, 0, 1, 1, 0,\n",
              "         0, 0, 0, 1, 1, 0, 1, 0, 0, 1, 1, 0, 1],\n",
              "        [0, 0, 1, 0, 0, 0, 1, 0, 1, 0, 1, 0, 0, 1, 0, 1, 1, 0, 0, 0, 0,\n",
              "         0, 0, 0, 0, 0, 0, 0, 0, 0, 0, 0, 0, 0],\n",
              "        [0, 0, 2, 0, 0, 1, 0, 0, 0, 0, 0, 0, 0, 0, 1, 1, 0, 0, 0, 0, 1,\n",
              "         1, 0, 0, 0, 0, 0, 0, 0, 0, 0, 0, 1, 0],\n",
              "        [0, 1, 0, 0, 0, 0, 0, 0, 0, 1, 0, 0, 0, 0, 0, 0, 0, 0, 0, 0, 0,\n",
              "         0, 1, 1, 0, 0, 1, 0, 1, 1, 0, 0, 0, 0]])"
            ]
          },
          "metadata": {
            "tags": []
          },
          "execution_count": 113
        }
      ]
    },
    {
      "cell_type": "markdown",
      "metadata": {
        "id": "V4eExg0gT4Sb"
      },
      "source": [
        "Стоп-слова\r\n",
        "\r\n",
        "Можно легко включить отсечение стоп-слов:"
      ]
    },
    {
      "cell_type": "code",
      "metadata": {
        "colab": {
          "base_uri": "https://localhost:8080/"
        },
        "id": "P5jVAENST6mo",
        "outputId": "da1796b1-32c6-40da-9ef7-31ca1d778ec5"
      },
      "source": [
        "nltk.download('stopwords')\r\n",
        "from nltk.corpus import stopwords\r\n",
        "s= stopwords.words(\"russian\")\r\n",
        "s"
      ],
      "execution_count": 114,
      "outputs": [
        {
          "output_type": "stream",
          "text": [
            "[nltk_data] Downloading package stopwords to /root/nltk_data...\n",
            "[nltk_data]   Package stopwords is already up-to-date!\n"
          ],
          "name": "stdout"
        },
        {
          "output_type": "execute_result",
          "data": {
            "text/plain": [
              "['и',\n",
              " 'в',\n",
              " 'во',\n",
              " 'не',\n",
              " 'что',\n",
              " 'он',\n",
              " 'на',\n",
              " 'я',\n",
              " 'с',\n",
              " 'со',\n",
              " 'как',\n",
              " 'а',\n",
              " 'то',\n",
              " 'все',\n",
              " 'она',\n",
              " 'так',\n",
              " 'его',\n",
              " 'но',\n",
              " 'да',\n",
              " 'ты',\n",
              " 'к',\n",
              " 'у',\n",
              " 'же',\n",
              " 'вы',\n",
              " 'за',\n",
              " 'бы',\n",
              " 'по',\n",
              " 'только',\n",
              " 'ее',\n",
              " 'мне',\n",
              " 'было',\n",
              " 'вот',\n",
              " 'от',\n",
              " 'меня',\n",
              " 'еще',\n",
              " 'нет',\n",
              " 'о',\n",
              " 'из',\n",
              " 'ему',\n",
              " 'теперь',\n",
              " 'когда',\n",
              " 'даже',\n",
              " 'ну',\n",
              " 'вдруг',\n",
              " 'ли',\n",
              " 'если',\n",
              " 'уже',\n",
              " 'или',\n",
              " 'ни',\n",
              " 'быть',\n",
              " 'был',\n",
              " 'него',\n",
              " 'до',\n",
              " 'вас',\n",
              " 'нибудь',\n",
              " 'опять',\n",
              " 'уж',\n",
              " 'вам',\n",
              " 'ведь',\n",
              " 'там',\n",
              " 'потом',\n",
              " 'себя',\n",
              " 'ничего',\n",
              " 'ей',\n",
              " 'может',\n",
              " 'они',\n",
              " 'тут',\n",
              " 'где',\n",
              " 'есть',\n",
              " 'надо',\n",
              " 'ней',\n",
              " 'для',\n",
              " 'мы',\n",
              " 'тебя',\n",
              " 'их',\n",
              " 'чем',\n",
              " 'была',\n",
              " 'сам',\n",
              " 'чтоб',\n",
              " 'без',\n",
              " 'будто',\n",
              " 'чего',\n",
              " 'раз',\n",
              " 'тоже',\n",
              " 'себе',\n",
              " 'под',\n",
              " 'будет',\n",
              " 'ж',\n",
              " 'тогда',\n",
              " 'кто',\n",
              " 'этот',\n",
              " 'того',\n",
              " 'потому',\n",
              " 'этого',\n",
              " 'какой',\n",
              " 'совсем',\n",
              " 'ним',\n",
              " 'здесь',\n",
              " 'этом',\n",
              " 'один',\n",
              " 'почти',\n",
              " 'мой',\n",
              " 'тем',\n",
              " 'чтобы',\n",
              " 'нее',\n",
              " 'сейчас',\n",
              " 'были',\n",
              " 'куда',\n",
              " 'зачем',\n",
              " 'всех',\n",
              " 'никогда',\n",
              " 'можно',\n",
              " 'при',\n",
              " 'наконец',\n",
              " 'два',\n",
              " 'об',\n",
              " 'другой',\n",
              " 'хоть',\n",
              " 'после',\n",
              " 'над',\n",
              " 'больше',\n",
              " 'тот',\n",
              " 'через',\n",
              " 'эти',\n",
              " 'нас',\n",
              " 'про',\n",
              " 'всего',\n",
              " 'них',\n",
              " 'какая',\n",
              " 'много',\n",
              " 'разве',\n",
              " 'три',\n",
              " 'эту',\n",
              " 'моя',\n",
              " 'впрочем',\n",
              " 'хорошо',\n",
              " 'свою',\n",
              " 'этой',\n",
              " 'перед',\n",
              " 'иногда',\n",
              " 'лучше',\n",
              " 'чуть',\n",
              " 'том',\n",
              " 'нельзя',\n",
              " 'такой',\n",
              " 'им',\n",
              " 'более',\n",
              " 'всегда',\n",
              " 'конечно',\n",
              " 'всю',\n",
              " 'между']"
            ]
          },
          "metadata": {
            "tags": []
          },
          "execution_count": 114
        }
      ]
    },
    {
      "cell_type": "code",
      "metadata": {
        "colab": {
          "base_uri": "https://localhost:8080/"
        },
        "id": "qaU1vEKET_M2",
        "outputId": "07f311be-c800-4ca8-f06f-fd4ac8968c2b"
      },
      "source": [
        "count_vectorizer = CountVectorizer(stop_words=s)\r\n",
        "bow = count_vectorizer.fit_transform(texts)\r\n",
        "count_vectorizer.vocabulary_"
      ],
      "execution_count": 115,
      "outputs": [
        {
          "output_type": "execute_result",
          "data": {
            "text/plain": [
              "{'2014': 0,\n",
              " 'аналитического': 1,\n",
              " 'безопасности': 2,\n",
              " 'входит': 3,\n",
              " 'году': 4,\n",
              " 'деятельности': 5,\n",
              " 'защиты': 6,\n",
              " 'институт': 7,\n",
              " 'информационной': 8,\n",
              " 'информационных': 9,\n",
              " 'киберпространства': 10,\n",
              " 'комплексной': 11,\n",
              " 'мирэа': 12,\n",
              " 'национального': 13,\n",
              " 'национальной': 14,\n",
              " 'обеспечения': 15,\n",
              " 'области': 16,\n",
              " 'образован': 17,\n",
              " 'подготовке': 18,\n",
              " 'правового': 19,\n",
              " 'правоохранительной': 20,\n",
              " 'приборостроения': 21,\n",
              " 'программных': 22,\n",
              " 'профильный': 23,\n",
              " 'российского': 24,\n",
              " 'систем': 25,\n",
              " 'состав': 26,\n",
              " 'специального': 27,\n",
              " 'технологий': 28,\n",
              " 'технологического': 29,\n",
              " 'университета': 30,\n",
              " 'экономической': 31,\n",
              " 'это': 32}"
            ]
          },
          "metadata": {
            "tags": []
          },
          "execution_count": 115
        }
      ]
    },
    {
      "cell_type": "code",
      "metadata": {
        "colab": {
          "base_uri": "https://localhost:8080/"
        },
        "id": "OtstTqcVUHMm",
        "outputId": "5b807ce8-e849-46ce-a05e-ef4edeb1ee64"
      },
      "source": [
        "bow.todense()"
      ],
      "execution_count": 116,
      "outputs": [
        {
          "output_type": "execute_result",
          "data": {
            "text/plain": [
              "matrix([[1, 0, 1, 1, 1, 0, 0, 1, 0, 0, 0, 1, 0, 0, 0, 0, 0, 1, 0, 0, 0,\n",
              "         1, 0, 0, 0, 0, 0, 1, 0, 0, 0, 0, 0],\n",
              "        [0, 0, 0, 0, 0, 0, 0, 1, 0, 0, 0, 0, 1, 0, 0, 0, 0, 0, 1, 0, 0,\n",
              "         0, 0, 1, 1, 0, 1, 0, 0, 1, 1, 0, 1],\n",
              "        [0, 0, 1, 0, 0, 0, 1, 0, 1, 0, 1, 0, 0, 1, 0, 1, 1, 0, 0, 0, 0,\n",
              "         0, 0, 0, 0, 0, 0, 0, 0, 0, 0, 0, 0],\n",
              "        [0, 0, 2, 0, 0, 1, 0, 0, 0, 0, 0, 0, 0, 0, 1, 1, 0, 0, 0, 1, 1,\n",
              "         0, 0, 0, 0, 0, 0, 0, 0, 0, 0, 1, 0],\n",
              "        [0, 1, 0, 0, 0, 0, 0, 0, 0, 1, 0, 0, 0, 0, 0, 0, 0, 0, 0, 0, 0,\n",
              "         1, 1, 0, 0, 1, 0, 1, 1, 0, 0, 0, 0]])"
            ]
          },
          "metadata": {
            "tags": []
          },
          "execution_count": 116
        }
      ]
    },
    {
      "cell_type": "markdown",
      "metadata": {
        "id": "hXiSU6d-UUKg"
      },
      "source": [
        "**Параметр min_df**\r\n",
        "\r\n",
        "Помимо стоп-слов есть и другие способы отсечения лишнего. Например, можно откидывать слова, которые встречаются слишком редко, с помощью параметра min_df. Установив min_df=2 мы откинем, все слова, которые встречаются менее, чем в 2 документах.*Курсив*"
      ]
    },
    {
      "cell_type": "code",
      "metadata": {
        "colab": {
          "base_uri": "https://localhost:8080/"
        },
        "id": "WaZxSNZ5UdKX",
        "outputId": "2103b915-f0aa-42c7-ae51-007c8b7ca67a"
      },
      "source": [
        "count_vectorizer = CountVectorizer(min_df=2)\r\n",
        "bow = count_vectorizer.fit_transform(texts)\r\n",
        "count_vectorizer.vocabulary_"
      ],
      "execution_count": 117,
      "outputs": [
        {
          "output_type": "execute_result",
          "data": {
            "text/plain": [
              "{'безопасности': 0,\n",
              " 'институт': 1,\n",
              " 'обеспечения': 2,\n",
              " 'приборостроения': 3,\n",
              " 'специального': 4}"
            ]
          },
          "metadata": {
            "tags": []
          },
          "execution_count": 117
        }
      ]
    },
    {
      "cell_type": "markdown",
      "metadata": {
        "id": "xWjIIEHfUlY3"
      },
      "source": [
        "**Биграммы, триграммы, n-граммы**\r\n",
        "\r\n",
        "По умолчанию bag-of-words (как следует из названия) представляет собой просто мешок слов. То есть для него предложения \"It's not good, it's bad!\" и \"It's not bad, it's good!\" абсолютно эквивалентны. Понятно, что при этом теряется много информации. Можно рассматривать не только отдельные слова, а последовательности длиной из 2 слов (биграммы), из 3 слов (триграммы) или в общем случае из n слов (n-граммы). На практике обычно задаётся диапазон от 1 до n.\r\n",
        "\r\n",
        "Рассмотрим пример:"
      ]
    },
    {
      "cell_type": "code",
      "metadata": {
        "colab": {
          "base_uri": "https://localhost:8080/"
        },
        "id": "YKK-21dIUufB",
        "outputId": "b37225ff-7a71-4d91-f596-4ab6e81ddfc4"
      },
      "source": [
        "count_vectorizer = CountVectorizer(ngram_range=(1,3), min_df=2)\r\n",
        "bow = count_vectorizer.fit_transform(texts)\r\n",
        "count_vectorizer.vocabulary_"
      ],
      "execution_count": 118,
      "outputs": [
        {
          "output_type": "execute_result",
          "data": {
            "text/plain": [
              "{'безопасности': 0,\n",
              " 'институт': 1,\n",
              " 'обеспечения': 2,\n",
              " 'приборостроения': 3,\n",
              " 'специального': 4}"
            ]
          },
          "metadata": {
            "tags": []
          },
          "execution_count": 118
        }
      ]
    },
    {
      "cell_type": "code",
      "metadata": {
        "colab": {
          "base_uri": "https://localhost:8080/"
        },
        "id": "ZN1QJfRtUz4h",
        "outputId": "4c5e61e2-11f7-4f30-e14d-1223b46dd44b"
      },
      "source": [
        "count_vectorizer = CountVectorizer(ngram_range=(1,2),min_df=2)\r\n",
        "bow = count_vectorizer.fit_transform(texts)\r\n",
        "count_vectorizer.vocabulary_"
      ],
      "execution_count": 119,
      "outputs": [
        {
          "output_type": "execute_result",
          "data": {
            "text/plain": [
              "{'безопасности': 0,\n",
              " 'институт': 1,\n",
              " 'обеспечения': 2,\n",
              " 'приборостроения': 3,\n",
              " 'специального': 4}"
            ]
          },
          "metadata": {
            "tags": []
          },
          "execution_count": 119
        }
      ]
    },
    {
      "cell_type": "markdown",
      "metadata": {
        "id": "NI_ua-SJU45R"
      },
      "source": [
        "**Ограничение количества признаков**\r\n",
        "\r\n",
        "Понятно, что с ростом n количество выделенных n-грамм быстро растёт. Для ограничения количества признаков можно использовать параметр max_features. В этом случае будет создано не более max_features признаков (будут выбраны самые часто встречающиеся слова и последовательности слов). Например:"
      ]
    },
    {
      "cell_type": "code",
      "metadata": {
        "colab": {
          "base_uri": "https://localhost:8080/"
        },
        "id": "M5C67ID8U4L3",
        "outputId": "31b1e206-27c4-49ae-a47e-8784e818d209"
      },
      "source": [
        "count_vectorizer = CountVectorizer(ngram_range=(1,2), max_features=25)\r\n",
        "bow = count_vectorizer.fit_transform(texts)\r\n",
        "count_vectorizer.vocabulary_"
      ],
      "execution_count": 120,
      "outputs": [
        {
          "output_type": "execute_result",
          "data": {
            "text/plain": [
              "{'2014': 0,\n",
              " 'безопасности': 1,\n",
              " 'институт': 2,\n",
              " 'обеспечения': 3,\n",
              " 'образован 2014': 4,\n",
              " 'по': 5,\n",
              " 'по подготовке': 6,\n",
              " 'подготовке': 7,\n",
              " 'правового': 8,\n",
              " 'правового обеспечения': 9,\n",
              " 'правоохранительной': 10,\n",
              " 'правоохранительной деятельности': 11,\n",
              " 'приборостроения': 12,\n",
              " 'приборостроения образован': 13,\n",
              " 'программных': 14,\n",
              " 'программных систем': 15,\n",
              " 'профильный': 16,\n",
              " 'профильный институт': 17,\n",
              " 'российского': 18,\n",
              " 'систем': 19,\n",
              " 'систем специального': 20,\n",
              " 'состав': 21,\n",
              " 'состав мирэа': 22,\n",
              " 'специального': 23,\n",
              " 'специального аналитического': 24}"
            ]
          },
          "metadata": {
            "tags": []
          },
          "execution_count": 120
        }
      ]
    },
    {
      "cell_type": "markdown",
      "metadata": {
        "id": "klN_zix5Vqir"
      },
      "source": [
        "TF-IDF\r\n",
        "\r\n",
        "У подхода bag-of-words есть существенный недостаток. Если слово встречается 5 раз в конкретном документе, но и в других документах тоже встречается часто, то его наличие в документе не особо-то о чём-то говорит. Если же слово 5 раз встречается в конкретном документе, но в других документах встречается редко, то его наличие (да ещё и многократное) позволяет хорошо отличать этот документ от других. Однако с точки зрения bag-of-words различий не будет: в обеих ячейках будет просто число 5.\r\n",
        "\r\n",
        "Отчасти это решается исключением стоп-слов (и слишком часто встречающихся слов), но лишь отчасти. Другой идеей является отмасштабировать получившуюся таблицу с учётом \"редкости\" слова в наборе документов (т.е. с учётом информативности слова).\r\n",
        "\r\n",
        "tfidf=tf∗idf\r\n",
        "\r\n",
        "idf=log((N+1)/(Nw+1))+1\r\n",
        "\r\n",
        "Здесь tf это частота слова в тексте (то же самое, что в bag of words), N - общее число документов, Nw - число документов, содержащих данное слово.\r\n",
        "\r\n",
        "То есть для каждого слова считается отношение общего количества документов к количеству документов, содержащих данное слово (для частых слов оно будет ближе к 1, для редких слов оно будет стремиться к числу, равному количеству документов), и на логарифм от этого числа умножается исходное значение bag-of-words (к числителю и знаменателю прибавляется единичка, чтобы не делить на 0, и к логарифму тоже прибавляется единичка, но это уже технические детали). После этого в sklearn ещё проводится L2-нормализация каждой строки.\r\n",
        "\r\n",
        "В sklearn есть класс для поддержки TF-IDF: TfidfVectorizer, рассмотрим его."
      ]
    },
    {
      "cell_type": "code",
      "metadata": {
        "colab": {
          "base_uri": "https://localhost:8080/"
        },
        "id": "PFgHUfhAVu60",
        "outputId": "1e71a0f5-63dc-4faf-c33f-e5341c2874ba"
      },
      "source": [
        "from sklearn.feature_extraction.text import TfidfVectorizer\r\n",
        "tfidf_vectorizer = TfidfVectorizer()\r\n",
        "tfidf = tfidf_vectorizer.fit_transform(texts)\r\n",
        "tfidf_vectorizer.vocabulary_"
      ],
      "execution_count": 121,
      "outputs": [
        {
          "output_type": "execute_result",
          "data": {
            "text/plain": [
              "{'2014': 0,\n",
              " 'аналитического': 1,\n",
              " 'безопасности': 2,\n",
              " 'входит': 3,\n",
              " 'году': 4,\n",
              " 'деятельности': 5,\n",
              " 'защиты': 6,\n",
              " 'институт': 7,\n",
              " 'информационной': 8,\n",
              " 'информационных': 9,\n",
              " 'киберпространства': 10,\n",
              " 'комплексной': 11,\n",
              " 'мирэа': 12,\n",
              " 'национального': 13,\n",
              " 'национальной': 14,\n",
              " 'обеспечения': 15,\n",
              " 'области': 16,\n",
              " 'образован': 17,\n",
              " 'по': 18,\n",
              " 'подготовке': 19,\n",
              " 'правового': 20,\n",
              " 'правоохранительной': 21,\n",
              " 'приборостроения': 22,\n",
              " 'программных': 23,\n",
              " 'профильный': 24,\n",
              " 'российского': 25,\n",
              " 'систем': 26,\n",
              " 'состав': 27,\n",
              " 'специального': 28,\n",
              " 'технологий': 29,\n",
              " 'технологического': 30,\n",
              " 'университета': 31,\n",
              " 'экономической': 32,\n",
              " 'это': 33}"
            ]
          },
          "metadata": {
            "tags": []
          },
          "execution_count": 121
        }
      ]
    },
    {
      "cell_type": "markdown",
      "metadata": {
        "id": "o2sBI_ZuV9KL"
      },
      "source": [
        "Словарь содержит те же 48 значений, которые были бы и для CountVectorizer. Но значения в таблице другие:"
      ]
    },
    {
      "cell_type": "code",
      "metadata": {
        "colab": {
          "base_uri": "https://localhost:8080/"
        },
        "id": "dTLZXXx4V-2x",
        "outputId": "d7c0bff7-098e-4bd8-861a-5bd0d6163891"
      },
      "source": [
        "tfidf.todense()"
      ],
      "execution_count": 122,
      "outputs": [
        {
          "output_type": "execute_result",
          "data": {
            "text/plain": [
              "matrix([[0.36757597, 0.        , 0.24616991, 0.36757597, 0.36757597,\n",
              "         0.        , 0.        , 0.29655798, 0.        , 0.        ,\n",
              "         0.        , 0.36757597, 0.        , 0.        , 0.        ,\n",
              "         0.        , 0.        , 0.36757597, 0.        , 0.        ,\n",
              "         0.        , 0.        , 0.29655798, 0.        , 0.        ,\n",
              "         0.        , 0.        , 0.        , 0.29655798, 0.        ,\n",
              "         0.        , 0.        , 0.        , 0.        ],\n",
              "        [0.        , 0.        , 0.        , 0.        , 0.        ,\n",
              "         0.        , 0.        , 0.25970376, 0.        , 0.        ,\n",
              "         0.        , 0.        , 0.32189611, 0.        , 0.        ,\n",
              "         0.        , 0.        , 0.        , 0.32189611, 0.32189611,\n",
              "         0.        , 0.        , 0.        , 0.        , 0.32189611,\n",
              "         0.32189611, 0.        , 0.32189611, 0.        , 0.        ,\n",
              "         0.32189611, 0.32189611, 0.        , 0.32189611],\n",
              "        [0.        , 0.        , 0.271171  , 0.        , 0.        ,\n",
              "         0.        , 0.40490709, 0.        , 0.40490709, 0.        ,\n",
              "         0.40490709, 0.        , 0.        , 0.40490709, 0.        ,\n",
              "         0.32667649, 0.40490709, 0.        , 0.        , 0.        ,\n",
              "         0.        , 0.        , 0.        , 0.        , 0.        ,\n",
              "         0.        , 0.        , 0.        , 0.        , 0.        ,\n",
              "         0.        , 0.        , 0.        , 0.        ],\n",
              "        [0.        , 0.        , 0.49089245, 0.        , 0.        ,\n",
              "         0.36649537, 0.        , 0.        , 0.        , 0.        ,\n",
              "         0.        , 0.        , 0.        , 0.        , 0.36649537,\n",
              "         0.29568616, 0.        , 0.        , 0.        , 0.        ,\n",
              "         0.36649537, 0.36649537, 0.        , 0.        , 0.        ,\n",
              "         0.        , 0.        , 0.        , 0.        , 0.        ,\n",
              "         0.        , 0.        , 0.36649537, 0.        ],\n",
              "        [0.        , 0.39835162, 0.        , 0.        , 0.        ,\n",
              "         0.        , 0.        , 0.        , 0.        , 0.39835162,\n",
              "         0.        , 0.        , 0.        , 0.        , 0.        ,\n",
              "         0.        , 0.        , 0.        , 0.        , 0.        ,\n",
              "         0.        , 0.        , 0.32138758, 0.39835162, 0.        ,\n",
              "         0.        , 0.39835162, 0.        , 0.32138758, 0.39835162,\n",
              "         0.        , 0.        , 0.        , 0.        ]])"
            ]
          },
          "metadata": {
            "tags": []
          },
          "execution_count": 122
        }
      ]
    },
    {
      "cell_type": "markdown",
      "metadata": {
        "id": "MCVH2kejWC1_"
      },
      "source": [
        "Ненулевые значения находятся на тех же местах, но отмасштабированы в зависимости от частоты слов."
      ]
    },
    {
      "cell_type": "markdown",
      "metadata": {
        "id": "Kkc18HXVWE8h"
      },
      "source": [
        "**Параметр sublinear_tf**\r\n",
        "\r\n",
        "Большая часть параметров у CountVectorizer и TfidfVectorizer одинакова. Но у TfidfVectorizer есть один важный дополнительный параметр.\r\n",
        "\r\n",
        "Как видно из формулы tfidf = tf * idf, если слово будет встречаться не один, а два раза, то tfidf вырастет в два раза. Если слово будет встречаться не один, а 10 раз, то tfidf вырастет почти в 10 раз. В качестве примера добавим в третью строку ещё пару слов меньше"
      ]
    },
    {
      "cell_type": "code",
      "metadata": {
        "colab": {
          "base_uri": "https://localhost:8080/"
        },
        "id": "-O07KrJPWgJX",
        "outputId": "38a6f275-88f8-4f73-8be5-8a8e6b8214d5"
      },
      "source": [
        "texts = [\"Институт комплексной безопасности и специального приборостроения образован в 2014 году и входит\", \r\n",
        "         \"в состав МИРЭА — Российского технологического университета. Это профильный институт по подготовке\",  \r\n",
        "         \"в области обеспечения информационной безопасности, защиты национального киберпространства,\",  \r\n",
        "         \"экономической безопасности, правового обеспечения национальной безопасности и правоохранительной деятельности, \", \r\n",
        "         \"информационных технологий и программных систем, специального и аналитического приборостроения.\",]\r\n",
        "TfidfVectorizer().fit_transform(texts).todense()[2]   "
      ],
      "execution_count": 123,
      "outputs": [
        {
          "output_type": "execute_result",
          "data": {
            "text/plain": [
              "matrix([[0.        , 0.        , 0.271171  , 0.        , 0.        ,\n",
              "         0.        , 0.40490709, 0.        , 0.40490709, 0.        ,\n",
              "         0.40490709, 0.        , 0.        , 0.40490709, 0.        ,\n",
              "         0.32667649, 0.40490709, 0.        , 0.        , 0.        ,\n",
              "         0.        , 0.        , 0.        , 0.        , 0.        ,\n",
              "         0.        , 0.        , 0.        , 0.        , 0.        ,\n",
              "         0.        , 0.        , 0.        , 0.        ]])"
            ]
          },
          "metadata": {
            "tags": []
          },
          "execution_count": 123
        }
      ]
    },
    {
      "cell_type": "markdown",
      "metadata": {
        "id": "sDzW4QNxWwLD"
      },
      "source": [
        "Значение tfidf слова \"меньше\" выросло с 0.36325471 до 0.61492198, а остальные упали .\r\n",
        "\r\n",
        "Вопрос - хотим ли мы таких сильных изменений. Если не хотим, то можно использовать параметр sublinear_tf=True. При его использовании вместо tf будет браться 1 + log(tf). То есть по-прежнему с ростом tf будет расти и tfidf, но уже не так радикально (и соответственно остальные значения будут уменьшаться не так быстро). Для некоторых задач это может дать прирост в качестве."
      ]
    },
    {
      "cell_type": "code",
      "metadata": {
        "colab": {
          "base_uri": "https://localhost:8080/"
        },
        "id": "iGrrA3VhWxCB",
        "outputId": "b24649f2-0630-4854-f3c4-b082bdaa55d6"
      },
      "source": [
        "TfidfVectorizer(sublinear_tf=True).fit_transform(texts).todense()[2]"
      ],
      "execution_count": 124,
      "outputs": [
        {
          "output_type": "execute_result",
          "data": {
            "text/plain": [
              "matrix([[0.        , 0.        , 0.271171  , 0.        , 0.        ,\n",
              "         0.        , 0.40490709, 0.        , 0.40490709, 0.        ,\n",
              "         0.40490709, 0.        , 0.        , 0.40490709, 0.        ,\n",
              "         0.32667649, 0.40490709, 0.        , 0.        , 0.        ,\n",
              "         0.        , 0.        , 0.        , 0.        , 0.        ,\n",
              "         0.        , 0.        , 0.        , 0.        , 0.        ,\n",
              "         0.        , 0.        , 0.        , 0.        ]])"
            ]
          },
          "metadata": {
            "tags": []
          },
          "execution_count": 124
        }
      ]
    },
    {
      "cell_type": "markdown",
      "metadata": {
        "id": "jWKUGPVYXNNX"
      },
      "source": [
        "**Домашняя работа 2**"
      ]
    },
    {
      "cell_type": "markdown",
      "metadata": {
        "id": "iJy0j-RrZww_"
      },
      "source": [
        "Загрузим txt файл"
      ]
    },
    {
      "cell_type": "code",
      "metadata": {
        "colab": {
          "resources": {
            "http://localhost:8080/nbextensions/google.colab/files.js": {
              "data": "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",
              "ok": true,
              "headers": [
                [
                  "content-type",
                  "application/javascript"
                ]
              ],
              "status": 200,
              "status_text": ""
            }
          },
          "base_uri": "https://localhost:8080/",
          "height": 73
        },
        "id": "a6CE6pCJZheg",
        "outputId": "f3cde004-2cd5-40db-f423-8c074255a187"
      },
      "source": [
        "from google.colab import files\r\n",
        "uploaded = files.upload()"
      ],
      "execution_count": 125,
      "outputs": [
        {
          "output_type": "display_data",
          "data": {
            "text/html": [
              "\n",
              "     <input type=\"file\" id=\"files-a1a3b3dc-8a3d-4d57-b973-9b624dbf09cb\" name=\"files[]\" multiple disabled\n",
              "        style=\"border:none\" />\n",
              "     <output id=\"result-a1a3b3dc-8a3d-4d57-b973-9b624dbf09cb\">\n",
              "      Upload widget is only available when the cell has been executed in the\n",
              "      current browser session. Please rerun this cell to enable.\n",
              "      </output>\n",
              "      <script src=\"/nbextensions/google.colab/files.js\"></script> "
            ],
            "text/plain": [
              "<IPython.core.display.HTML object>"
            ]
          },
          "metadata": {
            "tags": []
          }
        },
        {
          "output_type": "stream",
          "text": [
            "Saving dz_ex.txt to dz_ex (1).txt\n"
          ],
          "name": "stdout"
        }
      ]
    },
    {
      "cell_type": "markdown",
      "metadata": {
        "id": "HKsS54GtZ0qy"
      },
      "source": [
        "создадим массив данных из загруженного файла"
      ]
    },
    {
      "cell_type": "code",
      "metadata": {
        "colab": {
          "base_uri": "https://localhost:8080/"
        },
        "id": "whOVgrlPZ6aa",
        "outputId": "efa0d334-91d5-4442-d928-b27d653e66c8"
      },
      "source": [
        "with open('dz_ex.txt', \"r\") as file_object:\r\n",
        "    texts = file_object.read()\r\n",
        "print(texts)"
      ],
      "execution_count": 126,
      "outputs": [
        {
          "output_type": "stream",
          "text": [
            "Создание безопасных интеграционных решений в информационных системах\n",
            "Подготовка магистров основывается на фундаментальных знаниях языков, методов и технологий программирования, умения практического использования их при разработке сложных информационных систем (ИС) с учётом современных требований по обеспечению информационной безопасности, надёжности функционирования, устойчивости к внешним воздействиям.\n",
            "В настоящее время рынок разработки программного обеспечения ИС характеризуется:\n",
            "Созданием программных платформ и программных экосистем\n",
            "Созданием кроссплатформенного программного обеспечения\n",
            "Созданием программного обеспечения, поддерживающего бесшовные технологии\n",
            "Развитыми библиотеками готовых программных решений, например, на основе алгоритмов машинного обучения, которые предназначены для интеграции в разрабатываемое программное обеспечение\n",
            "Наличием как готовых отдельных информационно-технологических решений, которые допускают интеграцию в состав единого программного комплекса организации, в том числе с возможностью расширения его функционала, так и современными технологиями, стандартами и практиками её реализации\n",
            "Необходимостью учитывать на всех этапах жизненного цикла ИС требования информационной безопасности. Например, разрабатываемый или интегрируемый программный компонент должен быть безопасным для всей инфраструктуры ИС –не содержать потенциальных уязвимостей, технически грамотно взаимодействовать с программно-аппаратным окружением, не снижать уровень защищённости системы в целом.\n",
            "Приведённые аспекты разработки программного обеспечения ИС легли в основу подготовки магистров по программе «Создание безопасных интеграционных решений в информационных системах», которая реализуется в соответствии с профессиональным стандартом 06.041 «Специалист по интеграции прикладных решений», утверждённый приказом Министерства труда и социальной защиты РФ от 5 сентября 2017 г. No 658н\n",
            "Профессии, которые может выбрать выпускник\n",
            "Ведущий инженер\n",
            "Ведущий инженер по интеграции прикладных решений\n",
            "Руководители служб и подразделений в сфере Информационно-коммуникационных технологий\n",
            "Разработчики и аналитики программного обеспечения и приложений\n",
            "Системный интегратор(системный архитектор)\n",
            "Профильные дисциплины\n",
            "Интеллектуальные системы и технологии\n",
            "Построение защищенных информационных систем\n",
            "Модели и методы оценки интеграционных решений\n",
            "Интеграциякомпонентов информационных систем\n",
            "Управление информационно-технологической инфраструктурой\n",
            "Построение зачищенных информационных систем\n",
            "Средства интеграционных решений\n",
            "Стандарты информационного взаимодействия систем\n",
            "Требования к программному обеспечению защищённых информационных систем\n",
            "Аудит безопасности информационных систем\n",
            "Выпускающая кафедра: КБ-2 «Прикладные информационные технологии»\n"
          ],
          "name": "stdout"
        }
      ]
    },
    {
      "cell_type": "markdown",
      "metadata": {
        "id": "2_rQ7bdtxilr"
      },
      "source": [
        "удалим знаки переноса строк и сделаем текст в нижнем регистре"
      ]
    },
    {
      "cell_type": "code",
      "metadata": {
        "id": "hIEOKhJGxeKr"
      },
      "source": [
        "  str2 = ''\r\n",
        "  for item in texts.split():\r\n",
        "    str2 = str2 + ' ' + item\r\n",
        "  texts = str(texts)\r\n",
        "  texts = texts.lower()\r\n",
        "  # print(texts)\r\n",
        "  texts = texts.replace('\\n', ' ')"
      ],
      "execution_count": 137,
      "outputs": []
    },
    {
      "cell_type": "markdown",
      "metadata": {
        "id": "0noHUfJNxy5x"
      },
      "source": [
        "удалим цифры"
      ]
    },
    {
      "cell_type": "code",
      "metadata": {
        "id": "JnKupWBnxx80"
      },
      "source": [
        "  str2 = ''\r\n",
        "  for c in texts:\r\n",
        "      if c not in ('0', \"1\", '2', '3', '4', '5', '6', '7', '8', '9', '«', '»', '–', \"\\\"\"):\r\n",
        "          str2 = str2 + c\r\n",
        "  texts = str2\r\n",
        "  str2 = ''"
      ],
      "execution_count": 135,
      "outputs": []
    },
    {
      "cell_type": "markdown",
      "metadata": {
        "id": "99rmNX2Mx6OU"
      },
      "source": [
        "удалим знаки пунктуации"
      ]
    },
    {
      "cell_type": "code",
      "metadata": {
        "id": "dWd0WHq7x5mI"
      },
      "source": [
        "import string\r\n",
        "pattern = string.punctuation\r\n",
        "for c in texts:\r\n",
        "    if c not in pattern:\r\n",
        "        str2 = str2 + c\r\n",
        "    else:\r\n",
        "        str2 = str2 + \" \"\r\n",
        "texts = str2\r\n",
        "str2 = ''"
      ],
      "execution_count": 139,
      "outputs": []
    },
    {
      "cell_type": "markdown",
      "metadata": {
        "id": "YKuMC8gLyI9s"
      },
      "source": [
        "удалим стоп слова"
      ]
    },
    {
      "cell_type": "code",
      "metadata": {
        "colab": {
          "base_uri": "https://localhost:8080/"
        },
        "id": "s2UZ3uiOXReP",
        "outputId": "9f77265c-e3bc-467d-d6ff-e8de088850e0"
      },
      "source": [
        "  from nltk.corpus import stopwords\r\n",
        "  russian_stopwords = stopwords.words(\"russian\")\r\n",
        "  for word in texts.split():\r\n",
        "      if word not in (russian_stopwords):\r\n",
        "          str2 = str2 + \" \" + word\r\n",
        "  texts = str2\r\n",
        "\r\n",
        "  str2 = ''\r\n",
        "  for word in texts.split():\r\n",
        "      if len(word) > 1:\r\n",
        "          str2 = str2 + \" \" + word\r\n",
        "  texts = str2\r\n",
        "  print(texts)"
      ],
      "execution_count": 140,
      "outputs": [
        {
          "output_type": "stream",
          "text": [
            " создание безопасных интеграционных решений информационных системах подготовка магистров основывается фундаментальных знаниях языков, методов технологий программирования, умения практического использования разработке сложных информационных систем (ис) учётом современных требований обеспечению информационной безопасности, надёжности функционирования, устойчивости внешним воздействиям. настоящее время рынок разработки программного обеспечения ис характеризуется: созданием программных платформ программных экосистем созданием кроссплатформенного программного обеспечения созданием программного обеспечения, поддерживающего бесшовные технологии развитыми библиотеками готовых программных решений, например, основе алгоритмов машинного обучения, которые предназначены интеграции разрабатываемое программное обеспечение наличием готовых отдельных информационно-технологических решений, которые допускают интеграцию состав единого программного комплекса организации, числе возможностью расширения функционала, современными технологиями, стандартами практиками её реализации необходимостью учитывать этапах жизненного цикла ис требования информационной безопасности. например, разрабатываемый интегрируемый программный компонент должен безопасным всей инфраструктуры ис содержать потенциальных уязвимостей, технически грамотно взаимодействовать программно-аппаратным окружением, снижать уровень защищённости системы целом. приведённые аспекты разработки программного обеспечения ис легли основу подготовки магистров программе создание безопасных интеграционных решений информационных системах, которая реализуется соответствии профессиональным стандартом специалист интеграции прикладных решений, утверждённый приказом министерства труда социальной защиты рф сентября г. no профессии, которые выбрать выпускник ведущий инженер ведущий инженер интеграции прикладных решений руководители служб подразделений сфере информационно-коммуникационных технологий разработчики аналитики программного обеспечения приложений системный интегратор(системный архитектор) профильные дисциплины интеллектуальные системы технологии построение защищенных информационных систем модели методы оценки интеграционных решений интеграциякомпонентов информационных систем управление информационно-технологической инфраструктурой построение зачищенных информационных систем средства интеграционных решений стандарты информационного взаимодействия систем требования программному обеспечению защищённых информационных систем аудит безопасности информационных систем выпускающая кафедра: кб- прикладные информационные технологии создание безопасных интеграционных решений информационных системах подготовка магистров основывается фундаментальных знаниях языков методов технологий программирования умения практического использования разработке сложных информационных систем ис учётом современных требований обеспечению информационной безопасности надёжности функционирования устойчивости внешним воздействиям настоящее время рынок разработки программного обеспечения ис характеризуется созданием программных платформ программных экосистем созданием кроссплатформенного программного обеспечения созданием программного обеспечения поддерживающего бесшовные технологии развитыми библиотеками готовых программных решений например основе алгоритмов машинного обучения которые предназначены интеграции разрабатываемое программное обеспечение наличием готовых отдельных информационно технологических решений которые допускают интеграцию состав единого программного комплекса организации числе возможностью расширения функционала современными технологиями стандартами практиками её реализации необходимостью учитывать этапах жизненного цикла ис требования информационной безопасности например разрабатываемый интегрируемый программный компонент должен безопасным всей инфраструктуры ис содержать потенциальных уязвимостей технически грамотно взаимодействовать программно аппаратным окружением снижать уровень защищённости системы целом приведённые аспекты разработки программного обеспечения ис легли основу подготовки магистров программе создание безопасных интеграционных решений информационных системах которая реализуется соответствии профессиональным стандартом специалист интеграции прикладных решений утверждённый приказом министерства труда социальной защиты рф сентября no профессии которые выбрать выпускник ведущий инженер ведущий инженер интеграции прикладных решений руководители служб подразделений сфере информационно коммуникационных технологий разработчики аналитики программного обеспечения приложений системный интегратор системный архитектор профильные дисциплины интеллектуальные системы технологии построение защищенных информационных систем модели методы оценки интеграционных решений интеграциякомпонентов информационных систем управление информационно технологической инфраструктурой построение зачищенных информационных систем средства интеграционных решений стандарты информационного взаимодействия систем требования программному обеспечению защищённых информационных систем аудит безопасности информационных систем выпускающая кафедра кб прикладные информационные технологии\n"
          ],
          "name": "stdout"
        }
      ]
    },
    {
      "cell_type": "markdown",
      "metadata": {
        "id": "CxdYblpjyLkO"
      },
      "source": [
        "рассчитаем TF-IDF"
      ]
    },
    {
      "cell_type": "code",
      "metadata": {
        "id": "XoQJ1ALGq3yf"
      },
      "source": [
        "records_count = 30\r\n",
        "tfIdfTransformer = TfidfVectorizer(ngram_range=(1, 4), use_idf=True, max_features=records_count)\r\n",
        "countVectorizer = CountVectorizer(ngram_range=(1, 4), max_features=records_count)\r\n",
        "wordCount = countVectorizer.fit_transform([texts])\r\n",
        "TfIdf = tfIdfTransformer.fit_transform([texts])\r\n",
        "names = countVectorizer.get_feature_names()"
      ],
      "execution_count": 141,
      "outputs": []
    },
    {
      "cell_type": "markdown",
      "metadata": {
        "id": "--q86tQ8yR7p"
      },
      "source": [
        "выведем результат на экран"
      ]
    },
    {
      "cell_type": "code",
      "metadata": {
        "colab": {
          "base_uri": "https://localhost:8080/"
        },
        "id": "PbUXJ1hRvswU",
        "outputId": "5259bab0-704e-4032-9156-4f918de3d0e1"
      },
      "source": [
        "import pandas as pd\r\n",
        "df = pd.DataFrame(list(names), columns=['names'])\r\n",
        "df = df.assign(Word_Count=wordCount.T.todense())\r\n",
        "df = df.assign(TF_IDF=TfIdf.T.todense())\r\n",
        "df = df.sort_values('TF_IDF', ascending=False)\r\n",
        "print(df)"
      ],
      "execution_count": 149,
      "outputs": [
        {
          "output_type": "stream",
          "text": [
            "                                               names  Word_Count    TF_IDF\n",
            "24                                           решений          16  0.368621\n",
            "12                                    информационных          16  0.368621\n",
            "26                                            систем          14  0.322543\n",
            "13                             информационных систем          12  0.276465\n",
            "21                                      программного          12  0.276465\n",
            "15                                                ис          10  0.230388\n",
            "22                          программного обеспечения          10  0.230388\n",
            "19                                       обеспечения          10  0.230388\n",
            "8                                     интеграционных           8  0.184310\n",
            "9                             интеграционных решений           8  0.184310\n",
            "28                                         созданием           6  0.138233\n",
            "23                                       программных           6  0.138233\n",
            "16                                           которые           6  0.138233\n",
            "0                                       безопасности           6  0.138233\n",
            "11                                     информационно           6  0.138233\n",
            "6                                         интеграции           6  0.138233\n",
            "29                                        технологии           6  0.138233\n",
            "14                           информационных системах           4  0.092155\n",
            "1                                         безопасных           4  0.092155\n",
            "17                                          например           4  0.092155\n",
            "18                                       обеспечению           4  0.092155\n",
            "10    интеграционных решений информационных системах           4  0.092155\n",
            "20                                        построение           4  0.092155\n",
            "7                              интеграции прикладных           4  0.092155\n",
            "5                                            готовых           4  0.092155\n",
            "4   безопасных интеграционных решений информационных           4  0.092155\n",
            "25                   решений информационных системах           4  0.092155\n",
            "3                  безопасных интеграционных решений           4  0.092155\n",
            "27                                          системах           4  0.092155\n",
            "2                          безопасных интеграционных           4  0.092155\n"
          ],
          "name": "stdout"
        }
      ]
    }
  ]
}