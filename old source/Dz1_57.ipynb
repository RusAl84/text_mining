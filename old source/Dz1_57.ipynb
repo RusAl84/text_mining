{
  "nbformat": 4,
  "nbformat_minor": 0,
  "metadata": {
    "colab": {
      "name": "Dz1 57.ipynb",
      "provenance": [],
      "collapsed_sections": [],
      "authorship_tag": "ABX9TyNI7mQZkR4K/q3o3CsozFzN",
      "include_colab_link": true
    },
    "kernelspec": {
      "display_name": "Python 3",
      "name": "python3"
    }
  },
  "cells": [
    {
      "cell_type": "markdown",
      "metadata": {
        "id": "view-in-github",
        "colab_type": "text"
      },
      "source": [
        "<a href=\"https://colab.research.google.com/github/RusAl84/text_mining/blob/master/Dz1_57.ipynb\" target=\"_parent\"><img src=\"https://colab.research.google.com/assets/colab-badge.svg\" alt=\"Open In Colab\"/></a>"
      ]
    },
    {
      "cell_type": "code",
      "metadata": {
        "colab": {
          "background_save": true,
          "base_uri": "https://localhost:8080/"
        },
        "id": "DnxQ2H1aBoaQ",
        "outputId": "f2b86854-125a-4ad9-a318-79e8506cd7d3"
      },
      "source": [
        "    table_perehod = [['A', '0', 'B'],\n",
        "                    ['B', 'a', 'C'],\n",
        "                    ['C', '1', 'D'],\n",
        "                    ['D', '0', 'A'],\n",
        "                    ['E', 'a', 'F'],\n",
        "                    ['F', '1', 'G'],\n",
        "                    ['G', '0', 'H'],\n",
        "                    ['H', '1', 'E'],\n",
        "                    ['K', 'a', 'L'],\n",
        "                    ['L', '0', 'M'],\n",
        "                    ['M', '0', 'N'],\n",
        "                    ['N', '1', 'K'],\n",
        "                    ['A', 'a', 'F'],\n",
        "                    ['F', '0', 'M']]\n",
        "    nachaln_simv='A' #начальный символ он у Вас скорее всего 'A'\n",
        "    kol_perehodov=len(table_perehod)\n",
        "    print(\"Дано регулярное выражение   57. (0a10)* (a101)* (a001)* \")\n",
        "    ex=\"none\"\n",
        "    while ex!=\"exit\":\n",
        "        stroka = input(\"Введите строку символов: \")\n",
        "        length = len(stroka)\n",
        "        n = 0\n",
        "        ok = True\n",
        "        neterm = nachaln_simv\n",
        "        while ok and (n < length):\n",
        "            i = 0\n",
        "            sym = stroka[n]\n",
        "            n += 1\n",
        "            ok = False\n",
        "            while True:\n",
        "                if (table_perehod[i][0] == neterm) and (table_perehod[i][1] == sym):\n",
        "                    ok = True\n",
        "                    neterm = table_perehod[i][2]\n",
        "                i += 1\n",
        "                if not((not ok) and (i < kol_perehodov)):\n",
        "                    break\n",
        "         #терминальные символы они у Вас скорее всего 'A'  'E' 'K'\n",
        "        if ((neterm == 'A') or (neterm == \"E\") or (neterm == 'K')) and ok:\n",
        "            print(\"Данная строка принадлежит языку\")\n",
        "        else:\n",
        "            print(\"Данная строка не принадлежит языку\")\n",
        "        ex=input(\"Нажмите ENTER для продолжения или exit для выхода: \")\n"
      ],
      "execution_count": null,
      "outputs": [
        {
          "output_type": "stream",
          "name": "stdout",
          "text": [
            "Дано регулярное выражение   57. (0a10)* (a101)* (a001)* \n",
            "Введите строку символов: 0a100a100a10\n",
            "Данная строка принадлежит языку\n",
            "Нажмите ENTER для продолжения или exit для выхода: Артем съел ЁЖИКА\n",
            "Введите строку символов: Артем съел ЁЖИКА\n",
            "Данная строка не принадлежит языку\n",
            "Нажмите ENTER для продолжения или exit для выхода: a101a001\n",
            "Введите строку символов: a101a001\n",
            "Данная строка принадлежит языку\n",
            "Нажмите ENTER для продолжения или exit для выхода: a001a001a001a001\n",
            "Введите строку символов: a001a001a001a001\n",
            "Данная строка принадлежит языку\n",
            "Нажмите ENTER для продолжения или exit для выхода: a001a001a0010a10\n",
            "Введите строку символов: a001a001a0010a10\n",
            "Данная строка не принадлежит языку\n",
            "Нажмите ENTER для продолжения или exit для выхода: \n",
            "Введите строку символов: 0a10a101a001\n",
            "Данная строка принадлежит языку\n"
          ]
        }
      ]
    },
    {
      "cell_type": "code",
      "metadata": {
        "id": "R4j75aJta1lH"
      },
      "source": [
        "#!pip install streamlit"
      ],
      "execution_count": null,
      "outputs": []
    }
  ]
}