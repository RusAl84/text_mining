{
  "nbformat": 4,
  "nbformat_minor": 0,
  "metadata": {
    "colab": {
      "name": "Dz1 83.ipynb",
      "provenance": [],
      "collapsed_sections": [],
      "authorship_tag": "ABX9TyNxMuijQgMJXZC1uuDJP0RW",
      "include_colab_link": true
    },
    "kernelspec": {
      "name": "python3",
      "display_name": "Python 3"
    }
  },
  "cells": [
    {
      "cell_type": "markdown",
      "metadata": {
        "id": "view-in-github",
        "colab_type": "text"
      },
      "source": [
        "<a href=\"https://colab.research.google.com/github/RusAl84/text_mining/blob/master/Dz1_83.ipynb\" target=\"_parent\"><img src=\"https://colab.research.google.com/assets/colab-badge.svg\" alt=\"Open In Colab\"/></a>"
      ]
    },
    {
      "cell_type": "markdown",
      "metadata": {
        "id": "fkCMrN_HByH1"
      },
      "source": [
        "[Текст ссылки](https://)Домашняя работа №1 83"
      ]
    },
    {
      "cell_type": "code",
      "metadata": {
        "colab": {
          "base_uri": "https://localhost:8080/"
        },
        "id": "DnxQ2H1aBoaQ",
        "outputId": "764fb4c6-a42f-4c37-ce6c-5db42586eb00"
      },
      "source": [
        "    table_perehod = [['A', 'a', 'B'],\n",
        "                    ['B', '1', 'C'],\n",
        "                    ['C', 'a', 'D'],\n",
        "                    ['D', '0', 'A'],\n",
        "                    ['E', '0', 'F'],\n",
        "                    ['F', 'a', 'G'],\n",
        "                    ['G', '0', 'H'],\n",
        "                    ['H', '1', 'E'],\n",
        "                    ['K', 'a', 'L'],\n",
        "                    ['L', '1', 'M'],\n",
        "                    ['M', '0', 'N'],\n",
        "                    ['N', '1', 'K'],\n",
        "                    ['A', '0', 'F'],\n",
        "                    ['E', 'a', 'L'],\n",
        "                    ['C', '0', 'N']]\n",
        "    nachaln_simv='A' #начальный символ он у Вас скорее всего 'A'\n",
        "    kol_perehodov=len(table_perehod)\n",
        "    print(\"Дано регулярное выражение 83 (a1a0)*(0a01)* (a101)*\")\n",
        "    ex=\"none\"\n",
        "    while ex!=\"exit\":\n",
        "        stroka = input(\"Введите строку символов: \")\n",
        "        length = len(stroka)\n",
        "        n = 0\n",
        "        ok = True\n",
        "        neterm = nachaln_simv\n",
        "        while ok and (n < length):\n",
        "            i = 0\n",
        "            sym = stroka[n]\n",
        "            n += 1\n",
        "            ok = False\n",
        "            while True:\n",
        "                if (table_perehod[i][0] == neterm) and (table_perehod[i][1] == sym):\n",
        "                    ok = True\n",
        "                    neterm = table_perehod[i][2]\n",
        "                i += 1\n",
        "                if not((not ok) and (i < kol_perehodov)):\n",
        "                    break\n",
        "         #терминальные символы они у Вас скорее всего 'A'  'E' 'K'\n",
        "        if ((neterm == 'A') or (neterm == \"E\") or (neterm == 'K')) and ok:\n",
        "            print(\"Данная строка принадлежит языку\")\n",
        "        else:\n",
        "            print(\"Данная строка не принадлежит языку\")\n",
        "        ex=input(\"Нажмите ENTER для продолжения или exit для выхода: \")\n"
      ],
      "execution_count": null,
      "outputs": [
        {
          "output_type": "stream",
          "name": "stdout",
          "text": [
            "Дано регулярное выражение 83 (a1a0)*(0a01)* (a101)*\n",
            "Введите строку символов: a101\n",
            "Данная строка принадлежит языку\n",
            "Нажмите ENTER для продолжения или exit для выхода: \n",
            "Введите строку символов: a101a101a101\n",
            "Данная строка принадлежит языку\n",
            "Нажмите ENTER для продолжения или exit для выхода: \n",
            "Введите строку символов: a1a0a1a0a1a0\n",
            "Данная строка принадлежит языку\n",
            "Нажмите ENTER для продолжения или exit для выхода: 0a010a010a01\n",
            "Введите строку символов: 0a010a010a010a01\n",
            "Данная строка принадлежит языку\n",
            "Нажмите ENTER для продолжения или exit для выхода: \n",
            "Введите строку символов: a1a00a01a101\n",
            "Данная строка принадлежит языку\n"
          ]
        }
      ]
    },
    {
      "cell_type": "code",
      "metadata": {
        "id": "R4j75aJta1lH"
      },
      "source": [
        "#!pip install streamlit"
      ],
      "execution_count": null,
      "outputs": []
    }
  ]
}