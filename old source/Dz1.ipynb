{
  "nbformat": 4,
  "nbformat_minor": 0,
  "metadata": {
    "colab": {
      "name": "Dz1.ipynb",
      "provenance": [],
      "collapsed_sections": [],
      "authorship_tag": "ABX9TyMWXXaEHG1fMJ7phADgYj2V",
      "include_colab_link": true
    },
    "kernelspec": {
      "name": "python3",
      "display_name": "Python 3"
    }
  },
  "cells": [
    {
      "cell_type": "markdown",
      "metadata": {
        "id": "view-in-github",
        "colab_type": "text"
      },
      "source": [
        "<a href=\"https://colab.research.google.com/github/RusAl84/text_analitic/blob/master/Dz1.ipynb\" target=\"_parent\"><img src=\"https://colab.research.google.com/assets/colab-badge.svg\" alt=\"Open In Colab\"/></a>"
      ]
    },
    {
      "cell_type": "markdown",
      "metadata": {
        "id": "fkCMrN_HByH1"
      },
      "source": [
        "Домашняя работа №1"
      ]
    },
    {
      "cell_type": "code",
      "metadata": {
        "colab": {
          "base_uri": "https://localhost:8080/"
        },
        "id": "DnxQ2H1aBoaQ",
        "outputId": "152ba93b-79d1-47f9-d833-4d9db994913c"
      },
      "source": [
        "    table_perehod = [['S', '2', 'A'],\r\n",
        "                    ['A', '2', 'B'],\r\n",
        "                    ['B', '1', 'C'],\r\n",
        "                    ['C', 'b', 'S'],\r\n",
        "                    ['S', 'b', 'D'],\r\n",
        "                    ['D', '2', 'E'],\r\n",
        "                    ['E', '1', 'F'],\r\n",
        "                    ['F', 'b', 'D'],\r\n",
        "                    ['F', '2', 'K'],\r\n",
        "                    ['B', '2', 'K'],\r\n",
        "                    ['K', '2', 'L'],\r\n",
        "                    ['L', '2', 'M'],\r\n",
        "                    ['M', '2', 'L']]\r\n",
        "    nachaln_simv='S' #начальный символ он у Вас скорее всего 'A'\r\n",
        "    kol_perehodov=len(table_perehod)\r\n",
        "    print(\"Дано регулярное выражение (221b)*(b21)* (22)*\")\r\n",
        "    ex=\"none\"\r\n",
        "    while ex!=\"exit\":\r\n",
        "        stroka = input(\"Введите строку символов: \")\r\n",
        "        length = len(stroka)\r\n",
        "        n = 0\r\n",
        "        ok = True\r\n",
        "        neterm = nachaln_simv\r\n",
        "        while ok and (n < length):\r\n",
        "            i = 0\r\n",
        "            sym = stroka[n]\r\n",
        "            n += 1\r\n",
        "            ok = False\r\n",
        "            while True:\r\n",
        "                if (table_perehod[i][0] == neterm) and (table_perehod[i][1] == sym):\r\n",
        "                    ok = True\r\n",
        "                    neterm = table_perehod[i][2]\r\n",
        "                i += 1\r\n",
        "                if not((not ok) and (i < kol_perehodov)):\r\n",
        "                    break\r\n",
        "         #терминальные символы они у Вас скорее всего 'A'  'E' 'K'\r\n",
        "        if ((neterm == 'S') or (neterm == \"B\") or (neterm == 'F') or (neterm == 'L')) and ok:\r\n",
        "            print(\"Данная строка принадлежит языку\")\r\n",
        "        else:\r\n",
        "            print(\"Данная строка не принадлежит языку\")\r\n",
        "        ex=input(\"Нажмите ENTER для продолжения или exit для выхода: \")\r\n"
      ],
      "execution_count": 1,
      "outputs": [
        {
          "output_type": "stream",
          "text": [
            "Дано регулярное выражение (221b)*(b21)* (22)*\n",
            "Введите строку символов: 22\n",
            "Данная строка принадлежит языку\n",
            "Нажмите ENTER для продолжения или exit для выхода: \n",
            "Введите строку символов: exit\n",
            "Данная строка не принадлежит языку\n",
            "Нажмите ENTER для продолжения или exit для выхода: exit\n"
          ],
          "name": "stdout"
        }
      ]
    }
  ]
}