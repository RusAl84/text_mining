{
  "nbformat": 4,
  "nbformat_minor": 0,
  "metadata": {
    "colab": {
      "name": "DZ5 NER Natasha recognition.ipynb",
      "provenance": [],
      "collapsed_sections": [],
      "authorship_tag": "ABX9TyM23OihvzF05Fn4W1EfeKMh",
      "include_colab_link": true
    },
    "kernelspec": {
      "name": "python3",
      "display_name": "Python 3"
    },
    "language_info": {
      "name": "python"
    }
  },
  "cells": [
    {
      "cell_type": "markdown",
      "metadata": {
        "id": "view-in-github",
        "colab_type": "text"
      },
      "source": [
        "<a href=\"https://colab.research.google.com/github/RusAl84/text_analitic/blob/master/DZ5_NER_Natasha_recognition.ipynb\" target=\"_parent\"><img src=\"https://colab.research.google.com/assets/colab-badge.svg\" alt=\"Open In Colab\"/></a>"
      ]
    },
    {
      "cell_type": "markdown",
      "metadata": {
        "id": "6wZCOqRtHBZQ"
      },
      "source": [
        "**Natasha — качественное компактное решение для извлечения именованных сущностей из новостных статей на русском языке**  \n",
        "Библиотека Natasha решает базовые задачи обработки естественного русского языка: сегментация на токены и предложения, морфологический и синтаксический анализ, лемматизация, извлечение именованных сущностей. Для новостных статей качество на всех задачах сравнимо или превосходит существующие решения. Библиотека поддерживает Python 3.5+ и PyPy3, не требует GPU, зависит только от NumPy."
      ]
    },
    {
      "cell_type": "markdown",
      "metadata": {
        "id": "HdoidMkyGSTa"
      },
      "source": [
        "Проект Natasha — набор Python-библиотек для обработки текстов на естественном русском языке   \n",
        "https://pypi.org/project/natasha/  \n",
        "Библиотеки  \n",
        "**Natasha**  \n",
        "Решает базовые задачи обработки естественного русского языка: сегментация на токены и предложения, морфологический и синтаксический анализ, лемматизация, извлечение, нормализация именованных сущностей.\n",
        "**Yargy**  \n",
        "Аналог яндексового Томита-парсера. Использует словари и правила, извлекает структурированную информацию из текстов на естественном русском языке.  \n",
        "**Razdel**  \n",
        "Делит текст на слова и предложения.  \n",
        "**Corus**  \n",
        "Коллекция ссылок на публичные русскоязычные датасеты.  \n",
        "**Navec**  \n",
        "Набор компактных предобученных эмбеддингов для русского языка.  \n",
        "**Slovnet**  \n",
        "Компактные модели для обработки естественного русского языка: морфологический теггер, синтаксический парсер, NER-теггер.  \n",
        "**Ipymarkup**  \n",
        "Инструменты для визуализации NER-разметки и синтаксических связей.\n",
        "**Nerus**  \n",
        "Большой корпус с автоматической разметкой именованных сущностей, морфологии и синтаксиса.  \n",
        "**Naeval**  \n",
        "Сравнение инструментов проекта Natasha с другими открытыми решениями.  \n"
      ]
    },
    {
      "cell_type": "markdown",
      "metadata": {
        "id": "LfCpcgyrFXQE"
      },
      "source": [
        "Natasha supports Python 3.5+ and PyPy3:"
      ]
    },
    {
      "cell_type": "code",
      "metadata": {
        "colab": {
          "base_uri": "https://localhost:8080/"
        },
        "id": "wCXVH0m7FO7V",
        "outputId": "cc0afaed-832b-4d0d-f8ca-43df3fa8eda0"
      },
      "source": [
        "!pip install natasha"
      ],
      "execution_count": 1,
      "outputs": [
        {
          "output_type": "stream",
          "text": [
            "Collecting natasha\n",
            "\u001b[?25l  Downloading https://files.pythonhosted.org/packages/51/8e/ab0745100be276750fb6b8858c6180a1756696572295a74eb5aea77f3bbd/natasha-1.4.0-py3-none-any.whl (34.4MB)\n",
            "\u001b[K     |████████████████████████████████| 34.4MB 119kB/s \n",
            "\u001b[?25hCollecting pymorphy2\n",
            "\u001b[?25l  Downloading https://files.pythonhosted.org/packages/07/57/b2ff2fae3376d4f3c697b9886b64a54b476e1a332c67eee9f88e7f1ae8c9/pymorphy2-0.9.1-py3-none-any.whl (55kB)\n",
            "\u001b[K     |████████████████████████████████| 61kB 5.7MB/s \n",
            "\u001b[?25hCollecting yargy>=0.14.0\n",
            "\u001b[?25l  Downloading https://files.pythonhosted.org/packages/d3/46/bc1a17200a55f4b0608f39ac64f1840fd4a52f9eeea462d9afecbf71246b/yargy-0.15.0-py3-none-any.whl (41kB)\n",
            "\u001b[K     |████████████████████████████████| 51kB 5.2MB/s \n",
            "\u001b[?25hCollecting navec>=0.9.0\n",
            "  Downloading https://files.pythonhosted.org/packages/bc/c1/771ec5565f0ce24874d7fd325b429f9caa80517a40d2e4ce5705120591f3/navec-0.10.0-py3-none-any.whl\n",
            "Collecting razdel>=0.5.0\n",
            "  Downloading https://files.pythonhosted.org/packages/15/2c/664223a3924aa6e70479f7d37220b3a658765b9cfe760b4af7ffdc50d38f/razdel-0.5.0-py3-none-any.whl\n",
            "Collecting ipymarkup>=0.8.0\n",
            "  Downloading https://files.pythonhosted.org/packages/bf/9b/bf54c98d50735a4a7c84c71e92c5361730c878ebfe903d2c2d196ef66055/ipymarkup-0.9.0-py3-none-any.whl\n",
            "Collecting slovnet>=0.3.0\n",
            "\u001b[?25l  Downloading https://files.pythonhosted.org/packages/a9/3b/f1ef495be8990004959dd0510c95f688d1b07529f6a862bc56a405770b26/slovnet-0.5.0-py3-none-any.whl (49kB)\n",
            "\u001b[K     |████████████████████████████████| 51kB 5.2MB/s \n",
            "\u001b[?25hRequirement already satisfied: docopt>=0.6 in /usr/local/lib/python3.7/dist-packages (from pymorphy2->natasha) (0.6.2)\n",
            "Collecting dawg-python>=0.7.1\n",
            "  Downloading https://files.pythonhosted.org/packages/6a/84/ff1ce2071d4c650ec85745766c0047ccc3b5036f1d03559fd46bb38b5eeb/DAWG_Python-0.7.2-py2.py3-none-any.whl\n",
            "Collecting pymorphy2-dicts-ru<3.0,>=2.4\n",
            "\u001b[?25l  Downloading https://files.pythonhosted.org/packages/3a/79/bea0021eeb7eeefde22ef9e96badf174068a2dd20264b9a378f2be1cdd9e/pymorphy2_dicts_ru-2.4.417127.4579844-py2.py3-none-any.whl (8.2MB)\n",
            "\u001b[K     |████████████████████████████████| 8.2MB 30.7MB/s \n",
            "\u001b[?25hRequirement already satisfied: numpy in /usr/local/lib/python3.7/dist-packages (from navec>=0.9.0->natasha) (1.19.5)\n",
            "Collecting intervaltree>=3\n",
            "  Downloading https://files.pythonhosted.org/packages/50/fb/396d568039d21344639db96d940d40eb62befe704ef849b27949ded5c3bb/intervaltree-3.1.0.tar.gz\n",
            "Requirement already satisfied: sortedcontainers<3.0,>=2.0 in /usr/local/lib/python3.7/dist-packages (from intervaltree>=3->ipymarkup>=0.8.0->natasha) (2.3.0)\n",
            "Building wheels for collected packages: intervaltree\n",
            "  Building wheel for intervaltree (setup.py) ... \u001b[?25l\u001b[?25hdone\n",
            "  Created wheel for intervaltree: filename=intervaltree-3.1.0-py2.py3-none-any.whl size=26102 sha256=2541bbb1f7d99b746f739868ad42de1dd2e8b6209c3a3dac72a1a691985eadbd\n",
            "  Stored in directory: /root/.cache/pip/wheels/f3/f2/66/e9c30d3e9499e65ea2fa0d07c002e64de63bd0adaa49c445bf\n",
            "Successfully built intervaltree\n",
            "Installing collected packages: dawg-python, pymorphy2-dicts-ru, pymorphy2, yargy, navec, razdel, intervaltree, ipymarkup, slovnet, natasha\n",
            "  Found existing installation: intervaltree 2.1.0\n",
            "    Uninstalling intervaltree-2.1.0:\n",
            "      Successfully uninstalled intervaltree-2.1.0\n",
            "Successfully installed dawg-python-0.7.2 intervaltree-3.1.0 ipymarkup-0.9.0 natasha-1.4.0 navec-0.10.0 pymorphy2-0.9.1 pymorphy2-dicts-ru-2.4.417127.4579844 razdel-0.5.0 slovnet-0.5.0 yargy-0.15.0\n"
          ],
          "name": "stdout"
        }
      ]
    },
    {
      "cell_type": "markdown",
      "metadata": {
        "id": "J3kM1o4xFe4b"
      },
      "source": [
        "Usage\n",
        "For more examples and explanation see Natasha documentation."
      ]
    },
    {
      "cell_type": "code",
      "metadata": {
        "id": "e12weXLFGFpU"
      },
      "source": [
        "from natasha import (\n",
        "    Segmenter,\n",
        "    MorphVocab,\n",
        "\n",
        "    NewsEmbedding,\n",
        "    NewsMorphTagger,\n",
        "    NewsSyntaxParser,\n",
        "    NewsNERTagger,\n",
        "\n",
        "    PER,\n",
        "    NamesExtractor,\n",
        "\n",
        "    Doc\n",
        ")\n",
        "\n",
        "\n",
        "#######\n",
        "#\n",
        "#  INIT\n",
        "#\n",
        "#####\n"
      ],
      "execution_count": 2,
      "outputs": []
    },
    {
      "cell_type": "code",
      "metadata": {
        "colab": {
          "base_uri": "https://localhost:8080/",
          "height": 187
        },
        "id": "A4R9lYK2GHs4",
        "outputId": "9c8b2644-268d-411f-df01-170cd536d52d"
      },
      "source": [
        "\n",
        "segmenter = Segmenter()\n",
        "morph_vocab = MorphVocab()\n",
        "\n",
        "emb = NewsEmbedding()\n",
        "morph_tagger = NewsMorphTagger(emb)\n",
        "syntax_parser = NewsSyntaxParser(emb)\n",
        "ner_tagger = NewsNERTagger(emb)\n",
        "\n",
        "names_extractor = NamesExtractor(morph_vocab)\n",
        "\n",
        "text = 'Посол Израиля на Украине Йоэль Лион признался, что пришел в шок, узнав о решении властей Львовской области объявить 2019 год годом лидера запрещенной в России Организации украинских националистов (ОУН) Степана Бандеры. Свое заявление он разместил в Twitter. «Я не могу понять, как прославление тех, кто непосредственно принимал участие в ужасных антисемитских преступлениях, помогает бороться с антисемитизмом и ксенофобией. Украина не должна забывать о преступлениях, совершенных против украинских евреев, и никоим образом не отмечать их через почитание их исполнителей», — написал дипломат. 11 декабря Львовский областной совет принял решение провозгласить 2019 год в регионе годом Степана Бандеры в связи с празднованием 110-летия со дня рождения лидера ОУН (Бандера родился 1 января 1909 года). В июле аналогичное решение принял Житомирский областной совет. В начале месяца с предложением к президенту страны Петру Порошенко вернуть Бандере звание Героя Украины обратились депутаты Верховной Рады. Парламентарии уверены, что признание Бандеры национальным героем поможет в борьбе с подрывной деятельностью против Украины в информационном поле, а также остановит «распространение мифов, созданных российской пропагандой». Степан Бандера (1909-1959) был одним из лидеров Организации украинских националистов, выступающей за создание независимого государства на территориях с украиноязычным населением. В 2010 году в период президентства Виктора Ющенко Бандера был посмертно признан Героем Украины, однако впоследствии это решение было отменено судом. '\n",
        "doc = Doc(text)\n",
        "\n",
        "\n",
        "#######\n",
        "#\n",
        "#  SEGMENT\n",
        "#\n",
        "#####\n",
        "\n",
        "\n",
        "doc.segment(segmenter)\n",
        "display(doc.tokens[:5])\n",
        "display(doc.sents[:5])"
      ],
      "execution_count": 4,
      "outputs": [
        {
          "output_type": "display_data",
          "data": {
            "text/plain": [
              "[DocToken(stop=5, text='Посол'),\n",
              " DocToken(start=6, stop=13, text='Израиля'),\n",
              " DocToken(start=14, stop=16, text='на'),\n",
              " DocToken(start=17, stop=24, text='Украине'),\n",
              " DocToken(start=25, stop=30, text='Йоэль')]"
            ]
          },
          "metadata": {
            "tags": []
          }
        },
        {
          "output_type": "display_data",
          "data": {
            "text/plain": [
              "[DocSent(stop=218, text='Посол Израиля на Украине Йоэль Лион признался, чт..., tokens=[...]),\n",
              " DocSent(start=219, stop=257, text='Свое заявление он разместил в Twitter.', tokens=[...]),\n",
              " DocSent(start=258, stop=424, text='«Я не могу понять, как прославление тех, кто непо..., tokens=[...]),\n",
              " DocSent(start=425, stop=592, text='Украина не должна забывать о преступлениях, совер..., tokens=[...]),\n",
              " DocSent(start=593, stop=798, text='11 декабря Львовский областной совет принял решен..., tokens=[...])]"
            ]
          },
          "metadata": {
            "tags": []
          }
        }
      ]
    },
    {
      "cell_type": "code",
      "metadata": {
        "colab": {
          "base_uri": "https://localhost:8080/",
          "height": 714
        },
        "id": "VfrkisnyHNfF",
        "outputId": "22547287-ae35-4601-8b0e-ead94ec47a68"
      },
      "source": [
        "\n",
        "#######\n",
        "#\n",
        "#   MORPH\n",
        "#\n",
        "#####\n",
        "\n",
        "\n",
        "doc.tag_morph(morph_tagger)\n",
        "display(doc.tokens[:5])\n",
        "doc.sents[0].morph.print()"
      ],
      "execution_count": 5,
      "outputs": [
        {
          "output_type": "display_data",
          "data": {
            "text/plain": [
              "[DocToken(stop=5, text='Посол', pos='NOUN', feats=<Anim,Nom,Masc,Sing>),\n",
              " DocToken(start=6, stop=13, text='Израиля', pos='PROPN', feats=<Inan,Gen,Masc,Sing>),\n",
              " DocToken(start=14, stop=16, text='на', pos='ADP'),\n",
              " DocToken(start=17, stop=24, text='Украине', pos='PROPN', feats=<Inan,Loc,Fem,Sing>),\n",
              " DocToken(start=25, stop=30, text='Йоэль', pos='PROPN', feats=<Anim,Nom,Masc,Sing>)]"
            ]
          },
          "metadata": {
            "tags": []
          }
        },
        {
          "output_type": "stream",
          "text": [
            "               Посол NOUN|Animacy=Anim|Case=Nom|Gender=Masc|Number=Sing\n",
            "             Израиля PROPN|Animacy=Inan|Case=Gen|Gender=Masc|Number=Sing\n",
            "                  на ADP\n",
            "             Украине PROPN|Animacy=Inan|Case=Loc|Gender=Fem|Number=Sing\n",
            "               Йоэль PROPN|Animacy=Anim|Case=Nom|Gender=Masc|Number=Sing\n",
            "                Лион PROPN|Animacy=Anim|Case=Nom|Gender=Masc|Number=Sing\n",
            "           признался VERB|Aspect=Perf|Gender=Masc|Mood=Ind|Number=Sing|Tense=Past|VerbForm=Fin|Voice=Mid\n",
            "                   , PUNCT\n",
            "                 что SCONJ\n",
            "              пришел VERB|Aspect=Perf|Gender=Masc|Mood=Ind|Number=Sing|Tense=Past|VerbForm=Fin|Voice=Act\n",
            "                   в ADP\n",
            "                 шок NOUN|Animacy=Inan|Case=Acc|Gender=Masc|Number=Sing\n",
            "                   , PUNCT\n",
            "               узнав VERB|Aspect=Perf|Tense=Past|VerbForm=Conv|Voice=Act\n",
            "                   о ADP\n",
            "             решении NOUN|Animacy=Inan|Case=Loc|Gender=Neut|Number=Sing\n",
            "             властей NOUN|Animacy=Inan|Case=Gen|Gender=Fem|Number=Plur\n",
            "           Львовской ADJ|Case=Gen|Degree=Pos|Gender=Fem|Number=Sing\n",
            "             области NOUN|Animacy=Inan|Case=Gen|Gender=Fem|Number=Sing\n",
            "            объявить VERB|Aspect=Perf|VerbForm=Inf|Voice=Act\n",
            "                2019 ADJ\n",
            "                 год NOUN|Animacy=Inan|Case=Acc|Gender=Masc|Number=Sing\n",
            "               годом NOUN|Animacy=Inan|Case=Ins|Gender=Masc|Number=Sing\n",
            "              лидера NOUN|Animacy=Anim|Case=Gen|Gender=Masc|Number=Sing\n",
            "         запрещенной VERB|Aspect=Perf|Case=Gen|Gender=Fem|Number=Sing|Tense=Past|VerbForm=Part|Voice=Pass\n",
            "                   в ADP\n",
            "              России PROPN|Animacy=Inan|Case=Loc|Gender=Fem|Number=Sing\n",
            "         Организации PROPN|Animacy=Inan|Case=Gen|Gender=Fem|Number=Sing\n",
            "          украинских ADJ|Case=Gen|Degree=Pos|Number=Plur\n",
            "       националистов NOUN|Animacy=Anim|Case=Gen|Gender=Masc|Number=Plur\n",
            "                   ( PUNCT\n",
            "                 ОУН PROPN|Animacy=Inan|Case=Nom|Gender=Fem|Number=Sing\n",
            "                   ) PUNCT\n",
            "             Степана PROPN|Animacy=Anim|Case=Gen|Gender=Masc|Number=Sing\n",
            "             Бандеры PROPN|Animacy=Anim|Case=Gen|Gender=Masc|Number=Sing\n",
            "                   . PUNCT\n"
          ],
          "name": "stdout"
        }
      ]
    },
    {
      "cell_type": "code",
      "metadata": {
        "colab": {
          "base_uri": "https://localhost:8080/",
          "height": 1000
        },
        "id": "1O_ZIBnHHVuj",
        "outputId": "53a8a139-45d2-477f-8517-22b023940d3e"
      },
      "source": [
        "######\n",
        "#\n",
        "#  LEMMA\n",
        "#\n",
        "#######\n",
        "\n",
        "\n",
        "for token in doc.tokens:\n",
        "     token.lemmatize(morph_vocab)\n",
        "\n",
        "display(doc.tokens[:5])\n",
        "{_.text: _.lemma for _ in doc.tokens}"
      ],
      "execution_count": 6,
      "outputs": [
        {
          "output_type": "display_data",
          "data": {
            "text/plain": [
              "[DocToken(stop=5, text='Посол', pos='NOUN', feats=<Anim,Nom,Masc,Sing>, lemma='посол'),\n",
              " DocToken(start=6, stop=13, text='Израиля', pos='PROPN', feats=<Inan,Gen,Masc,Sing>, lemma='израиль'),\n",
              " DocToken(start=14, stop=16, text='на', pos='ADP', lemma='на'),\n",
              " DocToken(start=17, stop=24, text='Украине', pos='PROPN', feats=<Inan,Loc,Fem,Sing>, lemma='украина'),\n",
              " DocToken(start=25, stop=30, text='Йоэль', pos='PROPN', feats=<Anim,Nom,Masc,Sing>, lemma='йоэль')]"
            ]
          },
          "metadata": {
            "tags": []
          }
        },
        {
          "output_type": "execute_result",
          "data": {
            "text/plain": [
              "{'(': '(',\n",
              " ')': ')',\n",
              " ',': ',',\n",
              " '.': '.',\n",
              " '1': '1',\n",
              " '11': '11',\n",
              " '110-летия': '110-летие',\n",
              " '1909': '1909',\n",
              " '1909-1959': '1909-1959',\n",
              " '2010': '2010',\n",
              " '2019': '2019',\n",
              " 'Twitter': 'twitter',\n",
              " '«': '«',\n",
              " '»': '»',\n",
              " 'Бандера': 'бандера',\n",
              " 'Бандере': 'бандера',\n",
              " 'Бандеры': 'бандера',\n",
              " 'В': 'в',\n",
              " 'Верховной': 'верховный',\n",
              " 'Виктора': 'виктор',\n",
              " 'Героем': 'герой',\n",
              " 'Героя': 'герой',\n",
              " 'Житомирский': 'житомирский',\n",
              " 'Израиля': 'израиль',\n",
              " 'Йоэль': 'йоэль',\n",
              " 'Лион': 'лион',\n",
              " 'Львовский': 'львовский',\n",
              " 'Львовской': 'львовский',\n",
              " 'ОУН': 'оун',\n",
              " 'Организации': 'организация',\n",
              " 'Парламентарии': 'парламентарий',\n",
              " 'Петру': 'петр',\n",
              " 'Порошенко': 'порошенко',\n",
              " 'Посол': 'посол',\n",
              " 'Рады': 'рада',\n",
              " 'России': 'россия',\n",
              " 'Свое': 'свой',\n",
              " 'Степан': 'степан',\n",
              " 'Степана': 'степан',\n",
              " 'Украина': 'украина',\n",
              " 'Украине': 'украина',\n",
              " 'Украины': 'украина',\n",
              " 'Ющенко': 'ющенко',\n",
              " 'Я': 'я',\n",
              " 'а': 'а',\n",
              " 'аналогичное': 'аналогичный',\n",
              " 'антисемитизмом': 'антисемитизм',\n",
              " 'антисемитских': 'антисемитский',\n",
              " 'бороться': 'бороться',\n",
              " 'борьбе': 'борьба',\n",
              " 'был': 'быть',\n",
              " 'было': 'быть',\n",
              " 'в': 'в',\n",
              " 'вернуть': 'вернуть',\n",
              " 'властей': 'власть',\n",
              " 'впоследствии': 'впоследствии',\n",
              " 'выступающей': 'выступать',\n",
              " 'героем': 'герой',\n",
              " 'год': 'год',\n",
              " 'года': 'год',\n",
              " 'годом': 'год',\n",
              " 'году': 'год',\n",
              " 'государства': 'государство',\n",
              " 'декабря': 'декабрь',\n",
              " 'депутаты': 'депутат',\n",
              " 'деятельностью': 'деятельность',\n",
              " 'дипломат': 'дипломат',\n",
              " 'дня': 'день',\n",
              " 'должна': 'должный',\n",
              " 'евреев': 'еврей',\n",
              " 'за': 'за',\n",
              " 'забывать': 'забывать',\n",
              " 'запрещенной': 'запретить',\n",
              " 'заявление': 'заявление',\n",
              " 'звание': 'звание',\n",
              " 'и': 'и',\n",
              " 'из': 'из',\n",
              " 'информационном': 'информационный',\n",
              " 'исполнителей': 'исполнитель',\n",
              " 'их': 'они',\n",
              " 'июле': 'июль',\n",
              " 'к': 'к',\n",
              " 'как': 'как',\n",
              " 'ксенофобией': 'ксенофобия',\n",
              " 'кто': 'кто',\n",
              " 'лидера': 'лидер',\n",
              " 'лидеров': 'лидер',\n",
              " 'месяца': 'месяц',\n",
              " 'мифов': 'миф',\n",
              " 'могу': 'мочь',\n",
              " 'на': 'на',\n",
              " 'написал': 'написать',\n",
              " 'населением': 'население',\n",
              " 'националистов': 'националист',\n",
              " 'национальным': 'национальный',\n",
              " 'начале': 'начало',\n",
              " 'не': 'не',\n",
              " 'независимого': 'независимый',\n",
              " 'непосредственно': 'непосредственно',\n",
              " 'никоим': 'никой',\n",
              " 'о': 'о',\n",
              " 'области': 'область',\n",
              " 'областной': 'областной',\n",
              " 'образом': 'образ',\n",
              " 'обратились': 'обратиться',\n",
              " 'объявить': 'объявить',\n",
              " 'однако': 'однако',\n",
              " 'одним': 'один',\n",
              " 'он': 'он',\n",
              " 'остановит': 'остановить',\n",
              " 'отменено': 'отменить',\n",
              " 'отмечать': 'отмечать',\n",
              " 'период': 'период',\n",
              " 'подрывной': 'подрывной',\n",
              " 'поле': 'поле',\n",
              " 'помогает': 'помогать',\n",
              " 'поможет': 'помочь',\n",
              " 'понять': 'понять',\n",
              " 'посмертно': 'посмертно',\n",
              " 'почитание': 'почитание',\n",
              " 'празднованием': 'празднование',\n",
              " 'предложением': 'предложение',\n",
              " 'президентства': 'президентство',\n",
              " 'президенту': 'президент',\n",
              " 'преступлениях': 'преступление',\n",
              " 'признался': 'признаться',\n",
              " 'признан': 'признать',\n",
              " 'признание': 'признание',\n",
              " 'принимал': 'принимать',\n",
              " 'принял': 'принять',\n",
              " 'пришел': 'прийти',\n",
              " 'провозгласить': 'провозгласить',\n",
              " 'пропагандой': 'пропаганда',\n",
              " 'прославление': 'прославление',\n",
              " 'против': 'против',\n",
              " 'разместил': 'разместить',\n",
              " 'распространение': 'распространение',\n",
              " 'регионе': 'регион',\n",
              " 'решение': 'решение',\n",
              " 'решении': 'решение',\n",
              " 'родился': 'родиться',\n",
              " 'рождения': 'рождение',\n",
              " 'российской': 'российский',\n",
              " 'с': 'с',\n",
              " 'связи': 'связь',\n",
              " 'со': 'с',\n",
              " 'совершенных': 'совершить',\n",
              " 'совет': 'совет',\n",
              " 'создание': 'создание',\n",
              " 'созданных': 'создать',\n",
              " 'страны': 'страна',\n",
              " 'судом': 'суд',\n",
              " 'также': 'также',\n",
              " 'территориях': 'территория',\n",
              " 'тех': 'тот',\n",
              " 'уверены': 'уверить',\n",
              " 'ужасных': 'ужасный',\n",
              " 'узнав': 'узнать',\n",
              " 'украиноязычным': 'украиноязычный',\n",
              " 'украинских': 'украинский',\n",
              " 'участие': 'участие',\n",
              " 'через': 'через',\n",
              " 'что': 'что',\n",
              " 'шок': 'шок',\n",
              " 'это': 'это',\n",
              " 'января': 'январь',\n",
              " '—': '—'}"
            ]
          },
          "metadata": {
            "tags": []
          },
          "execution_count": 6
        }
      ]
    },
    {
      "cell_type": "code",
      "metadata": {
        "colab": {
          "base_uri": "https://localhost:8080/",
          "height": 714
        },
        "id": "zL7M3vF1HgCE",
        "outputId": "61b3764d-cc0c-4104-ba2c-e76fbc06f08a"
      },
      "source": [
        "#######\n",
        "#\n",
        "#  SYNTAX\n",
        "#\n",
        "######\n",
        "\n",
        "\n",
        "doc.parse_syntax(syntax_parser)\n",
        "display(doc.tokens[:5])\n",
        "doc.sents[0].syntax.print()"
      ],
      "execution_count": 7,
      "outputs": [
        {
          "output_type": "display_data",
          "data": {
            "text/plain": [
              "[DocToken(stop=5, text='Посол', id='1_1', head_id='1_7', rel='nsubj', pos='NOUN', feats=<Anim,Nom,Masc,Sing>, lemma='посол'),\n",
              " DocToken(start=6, stop=13, text='Израиля', id='1_2', head_id='1_1', rel='nmod', pos='PROPN', feats=<Inan,Gen,Masc,Sing>, lemma='израиль'),\n",
              " DocToken(start=14, stop=16, text='на', id='1_3', head_id='1_4', rel='case', pos='ADP', lemma='на'),\n",
              " DocToken(start=17, stop=24, text='Украине', id='1_4', head_id='1_1', rel='nmod', pos='PROPN', feats=<Inan,Loc,Fem,Sing>, lemma='украина'),\n",
              " DocToken(start=25, stop=30, text='Йоэль', id='1_5', head_id='1_1', rel='appos', pos='PROPN', feats=<Anim,Nom,Masc,Sing>, lemma='йоэль')]"
            ]
          },
          "metadata": {
            "tags": []
          }
        },
        {
          "output_type": "stream",
          "text": [
            "        ┌──► Посол         nsubj\n",
            "        │    Израиля       \n",
            "        │ ┌► на            case\n",
            "        │ └─ Украине       \n",
            "        │ ┌─ Йоэль         \n",
            "        │ └► Лион          flat:name\n",
            "┌─────┌─└─── признался     \n",
            "│     │ ┌──► ,             punct\n",
            "│     │ │ ┌► что           mark\n",
            "│     └►└─└─ пришел        ccomp\n",
            "│     │   ┌► в             case\n",
            "│     └──►└─ шок           obl\n",
            "│         ┌► ,             punct\n",
            "│ ┌────►┌─└─ узнав         advcl\n",
            "│ │     │ ┌► о             case\n",
            "│ │ ┌───└►└─ решении       obl\n",
            "│ │ │ ┌─└──► властей       nmod\n",
            "│ │ │ │   ┌► Львовской     amod\n",
            "│ │ │ └──►└─ области       nmod\n",
            "│ └─└►┌─┌─── объявить      nmod\n",
            "│     │ │ ┌► 2019          amod\n",
            "│     │ └►└─ год           obj\n",
            "│     └──►┌─ годом         obl\n",
            "│   ┌─────└► лидера        nmod\n",
            "│   │ ┌►┌─── запрещенной   acl\n",
            "│   │ │ │ ┌► в             case\n",
            "│   │ │ └►└─ России        obl\n",
            "│ ┌─└►└─┌─── Организации   nmod\n",
            "│ │     │ ┌► украинских    amod\n",
            "│ │   ┌─└►└─ националистов nmod\n",
            "│ │   │   ┌► (             punct\n",
            "│ │   └►┌─└─ ОУН           parataxis\n",
            "│ │     └──► )             punct\n",
            "│ └──────►┌─ Степана       appos\n",
            "│         └► Бандеры       flat:name\n",
            "└──────────► .             punct\n"
          ],
          "name": "stdout"
        }
      ]
    },
    {
      "cell_type": "code",
      "metadata": {
        "colab": {
          "base_uri": "https://localhost:8080/",
          "height": 799
        },
        "id": "5rifJHAGHhiD",
        "outputId": "61a9d3e5-edf1-4c7d-a6b2-4d556ae2d2c6"
      },
      "source": [
        "\n",
        "#######\n",
        "#\n",
        "#   NER\n",
        "#\n",
        "######\n",
        "\n",
        "\n",
        "doc.tag_ner(ner_tagger)\n",
        "display(doc.spans[:5])\n",
        "doc.ner.print()"
      ],
      "execution_count": 8,
      "outputs": [
        {
          "output_type": "display_data",
          "data": {
            "text/plain": [
              "[DocSpan(start=6, stop=13, type='LOC', text='Израиля', tokens=[...]),\n",
              " DocSpan(start=17, stop=24, type='LOC', text='Украине', tokens=[...]),\n",
              " DocSpan(start=25, stop=35, type='PER', text='Йоэль Лион', tokens=[...]),\n",
              " DocSpan(start=89, stop=106, type='LOC', text='Львовской области', tokens=[...]),\n",
              " DocSpan(start=152, stop=158, type='LOC', text='России', tokens=[...])]"
            ]
          },
          "metadata": {
            "tags": []
          }
        },
        {
          "output_type": "stream",
          "text": [
            "Посол Израиля на Украине Йоэль Лион признался, что пришел в шок, узнав\n",
            "      LOC────    LOC──── PER───────                                   \n",
            " о решении властей Львовской области объявить 2019 год годом лидера \n",
            "                   LOC──────────────                                \n",
            "запрещенной в России Организации украинских националистов (ОУН) \n",
            "              LOC─── ORG─────────────────────────────────────── \n",
            "Степана Бандеры. Свое заявление он разместил в Twitter. «Я не могу \n",
            "PER────────────                                ORG────             \n",
            "понять, как прославление тех, кто непосредственно принимал участие в \n",
            "ужасных антисемитских преступлениях, помогает бороться с \n",
            "антисемитизмом и ксенофобией. Украина не должна забывать о \n",
            "                              LOC────                      \n",
            "преступлениях, совершенных против украинских евреев, и никоим образом \n",
            "не отмечать их через почитание их исполнителей», — написал дипломат. \n",
            "11 декабря Львовский областной совет принял решение провозгласить 2019\n",
            "           ORG──────────────────────                                  \n",
            " год в регионе годом Степана Бандеры в связи с празднованием 110-летия\n",
            "                     PER────────────                                  \n",
            " со дня рождения лидера ОУН (Бандера родился 1 января 1909 года). В \n",
            "                        ORG                                         \n",
            "июле аналогичное решение принял Житомирский областной совет. В начале \n",
            "                                ORG────────────────────────           \n",
            "месяца с предложением к президенту страны Петру Порошенко вернуть \n",
            "                                          PER────────────         \n",
            "Бандере звание Героя Украины обратились депутаты Верховной Рады. \n",
            "PER────              LOC────                     ORG───────────  \n",
            "Парламентарии уверены, что признание Бандеры национальным героем \n",
            "                                     PER────                     \n",
            "поможет в борьбе с подрывной деятельностью против Украины в \n",
            "                                                  LOC────   \n",
            "информационном поле, а также остановит «распространение мифов, \n",
            "созданных российской пропагандой». Степан Бандера (1909-1959) был \n",
            "                                   PER───────────                 \n",
            "одним из лидеров Организации украинских националистов, выступающей за \n",
            "                 ORG─────────────────────────────────                 \n",
            "создание независимого государства на территориях с украиноязычным \n",
            "населением. В 2010 году в период президентства Виктора Ющенко Бандера \n",
            "                                               PER─────────── PER──── \n",
            "был посмертно признан Героем Украины, однако впоследствии это решение \n",
            "                             LOC────                                  \n",
            "было отменено судом. \n"
          ],
          "name": "stdout"
        }
      ]
    },
    {
      "cell_type": "code",
      "metadata": {
        "colab": {
          "base_uri": "https://localhost:8080/",
          "height": 323
        },
        "id": "wRNtLRhKH4DF",
        "outputId": "add3ad21-2cf1-4a7c-e4d2-080f2a5976eb"
      },
      "source": [
        "#######\n",
        "#\n",
        "#   PHRASE NORM\n",
        "#\n",
        "#######\n",
        "\n",
        "\n",
        "for span in doc.spans:\n",
        "  span.normalize(morph_vocab)\n",
        "display(doc.spans[:5])\n",
        "{_.text: _.normal for _ in doc.spans if _.text != _.normal}"
      ],
      "execution_count": 11,
      "outputs": [
        {
          "output_type": "display_data",
          "data": {
            "text/plain": [
              "[DocSpan(start=6, stop=13, type='LOC', text='Израиля', tokens=[...], normal='Израиль'),\n",
              " DocSpan(start=17, stop=24, type='LOC', text='Украине', tokens=[...], normal='Украина'),\n",
              " DocSpan(start=25, stop=35, type='PER', text='Йоэль Лион', tokens=[...], normal='Йоэль Лион'),\n",
              " DocSpan(start=89, stop=106, type='LOC', text='Львовской области', tokens=[...], normal='Львовская область'),\n",
              " DocSpan(start=152, stop=158, type='LOC', text='России', tokens=[...], normal='Россия')]"
            ]
          },
          "metadata": {
            "tags": []
          }
        },
        {
          "output_type": "execute_result",
          "data": {
            "text/plain": [
              "{'Бандере': 'Бандера',\n",
              " 'Бандеры': 'Бандера',\n",
              " 'Верховной Рады': 'Верховная Рада',\n",
              " 'Виктора Ющенко': 'Виктор Ющенко',\n",
              " 'Израиля': 'Израиль',\n",
              " 'Львовской области': 'Львовская область',\n",
              " 'Организации украинских националистов': 'Организация украинских националистов',\n",
              " 'Организации украинских националистов (ОУН)': 'Организация украинских националистов (ОУН)',\n",
              " 'Петру Порошенко': 'Петр Порошенко',\n",
              " 'России': 'Россия',\n",
              " 'Степана Бандеры': 'Степан Бандера',\n",
              " 'Украине': 'Украина',\n",
              " 'Украины': 'Украина'}"
            ]
          },
          "metadata": {
            "tags": []
          },
          "execution_count": 11
        }
      ]
    },
    {
      "cell_type": "code",
      "metadata": {
        "colab": {
          "base_uri": "https://localhost:8080/",
          "height": 187
        },
        "id": "RAtou9MQIFt2",
        "outputId": "44a76f38-7073-4faa-cccb-63547af9b041"
      },
      "source": [
        "#######\n",
        "#\n",
        "#  FACT\n",
        "#\n",
        "######\n",
        "\n",
        "\n",
        "for span in doc.spans:\n",
        "   if span.type == PER:\n",
        "       span.extract_fact(names_extractor)\n",
        "\n",
        "display(doc.spans[:5])\n",
        "{_.normal: _.fact.as_dict for _ in doc.spans if _.type == PER}"
      ],
      "execution_count": 12,
      "outputs": [
        {
          "output_type": "display_data",
          "data": {
            "text/plain": [
              "[DocSpan(start=6, stop=13, type='LOC', text='Израиля', tokens=[...], normal='Израиль'),\n",
              " DocSpan(start=17, stop=24, type='LOC', text='Украине', tokens=[...], normal='Украина'),\n",
              " DocSpan(start=25, stop=35, type='PER', text='Йоэль Лион', tokens=[...], normal='Йоэль Лион', fact=DocFact(slots=[...])),\n",
              " DocSpan(start=89, stop=106, type='LOC', text='Львовской области', tokens=[...], normal='Львовская область'),\n",
              " DocSpan(start=152, stop=158, type='LOC', text='России', tokens=[...], normal='Россия')]"
            ]
          },
          "metadata": {
            "tags": []
          }
        },
        {
          "output_type": "execute_result",
          "data": {
            "text/plain": [
              "{'Бандера': {'last': 'Бандера'},\n",
              " 'Виктор Ющенко': {'first': 'Виктор', 'last': 'Ющенко'},\n",
              " 'Йоэль Лион': {'first': 'Йоэль', 'last': 'Лион'},\n",
              " 'Петр Порошенко': {'first': 'Петр', 'last': 'Порошенко'},\n",
              " 'Степан Бандера': {'first': 'Степан', 'last': 'Бандера'}}"
            ]
          },
          "metadata": {
            "tags": []
          },
          "execution_count": 12
        }
      ]
    }
  ]
}