{
  "nbformat": 4,
  "nbformat_minor": 0,
  "metadata": {
    "colab": {
      "provenance": [],
      "authorship_tag": "ABX9TyOP1/a8kRRQ+k6ibgq0L6LU",
      "include_colab_link": true
    },
    "kernelspec": {
      "name": "python3",
      "display_name": "Python 3"
    },
    "language_info": {
      "name": "python"
    }
  },
  "cells": [
    {
      "cell_type": "markdown",
      "metadata": {
        "id": "view-in-github",
        "colab_type": "text"
      },
      "source": [
        "<a href=\"https://colab.research.google.com/github/RusAl84/text_mining/blob/master/pract1_get_mirea_shedule_var3.ipynb\" target=\"_parent\"><img src=\"https://colab.research.google.com/assets/colab-badge.svg\" alt=\"Open In Colab\"/></a>"
      ]
    },
    {
      "cell_type": "code",
      "execution_count": 4,
      "metadata": {
        "id": "L5WD1FriV5XX"
      },
      "outputs": [],
      "source": [
        "from bs4 import BeautifulSoup\n",
        "import requests\n",
        "import urllib.parse\n",
        "\n",
        "\n",
        "def get_urls(url):\n",
        "    page = requests.get(url)\n",
        "    # if page.status_code == 200:\n",
        "    #     print(url + \" 200\")\n",
        "\n",
        "    soup = BeautifulSoup(page.text, \"html.parser\")\n",
        "    insts = []\n",
        "\n",
        "    # /html/body/div[2]/div[2]/div/div/div[2]/div[4]/div[1]/div/ul[2]/li[1]/div/div[4]/div\n",
        "    #tab-content > li.uk-active > div > div:nth-child(4) > div\n",
        "    # <div class=\"uk-card slider_ads uk-card-body uk-card-small\">\n",
        "    blocks = soup.findAll(True, {\"class\": [\"uk-card\", \"slider_ads\", \"uk-card-body\", \"uk-card-small\"]})\n",
        "\n",
        "    urls = []\n",
        "    num_inst = 0\n",
        "    for block in blocks:\n",
        "        soup_inst = BeautifulSoup(str(block), \"html.parser\")\n",
        "        inst = soup_inst.find_all(\"a\", {\"class\": \"uk-text-bold\"})\n",
        "        if len(inst) > 0:\n",
        "            # print(inst[0].text)  # список институтов\n",
        "\n",
        "            # if inst[0].text == 'Институт кибербезопасности и цифровых технологий' \\\n",
        "            #         or inst[0].text == 'Институт перспективных технологий и индустриального программирования' \\\n",
        "            #         or inst[0].text == 'Институт технологий управления':\n",
        "            if inst[0].text == 'Институт перспективных технологий и индустриального программирования':\n",
        "                num_inst += 1\n",
        "                num = 1\n",
        "                for link in soup_inst.find_all('a', href=True):\n",
        "                    # print(link['href'])\n",
        "                    if \"javascript:void(0)\" not in link['href']:\n",
        "                        # print(link['href'])\n",
        "                        url = []\n",
        "                        url.append(link['href'])\n",
        "                        url.append(str(num_inst) + \"_\" + str(num) + \"_k_osen_22_23.xls\")\n",
        "                        url.append(inst[0].text)\n",
        "                        num += 1\n",
        "                        if \"pdf\" not in link['href']:\n",
        "                            urls.append(url)\n",
        "                            # print(url)\n",
        "    return urls\n"
      ]
    },
    {
      "cell_type": "code",
      "source": [
        "url = \"https://www.mirea.ru/schedule/\"\n",
        "urls = get_urls(url)\n",
        "print(urls[0][2])\n",
        "for item in urls:\n",
        "  print(item[0])\n"
      ],
      "metadata": {
        "colab": {
          "base_uri": "https://localhost:8080/"
        },
        "id": "85UQf4b_WySK",
        "outputId": "e9e414e4-3380-4bb7-c778-95d53483054c"
      },
      "execution_count": 7,
      "outputs": [
        {
          "output_type": "stream",
          "name": "stdout",
          "text": [
            "Институт перспективных технологий и индустриального программирования\n",
            "https://webservices.mirea.ru/upload/iblock/74f/v62e7dap5f6hy8gt5klkfi1nr3vvwh3v/IPTIP_1-kurs_tandem_10.09.xlsx\n",
            "https://webservices.mirea.ru/upload/iblock/8bb/n2hbxqenz1a8zhpfiqdoqypk4s1cvdh3/IPTIP_2-kurs_tandem_10.09.xlsx\n",
            "https://webservices.mirea.ru/upload/iblock/0b2/i6yo1ozka4r2hlekmqnliceoz0qfix4h/IPTIP_3-kurs_tandem_10.09.xlsx\n",
            "https://webservices.mirea.ru/upload/iblock/05e/xk8cx033etvwu1us8ar07padxwwh9g4q/IPTIP_4-kurs_tandem_10.09.xlsx\n",
            "https://webservices.mirea.ru/upload/iblock/b6b/tvfe7dahcdwh93fwsiaa1jhfznyovvln/IPTIP_5-kurs_tandem_10.09.xlsx\n",
            "https://webservices.mirea.ru/upload/iblock/6c7/66hwupn8vwq4mc37e9i085jkzlkr5e3q/IPTIP_Stromynka_1_k_osen_23.xlsx\n",
            "https://webservices.mirea.ru/upload/iblock/2f1/1fc2dj414ulf498171na2f4i1gghnj1d/IPTIP_Stromynka_2_k_osen_23.xlsx\n",
            "https://webservices.mirea.ru/upload/iblock/7bb/a2cc33i9udvce5ujf0qf471f2c3p3n2e/IPTIP_Stromynka_3_k_osen_23.xlsx\n",
            "https://webservices.mirea.ru/upload/iblock/3a8/doxinzsg7wq8cufffy56v0gkyv8otg4l/IPTIP_Stromynka_4_k_osen_23.xlsx\n",
            "https://webservices.mirea.ru/upload/iblock/32a/2hkd0m67g9f2ouz2zwxclap7zletooz3/IPTIP_mag_1kurs_osen_2023_2024.xlsx\n",
            "https://webservices.mirea.ru/upload/iblock/c2f/dam5fs1muq9g35z2gfvp6dbp6nb6hgft/IPTIP_mag_2kurs_osen_2023_2024.xlsx\n",
            "https://webservices.mirea.ru/upload/iblock/2e5/ryh0erwv8gqqxm7dcnb3p4ns5tr1fjg8/IPTIP_raspisanie_zanyatiy_osen_2023_Stromynka_magi_1_kurs_.xlsx\n",
            "https://webservices.mirea.ru/upload/iblock/f4b/sleye46ox1kg910y5hc80lxuj8b8pb4b/IPTIP_Stromynka_mag_2_kurs_.xlsx\n"
          ]
        }
      ]
    }
  ]
}